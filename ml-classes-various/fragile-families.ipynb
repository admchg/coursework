{
 "cells": [
  {
   "cell_type": "markdown",
   "metadata": {},
   "source": [
    "## Initial import"
   ]
  },
  {
   "cell_type": "code",
   "execution_count": 1,
   "metadata": {
    "collapsed": true
   },
   "outputs": [],
   "source": [
    "import pandas\n",
    "import time\n",
    "import numpy as np\n",
    "from sklearn import linear_model\n",
    "\n",
    "import matplotlib.pyplot as plt"
   ]
  },
  {
   "cell_type": "code",
   "execution_count": 2,
   "metadata": {
    "collapsed": true
   },
   "outputs": [],
   "source": [
    "# import all initial data\n",
    "ff_all_withID = pandas.read_csv(\"FFChallenge_v4/background.csv\", low_memory=False)\n",
    "ff_all_withID.cf4fint = ((pandas.to_datetime(ff_all_withID.cf4fint) - pandas.to_datetime('1960-01-01')) / np.timedelta64(1, 'D')).astype(int) # date fix\n",
    "\n",
    "ff_train_outcomes_withID = pandas.read_csv(\"FFChallenge_v4/train.csv\", low_memory=False)\n",
    "\n",
    "# array of challenge IDs\n",
    "train_cID = ff_train_outcomes_withID[:][\"challengeID\"]\n",
    "all_cID = ff_all_withID[:][\"challengeID\"]\n",
    "\n",
    "# drop non-numeric columns for regression\n",
    "ff_all_withID = ff_all_withID.select_dtypes(include=['int64','float64'])\n",
    "ff_train_outcomes_withID = ff_train_outcomes_withID.select_dtypes(include=['int64','float64'])"
   ]
  },
  {
   "cell_type": "code",
   "execution_count": 3,
   "metadata": {
    "collapsed": true
   },
   "outputs": [],
   "source": [
    "# select training set\n",
    "\n",
    "ff_train_withID = ff_all_withID[ff_all_withID.challengeID.isin(train_cID)]"
   ]
  },
  {
   "cell_type": "code",
   "execution_count": 4,
   "metadata": {
    "collapsed": true
   },
   "outputs": [],
   "source": [
    "# drop challenge IDs for regression\n",
    "\n",
    "ff_train = ff_train_withID.drop('challengeID', axis=1)\n",
    "ff_all = ff_all_withID.drop('challengeID', axis=1)\n",
    "ff_train_outcomes = ff_train_outcomes_withID.drop('challengeID', axis=1)"
   ]
  },
  {
   "cell_type": "markdown",
   "metadata": {},
   "source": [
    "## Script to output predictions for upload in specified format"
   ]
  },
  {
   "cell_type": "code",
   "execution_count": 5,
   "metadata": {
    "collapsed": true
   },
   "outputs": [],
   "source": [
    "# outputs in format for upload\n",
    "def predictionCreate(predictID,predictOutcomes,filename):\n",
    "    \n",
    "    # joins challenge IDs with predicted values\n",
    "    def cIDjoin(cIDlist,outcomes):\n",
    "        joined = np.empty([len(cIDlist),outcomes.shape[1]+1])\n",
    "        for i in range(0,len(cIDlist)):\n",
    "            joined[i] = np.append(cIDlist[i],outcomes[i])\n",
    "\n",
    "        return joined\n",
    "    \n",
    "    \n",
    "    zipin = \"output/\" + filename\n",
    "    \n",
    "    import os\n",
    "    if not os.path.exists(zipin):\n",
    "        os.makedirs(zipin)\n",
    "    \n",
    "    from shutil import copyfile\n",
    "    from shutil import make_archive\n",
    "\n",
    "    nardst = \"output/\" + filename + \"/narrative.txt\"\n",
    "    pydst = \"output/\" + filename + \"/a2.ipynb\"\n",
    "    copyfile(\"narrative.txt\", nardst)\n",
    "    copyfile(\"a2.ipynb\", pydst)\n",
    "    \n",
    "    a = cIDjoin(predictID,predictOutcomes)\n",
    "    a = a[a[:,0].argsort()]\n",
    "    \n",
    "    path = \"output/\" + filename + \"/prediction.csv\"\n",
    "    \n",
    "    d = pandas.DataFrame(a)\n",
    "    d.columns = [\"challengeID\",\"gpa\",\"grit\",\"materialHardship\",\"eviction\",\"layoff\",\"jobTraining\"]\n",
    "    d['challengeID'] = d['challengeID'].astype(np.int64)\n",
    "    #print(d)\n",
    "    \n",
    "    d.to_csv(path,index=False)\n",
    "    \n",
    "    zipdst = \"submit/\" + filename\n",
    "    make_archive(zipdst, 'zip', zipin)"
   ]
  },
  {
   "cell_type": "markdown",
   "metadata": {},
   "source": [
    "## Basic imputation"
   ]
  },
  {
   "cell_type": "code",
   "execution_count": 6,
   "metadata": {
    "collapsed": true
   },
   "outputs": [],
   "source": [
    "# basic imputation from given script\n",
    "\n",
    "def imputBasic(indf):\n",
    "    \n",
    "    # replace NA's with mode\n",
    "    indf = indf.fillna(indf.mode().iloc[0])\n",
    "    # if still NA, replace with 1\n",
    "    indf = indf.fillna(value=1)\n",
    "    # replace negative values with 1\n",
    "    num = indf._get_numeric_data()\n",
    "    num[num < 0] = 1\n",
    "    \n",
    "    return indf"
   ]
  },
  {
   "cell_type": "code",
   "execution_count": 8,
   "metadata": {},
   "outputs": [
    {
     "name": "stdout",
     "output_type": "stream",
     "text": [
      "Time to impute: 20.58816123008728\n",
      "Time to impute: 24.82143545150757\n"
     ]
    }
   ],
   "source": [
    "# using basic imputation --> set b1\n",
    "\n",
    "start_time = time.time()\n",
    "ff_train_b1 = imputBasic(ff_train)\n",
    "ff_train_outcomes_b1 = imputBasic(ff_train_outcomes)\n",
    "ff_all_b1 = imputBasic(ff_all)\n",
    "print ('Time to impute:', str(time.time() - start_time))\n",
    "\n",
    "start_time = time.time()\n",
    "ff_train_b1_withID = imputBasic(ff_train_withID)\n",
    "ff_train_outcomes_b1_withID = imputBasic(ff_train_outcomes_withID)\n",
    "ff_all_b1_withID = imputBasic(ff_all_withID)\n",
    "print ('Time to impute:', str(time.time() - start_time))"
   ]
  },
  {
   "cell_type": "markdown",
   "metadata": {},
   "source": [
    "## Regression methods"
   ]
  },
  {
   "cell_type": "code",
   "execution_count": 9,
   "metadata": {
    "collapsed": true
   },
   "outputs": [],
   "source": [
    "# fits respective models and creates predictions, outputting to passed filename\n",
    "\n",
    "def predictor(train,trainY,test,filename,regmodel):\n",
    "    start_time = time.time()\n",
    "    \n",
    "    regmodel.fit(train,trainY)\n",
    "    pred = regmodel.predict(test)\n",
    "    \n",
    "    print ('Time to fit and predict:', str(time.time() - start_time))\n",
    "\n",
    "    predictionCreate(all_cID,pred,filename)    \n",
    "    return pred"
   ]
  },
  {
   "cell_type": "code",
   "execution_count": 10,
   "metadata": {
    "collapsed": true
   },
   "outputs": [],
   "source": [
    "# calculates statistic of relatedness (MSE) to training data outcomes\n",
    "# significantly underestimates prediction error since we are double dipping, but nonetheless provides a useful and quick measure of prediction accuracy\n",
    "\n",
    "def trnStat(cand):\n",
    "    ce1 = ce2 = ce3 = ce4 = ce5 = ce6 = 0\n",
    "    c1 = c2 = c3 = c4 = c5 = c6 = 0\n",
    "    for i in range(0,2121):\n",
    "        if np.isfinite(ff_train_outcomes['gpa'][i]) and np.isfinite(cand[train_cID[i],0]):\n",
    "            ce1 += (ff_train_outcomes['gpa'][i] - cand[train_cID[i],0])**2\n",
    "            c1 += 1\n",
    "        if np.isfinite(ff_train_outcomes['grit'][i]) and np.isfinite(cand[train_cID[i],1]):\n",
    "            ce2 += (ff_train_outcomes['grit'][i] - cand[train_cID[i],1])**2\n",
    "            c2 += 1\n",
    "        if np.isfinite(ff_train_outcomes['materialHardship'][i]) and np.isfinite(cand[train_cID[i],2]):\n",
    "            ce3 += (ff_train_outcomes['materialHardship'][i] - cand[train_cID[i],2])**2\n",
    "            c3 += 1\n",
    "        if np.isfinite(ff_train_outcomes['eviction'][i]) and np.isfinite(cand[train_cID[i],3]):\n",
    "            ce4 += (ff_train_outcomes['eviction'][i] - cand[train_cID[i],3])**2\n",
    "            c4 += 1\n",
    "        if np.isfinite(ff_train_outcomes['layoff'][i]) and np.isfinite(cand[train_cID[i],4]):\n",
    "            ce5 += (ff_train_outcomes['layoff'][i] - cand[train_cID[i],4])**2\n",
    "            c5 += 1\n",
    "        if np.isfinite(ff_train_outcomes['jobTraining'][i]) and np.isfinite(cand[train_cID[i],5]):\n",
    "            ce6 += (ff_train_outcomes['jobTraining'][i] - cand[train_cID[i],5])**2\n",
    "            c6 += 1\n",
    "            \n",
    "    return(ce1/c1,ce2/c2,ce3/c3,ce4/c4,ce5/c5,ce6/c6)"
   ]
  },
  {
   "cell_type": "markdown",
   "metadata": {},
   "source": [
    "### On test data (basic imputation)"
   ]
  },
  {
   "cell_type": "code",
   "execution_count": 11,
   "metadata": {},
   "outputs": [
    {
     "name": "stdout",
     "output_type": "stream",
     "text": [
      "Time to fit and predict: 9.631571054458618\n"
     ]
    },
    {
     "data": {
      "text/plain": [
       "(0.8774021274066961,\n",
       " 0.68951726341953323,\n",
       " 0.057094211926586154,\n",
       " 0.1137240196726374,\n",
       " 0.38755710650957848,\n",
       " 0.43338737480763029)"
      ]
     },
     "execution_count": 11,
     "metadata": {},
     "output_type": "execute_result"
    }
   ],
   "source": [
    "lnreg = linear_model.LinearRegression()\n",
    "b1_lr = predictor(ff_train_b1,ff_train_outcomes_b1,ff_all_b1,\"b1_lr\",lnreg)\n",
    "trnStat(b1_lr)"
   ]
  },
  {
   "cell_type": "code",
   "execution_count": 12,
   "metadata": {},
   "outputs": [
    {
     "name": "stdout",
     "output_type": "stream",
     "text": [
      "Time to fit and predict: 30.109335899353027\n"
     ]
    },
    {
     "data": {
      "text/plain": [
       "(0.52881297337868705,\n",
       " 0.34412053294407602,\n",
       " 0.028882129038833339,\n",
       " 0.059752010719279346,\n",
       " 0.18339435558693085,\n",
       " 0.2111547900087728)"
      ]
     },
     "execution_count": 12,
     "metadata": {},
     "output_type": "execute_result"
    }
   ],
   "source": [
    "lassoreg = linear_model.Lasso()\n",
    "b1_lasso = predictor(ff_train_b1,ff_train_outcomes_b1,ff_all_b1,\"b1_lasso\",lassoreg)\n",
    "trnStat(b1_lasso)"
   ]
  },
  {
   "cell_type": "code",
   "execution_count": 13,
   "metadata": {},
   "outputs": [
    {
     "name": "stdout",
     "output_type": "stream",
     "text": [
      "Time to fit and predict: 3.8826706409454346\n"
     ]
    },
    {
     "data": {
      "text/plain": [
       "(0.87697648510115433,\n",
       " 0.68895051185921785,\n",
       " 0.057052512784486108,\n",
       " 0.11364836019108834,\n",
       " 0.38729187635064038,\n",
       " 0.43320539127926011)"
      ]
     },
     "execution_count": 13,
     "metadata": {},
     "output_type": "execute_result"
    }
   ],
   "source": [
    "ridgereg = linear_model.Ridge()\n",
    "b1_ridge = predictor(ff_train_b1,ff_train_outcomes_b1,ff_all_b1,\"b1_ridge\",ridgereg)\n",
    "trnStat(b1_ridge)"
   ]
  },
  {
   "cell_type": "code",
   "execution_count": 14,
   "metadata": {},
   "outputs": [
    {
     "name": "stdout",
     "output_type": "stream",
     "text": [
      "Time to fit and predict: 41.64161133766174\n"
     ]
    },
    {
     "data": {
      "text/plain": [
       "(0.54556206582482591,\n",
       " 0.35318046609044074,\n",
       " 0.029592216731218021,\n",
       " 0.060531602858318663,\n",
       " 0.18753254079583789,\n",
       " 0.21575348367581321)"
      ]
     },
     "execution_count": 14,
     "metadata": {},
     "output_type": "execute_result"
    }
   ],
   "source": [
    "elasticreg = linear_model.ElasticNet()\n",
    "b1_elastic = predictor(ff_train_b1,ff_train_outcomes_b1,ff_all_b1,\"b1_elastic\",elasticreg)\n",
    "trnStat(b1_elastic)"
   ]
  },
  {
   "cell_type": "code",
   "execution_count": 15,
   "metadata": {},
   "outputs": [
    {
     "name": "stdout",
     "output_type": "stream",
     "text": [
      "Time to fit and predict: 25.982985734939575\n"
     ]
    },
    {
     "data": {
      "text/plain": [
       "(0.47211531571137277,\n",
       " 0.27118641556556289,\n",
       " 0.025263624040620679,\n",
       " 0.056420548258489016,\n",
       " 0.17228996109056585,\n",
       " 0.1849903859192743)"
      ]
     },
     "execution_count": 15,
     "metadata": {},
     "output_type": "execute_result"
    }
   ],
   "source": [
    "llreg = linear_model.LassoLars()\n",
    "b1_lassolars = predictor(ff_train_b1,ff_train_outcomes_b1,ff_all_b1,\"b1_lassolars\",llreg)\n",
    "trnStat(b1_lassolars)"
   ]
  },
  {
   "cell_type": "code",
   "execution_count": 17,
   "metadata": {},
   "outputs": [
    {
     "name": "stdout",
     "output_type": "stream",
     "text": [
      "Time to fit and predict: 187.62580561637878\n"
     ]
    },
    {
     "data": {
      "text/plain": [
       "(0.5368509888005093,\n",
       " 0.34761956857480913,\n",
       " 0.030033487208562734,\n",
       " 0.061127119547649433,\n",
       " 0.18735934820552436,\n",
       " 0.21529907380856594)"
      ]
     },
     "execution_count": 17,
     "metadata": {},
     "output_type": "execute_result"
    }
   ],
   "source": [
    "mtlreg = linear_model.MultiTaskLasso()\n",
    "b1_mtlasso = predictor(ff_train_b1,ff_train_outcomes_b1,ff_all_b1,\"b1_mtlasso\",mtlreg)\n",
    "trnStat(b1_mtlasso)"
   ]
  },
  {
   "cell_type": "markdown",
   "metadata": {},
   "source": [
    "## Binary predictors"
   ]
  },
  {
   "cell_type": "code",
   "execution_count": 21,
   "metadata": {
    "collapsed": true
   },
   "outputs": [],
   "source": [
    "def LogisticMultiPredictor(train,trainY,test):\n",
    "\n",
    "    reg4 = linear_model.LogisticRegression()\n",
    "    reg5 = linear_model.LogisticRegression()\n",
    "    reg6 = linear_model.LogisticRegression()\n",
    "\n",
    "    start_time = time.time()\n",
    "    reg4.fit(train,trainY['eviction'])\n",
    "    print ('Time to fit eviction:', str(time.time() - start_time))\n",
    "    \n",
    "    start_time = time.time()\n",
    "    reg5.fit(train,trainY['layoff'])\n",
    "    print ('Time to fit layoff:', str(time.time() - start_time))\n",
    "\n",
    "    start_time = time.time()\n",
    "    reg6.fit(train,trainY['jobTraining'])\n",
    "    print ('Time to fit job training:', str(time.time() - start_time))\n",
    "\n",
    "    pred4 = reg4.predict(test)\n",
    "    pred5 = reg5.predict(test)\n",
    "    pred6 = reg6.predict(test)\n",
    "\n",
    "    return (pred4,pred5,pred6)"
   ]
  },
  {
   "cell_type": "code",
   "execution_count": 22,
   "metadata": {
    "collapsed": true
   },
   "outputs": [],
   "source": [
    "def MNBMultiPredictor(train,trainY,test):\n",
    "    from sklearn.naive_bayes import MultinomialNB\n",
    "    reg4 = MultinomialNB()\n",
    "    reg5 = MultinomialNB()\n",
    "    reg6 = MultinomialNB()\n",
    "    \n",
    "    reg4.fit(train,trainY['eviction'])\n",
    "    reg5.fit(train,trainY['layoff'])\n",
    "    reg6.fit(train,trainY['jobTraining'])\n",
    "    \n",
    "    pred4 = reg4.predict(test)\n",
    "    pred5 = reg5.predict(test)\n",
    "    pred6 = reg6.predict(test)\n",
    "\n",
    "    return (pred4,pred5,pred6)"
   ]
  },
  {
   "cell_type": "code",
   "execution_count": 23,
   "metadata": {},
   "outputs": [
    {
     "name": "stdout",
     "output_type": "stream",
     "text": [
      "Time to fit eviction: 155.95341277122498\n",
      "Time to fit eviction: 507.4076397418976\n",
      "Time to fit eviction: 698.8400011062622\n"
     ]
    }
   ],
   "source": [
    "b1_log_ff_evic, b1_log_ff_layoff, b1_log_ff_jobtrn = LogisticMultiPredictor(ff_train_b1,ff_train_outcomes_b1,ff_all_b1)"
   ]
  },
  {
   "cell_type": "code",
   "execution_count": 24,
   "metadata": {
    "collapsed": true
   },
   "outputs": [],
   "source": [
    "b1_mnb_ff_evic, b1_mnb_ff_layoff, b1_mnb_ff_jobtrn = MNBMultiPredictor(ff_train_b1,ff_train_outcomes_b1,ff_all_b1)"
   ]
  },
  {
   "cell_type": "code",
   "execution_count": 25,
   "metadata": {
    "collapsed": true
   },
   "outputs": [],
   "source": [
    "# combines binary predictions with some other model for continuous variables\n",
    "def binaryComb(evic,layoff,jobtrn,train,trainY,test,filename,regmodel):\n",
    "    regmodel.fit(train,trainY[['gpa','grit','materialHardship']])\n",
    "    pred = regmodel.predict(test)\n",
    "    \n",
    "    evic = np.reshape(evic,(len(evic),1))\n",
    "    layoff = np.reshape(layoff,(len(layoff),1))\n",
    "    jobtrn = np.reshape(jobtrn,(len(jobtrn),1))\n",
    "    \n",
    "    pred = np.hstack((pred,evic,layoff,jobtrn))\n",
    "    predictionCreate(all_cID,pred,filename)\n",
    "    \n",
    "    return pred"
   ]
  },
  {
   "cell_type": "code",
   "execution_count": 30,
   "metadata": {},
   "outputs": [
    {
     "data": {
      "text/plain": [
       "(0.47211531571137277,\n",
       " 0.27118641556556289,\n",
       " 0.025263624040620679,\n",
       " 0.093214530500342702,\n",
       " 0.26546593578700078,\n",
       " 0.30869267624914443)"
      ]
     },
     "execution_count": 30,
     "metadata": {},
     "output_type": "execute_result"
    }
   ],
   "source": [
    "llreg = linear_model.LassoLars()\n",
    "b1_log_lassolars = binaryComb(b1_log_ff_evic,b1_log_ff_layoff,b1_log_ff_jobtrn,ff_train_b1,ff_train_outcomes_b1,ff_all_b1,\"b1_log_lassolars\",llreg)\n",
    "trnStat(b1_log_lassolars)"
   ]
  },
  {
   "cell_type": "code",
   "execution_count": 31,
   "metadata": {},
   "outputs": [
    {
     "data": {
      "text/plain": [
       "(0.47211531571137277,\n",
       " 0.27118641556556289,\n",
       " 0.025263624040620679,\n",
       " 0.71350239890335843,\n",
       " 0.610806577916993,\n",
       " 0.44421629021218345)"
      ]
     },
     "execution_count": 31,
     "metadata": {},
     "output_type": "execute_result"
    }
   ],
   "source": [
    "llreg = linear_model.LassoLars()\n",
    "b1_mnb_lassolars = binaryComb(b1_mnb_ff_evic,b1_mnb_ff_layoff,b1_mnb_ff_jobtrn,ff_train_b1,ff_train_outcomes_b1,ff_all_b1,\"b1_mnb_lassolars\",llreg)\n",
    "trnStat(b1_mnb_lassolars)"
   ]
  },
  {
   "cell_type": "markdown",
   "metadata": {},
   "source": [
    "## Cross-validation for hyperparameter tuning"
   ]
  },
  {
   "cell_type": "code",
   "execution_count": 54,
   "metadata": {
    "collapsed": true
   },
   "outputs": [],
   "source": [
    "# manual cross-validation to determine optimal alpha for LASSO\n",
    "\n",
    "from sklearn.model_selection import KFold\n",
    "\n",
    "def cvLasso(alphaList, folds, cidX, cidY):\n",
    "    \n",
    "    def trnStatMod(cand,actual):\n",
    "        ce1 = ce2 = ce3 = ce4 = ce5 = ce6 = 0\n",
    "        c1 = c2 = c3 = c4 = c5 = c6 = 0\n",
    "\n",
    "        for i in range(0,len(cand)):\n",
    "            if np.isfinite(actual[i,1]) and np.isfinite(cand[i,0]):\n",
    "                ce1 += (actual[i,1] - cand[i,0])**2\n",
    "                c1 += 1\n",
    "            if np.isfinite(actual[i,2]) and np.isfinite(cand[i,1]):\n",
    "                ce2 += (actual[i,2] - cand[i,1])**2\n",
    "                c2 += 1\n",
    "            if np.isfinite(actual[i,3]) and np.isfinite(cand[i,2]):\n",
    "                ce3 += (actual[i,3] - cand[i,2])**2\n",
    "                c3 += 1\n",
    "            if np.isfinite(actual[i,4]) and np.isfinite(cand[i,3]):\n",
    "                ce4 += (actual[i,4] - cand[i,3])**2\n",
    "                c4 += 1\n",
    "            if np.isfinite(actual[i,5]) and np.isfinite(cand[i,4]):\n",
    "                ce5 += (actual[i,5] - cand[i,4])**2\n",
    "                c5 += 1\n",
    "            if np.isfinite(actual[i,6]) and np.isfinite(cand[i,5]):\n",
    "                ce6 += (actual[i,6] - cand[i,5])**2\n",
    "                c6 += 1\n",
    "\n",
    "        return(ce1/c1,ce2/c2,ce3/c3,ce4/c4,ce5/c5,ce6/c6)\n",
    "    \n",
    "    \n",
    "    scores = []\n",
    "    kf = KFold(n_splits=folds)\n",
    "    \n",
    "    for i in alphaList:\n",
    "        scores.append([])\n",
    "        \n",
    "    numAlphas = len(alphaList)\n",
    "    \n",
    "    count = 1\n",
    "                    \n",
    "    for train_index, test_index in kf.split(ff_train_b1_withID):\n",
    "        #print(train_index)\n",
    "        train_cID, test_cID = [cidX['challengeID'].iloc[k] for k in train_index], [cidX['challengeID'].iloc[k] for k in test_index]\n",
    "        \n",
    "        trainX, testX = cidX.loc[cidX['challengeID'].isin(train_cID)], cidX.loc[cidX['challengeID'].isin(test_cID)] \n",
    "        trainX_cls, testX_cls = cidY.loc[cidY['challengeID'].isin(train_cID)], cidY.loc[cidY['challengeID'].isin(test_cID)]\n",
    "\n",
    "        trainX_c = trainX.drop(['challengeID'],axis=1)\n",
    "        testX_c = testX.drop(['challengeID'],axis=1)\n",
    "        trainX_cls_c = trainX_cls.drop(['challengeID'],axis=1)\n",
    "        testX_cls_npa = testX_cls.values\n",
    "                \n",
    "        for i in range(0,numAlphas):\n",
    "            print(\".. \",end='')\n",
    "            iscores = scores[i]\n",
    "            \n",
    "            LassoReg = linear_model.Lasso(alpha = alphaList[i])\n",
    "            LassoReg.fit(trainX_c,trainX_cls_c)\n",
    "            pred = LassoReg.predict(testX_c)\n",
    "            \n",
    "            mse = trnStatMod(pred,testX_cls_npa)\n",
    "            iscores.append(mse) \n",
    "        count += 1\n",
    "        print()\n",
    "    \n",
    "    print()\n",
    "    print()\n",
    "    for i in range(0,numAlphas):\n",
    "        print(\"For ALPHA = \" + str(alphaList[i]) + \", average MSEs are:\")\n",
    "        print(np.mean(scores[i], axis=0))\n",
    "        print()"
   ]
  },
  {
   "cell_type": "code",
   "execution_count": 60,
   "metadata": {
    "collapsed": true
   },
   "outputs": [],
   "source": [
    "# manual cross-validation to determine alpha for ridge regression\n",
    "\n",
    "from sklearn.model_selection import KFold\n",
    "\n",
    "def cvRidge(alphaList, folds, cidX, cidY):\n",
    "    \n",
    "    def trnStatMod(cand,actual):\n",
    "        ce1 = ce2 = ce3 = ce4 = ce5 = ce6 = 0\n",
    "        c1 = c2 = c3 = c4 = c5 = c6 = 0\n",
    "\n",
    "        for i in range(0,len(cand)):\n",
    "            if np.isfinite(actual[i,1]) and np.isfinite(cand[i,0]):\n",
    "                ce1 += (actual[i,1] - cand[i,0])**2\n",
    "                c1 += 1\n",
    "            if np.isfinite(actual[i,2]) and np.isfinite(cand[i,1]):\n",
    "                ce2 += (actual[i,2] - cand[i,1])**2\n",
    "                c2 += 1\n",
    "            if np.isfinite(actual[i,3]) and np.isfinite(cand[i,2]):\n",
    "                ce3 += (actual[i,3] - cand[i,2])**2\n",
    "                c3 += 1\n",
    "            if np.isfinite(actual[i,4]) and np.isfinite(cand[i,3]):\n",
    "                ce4 += (actual[i,4] - cand[i,3])**2\n",
    "                c4 += 1\n",
    "            if np.isfinite(actual[i,5]) and np.isfinite(cand[i,4]):\n",
    "                ce5 += (actual[i,5] - cand[i,4])**2\n",
    "                c5 += 1\n",
    "            if np.isfinite(actual[i,6]) and np.isfinite(cand[i,5]):\n",
    "                ce6 += (actual[i,6] - cand[i,5])**2\n",
    "                c6 += 1\n",
    "\n",
    "        return(ce1/c1,ce2/c2,ce3/c3,ce4/c4,ce5/c5,ce6/c6)\n",
    "    \n",
    "    \n",
    "    scores = []\n",
    "    kf = KFold(n_splits=folds)\n",
    "    \n",
    "    for i in alphaList:\n",
    "        scores.append([])\n",
    "        \n",
    "    numAlphas = len(alphaList)\n",
    "    \n",
    "    count = 1\n",
    "                    \n",
    "    for train_index, test_index in kf.split(ff_train_b1_withID):\n",
    "        #print(train_index)\n",
    "        train_cID, test_cID = [cidX['challengeID'].iloc[k] for k in train_index], [cidX['challengeID'].iloc[k] for k in test_index]\n",
    "        \n",
    "        trainX, testX = cidX.loc[cidX['challengeID'].isin(train_cID)], cidX.loc[cidX['challengeID'].isin(test_cID)] \n",
    "        trainX_cls, testX_cls = cidY.loc[cidY['challengeID'].isin(train_cID)], cidY.loc[cidY['challengeID'].isin(test_cID)]\n",
    "\n",
    "        trainX_c = trainX.drop(['challengeID'],axis=1)\n",
    "        testX_c = testX.drop(['challengeID'],axis=1)\n",
    "        trainX_cls_c = trainX_cls.drop(['challengeID'],axis=1)\n",
    "        testX_cls_npa = testX_cls.values\n",
    "                \n",
    "        for i in range(0,numAlphas):\n",
    "            print(\".. \",end='')\n",
    "            iscores = scores[i]\n",
    "            \n",
    "            RidgeReg = linear_model.Ridge(alpha = alphaList[i])\n",
    "            RidgeReg.fit(trainX_c,trainX_cls_c)\n",
    "            pred = RidgeReg.predict(testX_c)\n",
    "            \n",
    "            mse = trnStatMod(pred,testX_cls_npa)\n",
    "            iscores.append(mse) \n",
    "        count += 1\n",
    "        print()\n",
    "        \n",
    "    for i in range(0,numAlphas):\n",
    "        print(\"For ALPHA = \" + str(alphaList[i]) + \", average MSEs are:\")\n",
    "        print(np.mean(scores[i], axis=0))\n",
    "        print()"
   ]
  },
  {
   "cell_type": "code",
   "execution_count": 61,
   "metadata": {
    "collapsed": true
   },
   "outputs": [],
   "source": [
    "# manual cross-validation to determine alpha for ridge regression\n",
    "\n",
    "from sklearn.model_selection import KFold\n",
    "\n",
    "def cvLassoLars(alphaList, folds, cidX, cidY):\n",
    "    \n",
    "    def trnStatMod(cand,actual):\n",
    "        ce1 = ce2 = ce3 = ce4 = ce5 = ce6 = 0\n",
    "        c1 = c2 = c3 = c4 = c5 = c6 = 0\n",
    "\n",
    "        for i in range(0,len(cand)):\n",
    "            if np.isfinite(actual[i,1]) and np.isfinite(cand[i,0]):\n",
    "                ce1 += (actual[i,1] - cand[i,0])**2\n",
    "                c1 += 1\n",
    "            if np.isfinite(actual[i,2]) and np.isfinite(cand[i,1]):\n",
    "                ce2 += (actual[i,2] - cand[i,1])**2\n",
    "                c2 += 1\n",
    "            if np.isfinite(actual[i,3]) and np.isfinite(cand[i,2]):\n",
    "                ce3 += (actual[i,3] - cand[i,2])**2\n",
    "                c3 += 1\n",
    "            if np.isfinite(actual[i,4]) and np.isfinite(cand[i,3]):\n",
    "                ce4 += (actual[i,4] - cand[i,3])**2\n",
    "                c4 += 1\n",
    "            if np.isfinite(actual[i,5]) and np.isfinite(cand[i,4]):\n",
    "                ce5 += (actual[i,5] - cand[i,4])**2\n",
    "                c5 += 1\n",
    "            if np.isfinite(actual[i,6]) and np.isfinite(cand[i,5]):\n",
    "                ce6 += (actual[i,6] - cand[i,5])**2\n",
    "                c6 += 1\n",
    "\n",
    "        return(ce1/c1,ce2/c2,ce3/c3,ce4/c4,ce5/c5,ce6/c6)\n",
    "    \n",
    "    \n",
    "    scores = []\n",
    "    kf = KFold(n_splits=folds)\n",
    "    \n",
    "    for i in alphaList:\n",
    "        scores.append([])\n",
    "        \n",
    "    numAlphas = len(alphaList)\n",
    "    \n",
    "    count = 1\n",
    "                    \n",
    "    for train_index, test_index in kf.split(ff_train_b1_withID):\n",
    "        #print(train_index)\n",
    "        train_cID, test_cID = [cidX['challengeID'].iloc[k] for k in train_index], [cidX['challengeID'].iloc[k] for k in test_index]\n",
    "        \n",
    "        trainX, testX = cidX.loc[cidX['challengeID'].isin(train_cID)], cidX.loc[cidX['challengeID'].isin(test_cID)] \n",
    "        trainX_cls, testX_cls = cidY.loc[cidY['challengeID'].isin(train_cID)], cidY.loc[cidY['challengeID'].isin(test_cID)]\n",
    "\n",
    "        trainX_c = trainX.drop(['challengeID'],axis=1)\n",
    "        testX_c = testX.drop(['challengeID'],axis=1)\n",
    "        trainX_cls_c = trainX_cls.drop(['challengeID'],axis=1)\n",
    "        testX_cls_npa = testX_cls.values\n",
    "                \n",
    "        for i in range(0,numAlphas):\n",
    "            print(\".. \",end='')\n",
    "            iscores = scores[i]\n",
    "            \n",
    "            LLReg = linear_model.LassoLars(alpha = alphaList[i])\n",
    "            LLReg.fit(trainX_c,trainX_cls_c)\n",
    "            pred = LLReg.predict(testX_c)\n",
    "            \n",
    "            mse = trnStatMod(pred,testX_cls_npa)\n",
    "            iscores.append(mse)  \n",
    "        count += 1\n",
    "        print()\n",
    "        \n",
    "    for i in range(0,numAlphas):\n",
    "        print(\"For ALPHA = \" + str(alphaList[i]) + \", average MSEs are:\")\n",
    "        print(np.mean(scores[i], axis=0))\n",
    "        print()"
   ]
  },
  {
   "cell_type": "code",
   "execution_count": 58,
   "metadata": {},
   "outputs": [
    {
     "name": "stdout",
     "output_type": "stream",
     "text": [
      ".. "
     ]
    },
    {
     "name": "stderr",
     "output_type": "stream",
     "text": [
      "C:\\Users\\Adam Chang\\Anaconda3\\lib\\site-packages\\sklearn\\linear_model\\coordinate_descent.py:491: ConvergenceWarning: Objective did not converge. You might want to increase the number of iterations. Fitting data with very small alpha may cause precision problems.\n",
      "  ConvergenceWarning)\n"
     ]
    },
    {
     "name": "stdout",
     "output_type": "stream",
     "text": [
      ".. .. .. .. .. .. .. \n",
      ".. .. .. .. .. .. .. .. \n",
      ".. .. .. .. .. .. .. .. \n",
      ".. .. .. .. .. .. .. .. \n",
      ".. .. .. .. .. .. .. .. \n",
      "\n",
      "\n",
      "For ALPHA = 0.001, average MSEs are:\n",
      "[ 0.99576935  0.66490027  0.05660044  0.14347446  0.47905825  0.55095582]\n",
      "\n",
      "For ALPHA = 0.01, average MSEs are:\n",
      "[ 0.69039185  0.47578267  0.02959432  0.08913175  0.29354477  0.3378657 ]\n",
      "\n",
      "For ALPHA = 1, average MSEs are:\n",
      "[ 0.30879109  0.21918856  0.0183247   0.04325087  0.12483961  0.14884406]\n",
      "\n",
      "For ALPHA = 10, average MSEs are:\n",
      "[ 0.27650701  0.20683386  0.01798693  0.04049841  0.11350971  0.13188756]\n",
      "\n",
      "For ALPHA = 100, average MSEs are:\n",
      "[ 0.2718495   0.21117187  0.01849445  0.0394645   0.11001015  0.12741623]\n",
      "\n",
      "For ALPHA = 200, average MSEs are:\n",
      "[ 0.27018937  0.21106409  0.0186176   0.03943637  0.10943875  0.12717117]\n",
      "\n",
      "For ALPHA = 500, average MSEs are:\n",
      "[ 0.27107845  0.21118774  0.01878622  0.03944958  0.10994943  0.12764227]\n",
      "\n",
      "For ALPHA = 1000, average MSEs are:\n",
      "[ 0.271966    0.21173833  0.01891251  0.03951005  0.11015343  0.12922173]\n",
      "\n"
     ]
    }
   ],
   "source": [
    "cvLasso((.001,.01,1,10,100,200,500,1000),5,ff_train_b1_withID,ff_train_outcomes_b1_withID)"
   ]
  },
  {
   "cell_type": "code",
   "execution_count": 67,
   "metadata": {},
   "outputs": [
    {
     "name": "stdout",
     "output_type": "stream",
     "text": [
      ".. .. .. \n",
      ".. .. .. \n",
      ".. .. .. \n",
      ".. .. .. \n",
      ".. .. .. \n",
      "\n",
      "\n",
      "For ALPHA = 2000, average MSEs are:\n",
      "[ 0.27287903  0.2142684   0.01896964  0.03951005  0.11026244  0.1323218 ]\n",
      "\n",
      "For ALPHA = 5000, average MSEs are:\n",
      "[ 0.27583413  0.22990754  0.01896964  0.03951005  0.1102653   0.13564245]\n",
      "\n",
      "For ALPHA = 10000, average MSEs are:\n",
      "[ 0.27944247  0.22990754  0.01896964  0.03951005  0.1102653   0.13564245]\n",
      "\n"
     ]
    }
   ],
   "source": [
    "cvLasso((2000,5000,10000),5,ff_train_b1_withID,ff_train_outcomes_b1_withID)"
   ]
  },
  {
   "cell_type": "code",
   "execution_count": 64,
   "metadata": {},
   "outputs": [
    {
     "name": "stdout",
     "output_type": "stream",
     "text": [
      ".. .. .. .. .. .. .. .. .. .. .. .. \n",
      ".. .. .. .. .. .. .. .. .. .. .. .. \n",
      ".. .. .. .. .. .. .. .. .. .. .. .. \n",
      ".. .. .. .. .. .. .. .. .. .. .. .. \n",
      ".. .. .. .. .. .. .. .. .. .. .. .. \n",
      "For ALPHA = 1, average MSEs are:\n",
      "[ 1.08385899  0.74381373  0.06695997  0.15878905  0.53462015  0.60424656]\n",
      "\n",
      "For ALPHA = 5, average MSEs are:\n",
      "[ 1.08084505  0.741573    0.06680733  0.1584398   0.53335163  0.60294989]\n",
      "\n",
      "For ALPHA = 10, average MSEs are:\n",
      "[ 1.07721692  0.73892561  0.06662294  0.15802573  0.53184736  0.60138859]\n",
      "\n",
      "For ALPHA = 25, average MSEs are:\n",
      "[ 1.06707477  0.7317485   0.06610323  0.15689475  0.52771827  0.59700608]\n",
      "\n",
      "For ALPHA = 50, average MSEs are:\n",
      "[ 1.0520047   0.72149583  0.06531606  0.15525121  0.52162968  0.59039537]\n",
      "\n",
      "For ALPHA = 100, average MSEs are:\n",
      "[ 1.02649747  0.70477603  0.06393517  0.15247831  0.51110393  0.57881471]\n",
      "\n",
      "For ALPHA = 200, average MSEs are:\n",
      "[ 0.98681013  0.67959031  0.06166963  0.14806768  0.49380622  0.5596949 ]\n",
      "\n",
      "For ALPHA = 500, average MSEs are:\n",
      "[ 0.91016755  0.63254692  0.05701365  0.13920987  0.4576016   0.51936784]\n",
      "\n",
      "For ALPHA = 1000, average MSEs are:\n",
      "[ 0.83748939  0.58920327  0.05244144  0.13058532  0.42144092  0.47821345]\n",
      "\n",
      "For ALPHA = 2000, average MSEs are:\n",
      "[ 0.75951384  0.54295535  0.04751294  0.12111708  0.38217088  0.43248302]\n",
      "\n",
      "For ALPHA = 5000, average MSEs are:\n",
      "[ 0.66190477  0.48226057  0.04133501  0.10845734  0.33228742  0.37399774]\n",
      "\n",
      "For ALPHA = 10000, average MSEs are:\n",
      "[ 0.59887265  0.43982809  0.0372902   0.0995142   0.29879236  0.33526614]\n",
      "\n"
     ]
    }
   ],
   "source": [
    "cvRidge((1,5,10,25,50,100,200,500,1000,2000,5000,10000),5,ff_train_b1_withID,ff_train_outcomes_b1_withID)"
   ]
  },
  {
   "cell_type": "code",
   "execution_count": 70,
   "metadata": {},
   "outputs": [
    {
     "name": "stdout",
     "output_type": "stream",
     "text": [
      ".. .. .. .. .. .. .. \n",
      ".. .. .. .. .. .. .. \n",
      ".. .. .. .. .. .. .. \n",
      ".. .. .. .. .. .. .. \n",
      ".. .. .. .. .. .. .. \n",
      "For ALPHA = 100000, average MSEs are:\n",
      "[ 0.44917343  0.33819284  0.02795725  0.07703831  0.21839092  0.24846183]\n",
      "\n",
      "For ALPHA = 1000000, average MSEs are:\n",
      "[ 0.3619909   0.26883214  0.02317529  0.05970355  0.16571963  0.19803979]\n",
      "\n",
      "For ALPHA = 10000000, average MSEs are:\n",
      "[ 0.32125264  0.23384711  0.02098912  0.04947136  0.13729774  0.16546341]\n",
      "\n",
      "For ALPHA = 100000000, average MSEs are:\n",
      "[ 0.29586286  0.21685893  0.01913607  0.04454224  0.12356836  0.14730351]\n",
      "\n",
      "For ALPHA = 1000000000000, average MSEs are:\n",
      "[ 0.26974934  0.2117623   0.01845565  0.03945761  0.11002675  0.12757417]\n",
      "\n",
      "For ALPHA = 1000000000000000, average MSEs are:\n",
      "[ 0.27837709  0.22907446  0.01893177  0.0395007   0.11023669  0.13543254]\n",
      "\n",
      "For ALPHA = 1000000000000000000, average MSEs are:\n",
      "[ 0.2794413   0.22990664  0.0189696   0.03951004  0.11026527  0.13564223]\n",
      "\n"
     ]
    }
   ],
   "source": [
    "cvRidge((100000,1000000,10000000,100000000,1000000000000,1000000000000000,1000000000000000000),5,ff_train_b1_withID,ff_train_outcomes_b1_withID)"
   ]
  },
  {
   "cell_type": "code",
   "execution_count": 72,
   "metadata": {},
   "outputs": [
    {
     "name": "stdout",
     "output_type": "stream",
     "text": [
      ".. .. .. .. .. .. .. .. \n",
      ".. .. .. .. .. .. .. .. \n",
      ".. .. .. .. .. .. .. .. \n",
      ".. .. .. .. .. .. .. .. \n",
      ".. .. .. .. .. .. .. .. \n",
      "For ALPHA = 1, average MSEs are:\n",
      "[ 0.27944247  0.22990754  0.01896964  0.03951005  0.1102653   0.13564245]\n",
      "\n",
      "For ALPHA = 100, average MSEs are:\n",
      "[ 0.27944247  0.22990754  0.01896964  0.03951005  0.1102653   0.13564245]\n",
      "\n",
      "For ALPHA = 500, average MSEs are:\n",
      "[ 0.27944247  0.22990754  0.01896964  0.03951005  0.1102653   0.13564245]\n",
      "\n",
      "For ALPHA = 1000, average MSEs are:\n",
      "[ 0.27944247  0.22990754  0.01896964  0.03951005  0.1102653   0.13564245]\n",
      "\n",
      "For ALPHA = 5000, average MSEs are:\n",
      "[ 0.27944247  0.22990754  0.01896964  0.03951005  0.1102653   0.13564245]\n",
      "\n",
      "For ALPHA = 10000, average MSEs are:\n",
      "[ 0.27944247  0.22990754  0.01896964  0.03951005  0.1102653   0.13564245]\n",
      "\n",
      "For ALPHA = 1000000, average MSEs are:\n",
      "[ 0.27944247  0.22990754  0.01896964  0.03951005  0.1102653   0.13564245]\n",
      "\n",
      "For ALPHA = 1000000000, average MSEs are:\n",
      "[ 0.27944247  0.22990754  0.01896964  0.03951005  0.1102653   0.13564245]\n",
      "\n"
     ]
    }
   ],
   "source": [
    "cvLassoLars((1,100,500,1000,5000,10000,1000000,1000000000),5,ff_train_b1_withID,ff_train_outcomes_b1_withID)"
   ]
  },
  {
   "cell_type": "code",
   "execution_count": 71,
   "metadata": {},
   "outputs": [
    {
     "data": {
      "text/html": [
       "<script>\n",
       "code_show_err=false; \n",
       "function code_toggle_err() {\n",
       " if (code_show_err){\n",
       " $('div.output_stderr').hide();\n",
       " } else {\n",
       " $('div.output_stderr').show();\n",
       " }\n",
       " code_show_err = !code_show_err\n",
       "} \n",
       "$( document ).ready(code_toggle_err);\n",
       "</script>\n",
       "To toggle on/off output_stderr, click <a href=\"javascript:code_toggle_err()\">here</a>."
      ],
      "text/plain": [
       "<IPython.core.display.HTML object>"
      ]
     },
     "execution_count": 71,
     "metadata": {},
     "output_type": "execute_result"
    }
   ],
   "source": [
    "from IPython.display import HTML\n",
    "HTML('''<script>\n",
    "code_show_err=false; \n",
    "function code_toggle_err() {\n",
    " if (code_show_err){\n",
    " $('div.output_stderr').hide();\n",
    " } else {\n",
    " $('div.output_stderr').show();\n",
    " }\n",
    " code_show_err = !code_show_err\n",
    "} \n",
    "$( document ).ready(code_toggle_err);\n",
    "</script>\n",
    "To toggle on/off output_stderr, click <a href=\"javascript:code_toggle_err()\">here</a>.''')"
   ]
  },
  {
   "cell_type": "markdown",
   "metadata": {},
   "source": [
    "## Most significant features"
   ]
  },
  {
   "cell_type": "code",
   "execution_count": 73,
   "metadata": {
    "collapsed": true
   },
   "outputs": [],
   "source": [
    "ffLabels = pandas.read_csv(\"FFChallenge_v4/FFMetadata20180221.csv\", low_memory=False, usecols=[\"new_name\", \"varlab\"])"
   ]
  },
  {
   "cell_type": "code",
   "execution_count": 74,
   "metadata": {
    "collapsed": true
   },
   "outputs": [],
   "source": [
    "def coefSelector(coefs,n,alltestdf):\n",
    "    coefs0_ind = np.argpartition(coefs[0], -n)[-n:]\n",
    "    coefs1_ind = np.argpartition(coefs[1], -n)[-n:]\n",
    "    coefs2_ind = np.argpartition(coefs[2], -n)[-n:]\n",
    "    coefs3_ind = np.argpartition(coefs[3], -n)[-n:]\n",
    "    coefs4_ind = np.argpartition(coefs[4], -n)[-n:]\n",
    "    coefs5_ind = np.argpartition(coefs[5], -n)[-n:]\n",
    "\n",
    "    vals0 = alltestdf.columns.values[coefs0_ind]\n",
    "    vals1 = alltestdf.columns.values[coefs1_ind]\n",
    "    vals2 = alltestdf.columns.values[coefs2_ind]\n",
    "    vals3 = alltestdf.columns.values[coefs3_ind]\n",
    "    vals4 = alltestdf.columns.values[coefs4_ind]\n",
    "    vals5 = alltestdf.columns.values[coefs5_ind]\n",
    "    \n",
    "    labs0 = []\n",
    "    labs1 = []\n",
    "    labs2 = []\n",
    "    labs3 = []\n",
    "    labs4 = []\n",
    "    labs5 = []\n",
    "    \n",
    "    for x in vals0:\n",
    "        labs0.append(ffLabels.varlab[ffLabels.new_name[ffLabels.new_name == x].index.tolist()].iloc[0])\n",
    "        \n",
    "    for x in vals1:\n",
    "        labs1.append(ffLabels.varlab[ffLabels.new_name[ffLabels.new_name == x].index.tolist()].iloc[0])\n",
    "        \n",
    "    for x in vals2:\n",
    "        labs2.append(ffLabels.varlab[ffLabels.new_name[ffLabels.new_name == x].index.tolist()].iloc[0])\n",
    "        \n",
    "    for x in vals3:\n",
    "        labs3.append(ffLabels.varlab[ffLabels.new_name[ffLabels.new_name == x].index.tolist()].iloc[0])\n",
    "        \n",
    "    for x in vals4:\n",
    "        labs4.append(ffLabels.varlab[ffLabels.new_name[ffLabels.new_name == x].index.tolist()].iloc[0])\n",
    "        \n",
    "    for x in vals5:\n",
    "        labs5.append(ffLabels.varlab[ffLabels.new_name[ffLabels.new_name == x].index.tolist()].iloc[0])\n",
    "        \n",
    "    print(\"GPA most significant features in this regression: \" + str(labs0))\n",
    "    print(\"Coefficients: \" + str(np.partition(coefs[0], -n)[-n:]))\n",
    "    \n",
    "    print()\n",
    "    print(\"========================================================================\")\n",
    "    print()\n",
    "    \n",
    "    print(\"Grit most significant features in this regression: \" + str(labs1))\n",
    "    print(\"Coefficients: \" + str(np.partition(coefs[1], -n)[-n:]))\n",
    "\n",
    "    print()\n",
    "    print(\"========================================================================\")\n",
    "    print()\n",
    "    \n",
    "    print(\"Material hardship most significant features in this regression: \" + str(labs2))\n",
    "    print(\"Coefficients: \" + str(np.partition(coefs[2], -n)[-n:]))\n",
    "    \n",
    "    print()\n",
    "    print(\"========================================================================\")\n",
    "    print()\n",
    "    \n",
    "    print(\"Eviction most significant features in this regression: \" + str(labs3))\n",
    "    print(\"Coefficients: \" + str(np.partition(coefs[3], -n)[-n:]))\n",
    "    \n",
    "    print()\n",
    "    print(\"========================================================================\")\n",
    "    print()\n",
    "\n",
    "    print(\"Layoff most significant features in this regression: \" + str(labs4))\n",
    "    print(\"Coefficients: \" + str(np.partition(coefs[4], -n)[-n:]))\n",
    "    \n",
    "    print()\n",
    "    print(\"========================================================================\")\n",
    "    print()\n",
    "    \n",
    "    print(\"Job Training most significant features in this regression: \" + str(labs5))\n",
    "    print(\"Coefficients: \" + str(np.partition(coefs[5], -n)[-n:]))\n",
    "    \n",
    "    "
   ]
  },
  {
   "cell_type": "code",
   "execution_count": 105,
   "metadata": {
    "scrolled": false
   },
   "outputs": [
    {
     "name": "stdout",
     "output_type": "stream",
     "text": [
      "GPA most significant features in this regression: ['b9 during last two mths total days you were not able to care for child/children', 'How much time did you serve, altogether? (months)', 'Agree/disagree: my religious faith is a guide for the way I treat my family?', 'G23k. Past year, times SCG slapped child on the hand, arm, or leg', 'J2F. Number of servings of fresh fruit or vegetables child has on typical day', 'K2b. This is a close-knit neighborhood', 'a18a_7 if child disagrees with you says negative things about you, what do you d', 'On a scale of 1-(least like) to 5-(most like) - Child is very sociable', 'distance to c - resistant', 'L5. Number of days per week you drop off or pick up child']\n",
      "Coefficients: [ 0.01735906  0.01740225  0.01829731  0.02279418  0.02307888  0.01950042\n",
      "  0.01897293  0.01956886  0.02126713  0.01878621]\n",
      "\n",
      "========================================================================\n",
      "\n",
      "Grit most significant features in this regression: ['How many years did you attend this program?', 'How life diff if married BF, overall happiness?', 'Agree/disagree: People around here are willing to help their neighbors', 'J2E. Number of servings of regular soda child has on typical day', 'How many months did you/child receive SSI in the past 12 months?', 'G7. Past year, times PCG spanked child on bottom with bare hand', 'G16B. There is really no way I can solve some of the problems I have', 'F1C. Routine administrative duties and paperwork interfere with my teaching', 'D6. Highest grade of school current partner has completed', 'G16A. I have little control over the things that happen to me']\n",
      "Coefficients: [ 0.01503397  0.01697496  0.01512153  0.01734267  0.01744392  0.01936803\n",
      "  0.01583941  0.01524463  0.01569727  0.01533161]\n",
      "\n",
      "========================================================================\n",
      "\n",
      "Material hardship most significant features in this regression: ['G16C. There is little I can do to change many of the important things in my life', 'G4. Length of time feelings usually lasted during that 2 week period', 'D6. Highest grade of school current partner has completed', 'C2A. Number of days father has seen child during the past 30 days', 'B2A. Number of days mother has seen child in past 30 days', 'D2F2. Number of months you and current partner have been romantically involved', 'I8. Amount of time child spends doing homework on weekend day', 'How many days in past year were you without electricity?', 'How many months or years has this tension been going on?-(Years)', 'How many times were you sent to a correctional institution?']\n",
      "Coefficients: [ 0.00433583  0.00436012  0.0045497   0.00484439  0.00522999  0.00513623\n",
      "  0.00483726  0.00493523  0.00479889  0.00485032]\n",
      "\n",
      "========================================================================\n",
      "\n",
      "Eviction most significant features in this regression: ['In the past week, how often did you feel fearful?', \"E1B. Country or territory where mother's mother was born\", \"What is sixth person's age? (years)\", 'G1. Your health status in general', \"E1E1. Grade completed by mother's biological mother\", 'G2D. Number of stays overnight in a hospital in the past 12 months', 'How much time did you serve, altogether? (months)', 'C6c. How many days a week do you/father take child to community center activity?', 'Days/week: play imaginary games with him/her?', 'J7. Past year, times PCG spanked child on bottom with bare hand']\n",
      "Coefficients: [ 0.00708409  0.00711642  0.00775804  0.00753844  0.00718185  0.00857483\n",
      "  0.00778281  0.00841327  0.00935587  0.0074833 ]\n",
      "\n",
      "========================================================================\n",
      "\n",
      "Layoff most significant features in this regression: ['J11. Past year, times PCG slapped child on the hand, arm, or leg', 'I3. Amount of time child watches TV or videos on a weekday', \"What is seventh person's relationship to you?\", 'Do/did you regularly work: evenings?', 'D2F2. Number of months you and current partner have been romantically involved', 'F1A. Number of times have you have moved in the last four years', 'Days/week: read stories to child?', 'What do you think are the chances that you will ever marry someone?', 'K1D. I often feel tired, worn out, or exhausted from raising a family', 'A5C. Age of household member']\n",
      "Coefficients: [ 0.01230442  0.01250279  0.01297679  0.01327407  0.01334017  0.01368922\n",
      "  0.01495139  0.01453002  0.01375327  0.01797233]\n",
      "\n",
      "========================================================================\n",
      "\n",
      "Job Training most significant features in this regression: [\"What is ninth person's relationship to you?\", 'True/not true: My shift & work schedule cause extra stress for me & child', \"How often do you & child's father argue about things that are important to you?\", 'I16C. In my work schedule I have enough flexibility to handle family needs', 'True/not true: Where I work is difficult to deal w/child care probs during work', 'F3. Amount of control you feel you have in your classroom', 'Q1E. Parent has given child something else to do instead of what child was doing', 'I13. Number of TVs in home', 'How many months has it been going on?', 'How many hours each day does primary arrangement usually care for child?']\n",
      "Coefficients: [ 0.01327094  0.01511505  0.0138114   0.01648809  0.0157335   0.0137478\n",
      "  0.01765817  0.018194    0.015907    0.01583107]\n"
     ]
    }
   ],
   "source": [
    "# linear regression features\n",
    "linregbasic = linear_model.LinearRegression()\n",
    "linregbasic.fit(ff_train_b1,ff_train_outcomes_b1)\n",
    "lrcoefs = linregbasic.coef_\n",
    "\n",
    "coefSelector(lrcoefs,10,ff_all_b1)"
   ]
  },
  {
   "cell_type": "code",
   "execution_count": 106,
   "metadata": {},
   "outputs": [
    {
     "name": "stdout",
     "output_type": "stream",
     "text": [
      "GPA most significant features in this regression: ['When did you and mother get separated/divorced? (year)', 'When did you and CP get married? (year)', 'When did you and mother separate? (Year)', 'F3B. Monthly mortgage payments including taxes/insurance that are included', 'Constructed - Total monthly expense for food used at home', 'Father three-year city replicate weight no. 7', 'Mother one-year city replicate weight no. 5', 'How much money does [gov agency] give you? ($)', 'How much do you pay out-of-pocket for all child care you currently use?', 'Mother one-year city replicate weight no. 9']\n",
      "Coefficients: [  9.13998946e-05   1.02939367e-04   1.03327115e-04   2.81293412e-04\n",
      "   1.06134552e-04   1.06638348e-04   1.08428863e-04   1.08373417e-04\n",
      "   1.20110593e-04   1.11909855e-04]\n",
      "\n",
      "========================================================================\n",
      "\n",
      "Grit most significant features in this regression: ['What are your mo expenses for rent or mortgage?', 'Mother three-year city replicate weight no. 10', 'When did you last receive welfare or TANF? (year)', 'When did you and mother start living together? (year)', 'What was the date of your 2nd marriage, other than mother? (year)', 'B30D2. Year father went to jail/prison', 'When did you and current partner get married? (year)', 'How many nights has child spent with mother since first birthday?', 'Couple three-year city replicate weight no. 8', 'E1a1. In last month, about how much did you/family member receive in government']\n",
      "Coefficients: [  4.40964714e-05   4.65904756e-05   4.71882433e-05   4.73027247e-05\n",
      "   5.69986346e-05   5.25911693e-05   4.84827554e-05   5.25036062e-05\n",
      "   7.07462108e-05   1.31304261e-04]\n",
      "\n",
      "========================================================================\n",
      "\n",
      "Material hardship most significant features in this regression: [\"When was child last weighed at doctor's office? (Year)\", 'Constructed - Year of in-home assessment/activity component', 'I26E. Amount received in last 12 months for doing something else to earn money', 'A8B. Year child last lived full-time with biological mother', 'A21a1_yr. Date of most recent accident/injury (year)', 'F4. Amount of rent paid each month', 'Not includ formal child support, how much money did you receive from father?', 'F8C2. Approximate amount received in the last month you received food stamps/EBT', \"BioMom's weight in lb\", 'F13A. Year you last received welfare or TANF']\n",
      "Coefficients: [  1.01949582e-05   1.10824390e-05   1.18576628e-05   1.34392519e-05\n",
      "   1.43483557e-05   2.13632995e-05   2.63633632e-05   6.26555059e-05\n",
      "   7.89132902e-05   1.70522220e-05]\n",
      "\n",
      "========================================================================\n",
      "\n",
      "Eviction most significant features in this regression: ['When did you and father start living together? (year)', 'How much rent do you pay each month?', 'F13A. Year you last received welfare or TANF', 'K1a1. Last month, how much did you/household receive in food stamps?', 'F4. Amount of rent paid each month', 'Approximately how much did you receive last month from other assistance?', 'F8C2. Approximate amount received in the last month you received food stamps/EBT', 'Approximately how much did you receive last month from food stamps?', 'On what date were you divorced from this woman? (year)', 'About how much in child support have you given since agreement was reached?']\n",
      "Coefficients: [  1.76794132e-05   3.50459857e-05   2.28489282e-05   1.98124141e-05\n",
      "   2.90398567e-05   4.29954331e-05   4.48774213e-05   4.92593586e-05\n",
      "   4.77428997e-05   4.63762216e-05]\n",
      "\n",
      "========================================================================\n",
      "\n",
      "Layoff most significant features in this regression: ['How much have you received from father for child in past year?-($ Amount)', 'Not includ formal child support, how much money did you receive from father?', 'A8B. Year child last lived full-time with biological mother', 'When did you and mother separate/divorce? (year)', 'Couple three-year city replicate weight no. 3', \"How much have you given for child/your children's support in year? ($)\", 'F8C3. Approximate amount received in the last month you received other assistanc', 'Approximately how much did you receive last month from other assistance?', 'Approximately how much did you receive last month from other assistance?', '11a1. child height measurements 1']\n",
      "Coefficients: [  3.63884861e-05   3.66062320e-05   4.27614704e-05   3.93620004e-05\n",
      "   5.34597182e-05   4.46339466e-05   2.32547635e-04   3.78208002e-05\n",
      "   4.75314793e-05   4.22827716e-04]\n",
      "\n",
      "========================================================================\n",
      "\n",
      "Job Training most significant features in this regression: ['When did romantic relationship with mother end? (year)', 'How much rent do you pay each month?', 'When did you and current partner get married? (year)', 'J2A. Amount you gave/loaned money to friends/relatives during past 12 months', 'When did you and CP start living together? (year)', 'D2C2. Year you and current partner got married', \"BioMom's weight in lb\", 'What are the monthly mortgage payments(Incl Taxes & Insurance)?', 'F4. Amount of rent paid each month', 'What is your religious denomination?']\n",
      "Coefficients: [  4.45916659e-05   4.62321547e-05   4.95662004e-05   5.12066454e-05\n",
      "   5.27495832e-05   5.94340182e-05   8.43150540e-05   5.76374665e-05\n",
      "   6.08653922e-05   6.09923642e-05]\n"
     ]
    }
   ],
   "source": [
    "# lasso features\n",
    "lassoregbasic = linear_model.Lasso()\n",
    "lassoregbasic.fit(ff_train_b1,ff_train_outcomes_b1)\n",
    "lassocoefs = lassoregbasic.coef_\n",
    "\n",
    "coefSelector(lassocoefs,10,ff_all_b1)"
   ]
  },
  {
   "cell_type": "code",
   "execution_count": 107,
   "metadata": {},
   "outputs": [
    {
     "name": "stdout",
     "output_type": "stream",
     "text": [
      "GPA most significant features in this regression: ['When did you and mother get separated/divorced? (year)', 'When did you and CP get married? (year)', 'When did you and mother separate? (Year)', 'F3B. Monthly mortgage payments including taxes/insurance that are included', 'Constructed - Total monthly expense for food used at home', 'Father three-year city replicate weight no. 7', 'Mother one-year city replicate weight no. 5', 'How much money does [gov agency] give you? ($)', 'How much do you pay out-of-pocket for all child care you currently use?', 'Mother one-year city replicate weight no. 9']\n",
      "Coefficients: [  9.13998946e-05   1.02939367e-04   1.03327115e-04   2.81293412e-04\n",
      "   1.06134552e-04   1.06638348e-04   1.08428863e-04   1.08373417e-04\n",
      "   1.20110593e-04   1.11909855e-04]\n",
      "\n",
      "========================================================================\n",
      "\n",
      "Grit most significant features in this regression: ['What are your mo expenses for rent or mortgage?', 'Mother three-year city replicate weight no. 10', 'When did you last receive welfare or TANF? (year)', 'When did you and mother start living together? (year)', 'What was the date of your 2nd marriage, other than mother? (year)', 'B30D2. Year father went to jail/prison', 'When did you and current partner get married? (year)', 'How many nights has child spent with mother since first birthday?', 'Couple three-year city replicate weight no. 8', 'E1a1. In last month, about how much did you/family member receive in government']\n",
      "Coefficients: [  4.40964714e-05   4.65904756e-05   4.71882433e-05   4.73027247e-05\n",
      "   5.69986346e-05   5.25911693e-05   4.84827554e-05   5.25036062e-05\n",
      "   7.07462108e-05   1.31304261e-04]\n",
      "\n",
      "========================================================================\n",
      "\n",
      "Material hardship most significant features in this regression: [\"When was child last weighed at doctor's office? (Year)\", 'Constructed - Year of in-home assessment/activity component', 'I26E. Amount received in last 12 months for doing something else to earn money', 'A8B. Year child last lived full-time with biological mother', 'A21a1_yr. Date of most recent accident/injury (year)', 'F4. Amount of rent paid each month', 'Not includ formal child support, how much money did you receive from father?', 'F8C2. Approximate amount received in the last month you received food stamps/EBT', \"BioMom's weight in lb\", 'F13A. Year you last received welfare or TANF']\n",
      "Coefficients: [  1.01949582e-05   1.10824390e-05   1.18576628e-05   1.34392519e-05\n",
      "   1.43483557e-05   2.13632995e-05   2.63633632e-05   6.26555059e-05\n",
      "   7.89132902e-05   1.70522220e-05]\n",
      "\n",
      "========================================================================\n",
      "\n",
      "Eviction most significant features in this regression: ['When did you and father start living together? (year)', 'How much rent do you pay each month?', 'F13A. Year you last received welfare or TANF', 'K1a1. Last month, how much did you/household receive in food stamps?', 'F4. Amount of rent paid each month', 'Approximately how much did you receive last month from other assistance?', 'F8C2. Approximate amount received in the last month you received food stamps/EBT', 'Approximately how much did you receive last month from food stamps?', 'On what date were you divorced from this woman? (year)', 'About how much in child support have you given since agreement was reached?']\n",
      "Coefficients: [  1.76794132e-05   3.50459857e-05   2.28489282e-05   1.98124141e-05\n",
      "   2.90398567e-05   4.29954331e-05   4.48774213e-05   4.92593586e-05\n",
      "   4.77428997e-05   4.63762216e-05]\n",
      "\n",
      "========================================================================\n",
      "\n",
      "Layoff most significant features in this regression: ['How much have you received from father for child in past year?-($ Amount)', 'Not includ formal child support, how much money did you receive from father?', 'A8B. Year child last lived full-time with biological mother', 'When did you and mother separate/divorce? (year)', 'Couple three-year city replicate weight no. 3', \"How much have you given for child/your children's support in year? ($)\", 'F8C3. Approximate amount received in the last month you received other assistanc', 'Approximately how much did you receive last month from other assistance?', 'Approximately how much did you receive last month from other assistance?', '11a1. child height measurements 1']\n",
      "Coefficients: [  3.63884861e-05   3.66062320e-05   4.27614704e-05   3.93620004e-05\n",
      "   5.34597182e-05   4.46339466e-05   2.32547635e-04   3.78208002e-05\n",
      "   4.75314793e-05   4.22827716e-04]\n",
      "\n",
      "========================================================================\n",
      "\n",
      "Job Training most significant features in this regression: ['When did romantic relationship with mother end? (year)', 'How much rent do you pay each month?', 'When did you and current partner get married? (year)', 'J2A. Amount you gave/loaned money to friends/relatives during past 12 months', 'When did you and CP start living together? (year)', 'D2C2. Year you and current partner got married', \"BioMom's weight in lb\", 'What are the monthly mortgage payments(Incl Taxes & Insurance)?', 'F4. Amount of rent paid each month', 'What is your religious denomination?']\n",
      "Coefficients: [  4.45916659e-05   4.62321547e-05   4.95662004e-05   5.12066454e-05\n",
      "   5.27495832e-05   5.94340182e-05   8.43150540e-05   5.76374665e-05\n",
      "   6.08653922e-05   6.09923642e-05]\n"
     ]
    }
   ],
   "source": [
    "# lassolars features\n",
    "lassolarsregbasic = linear_model.Lasso()\n",
    "lassolarsregbasic.fit(ff_train_b1,ff_train_outcomes_b1)\n",
    "lassolarscoefs = lassolarsregbasic.coef_\n",
    "\n",
    "coefSelector(lassolarscoefs,10,ff_all_b1)"
   ]
  },
  {
   "cell_type": "code",
   "execution_count": 108,
   "metadata": {},
   "outputs": [
    {
     "name": "stdout",
     "output_type": "stream",
     "text": [
      "GPA most significant features in this regression: ['b9 during last two mths total days you were not able to care for child/children', 'How much time did you serve, altogether? (months)', 'Agree/disagree: my religious faith is a guide for the way I treat my family?', 'On a scale of 1-(least like) to 5-(most like) - Child is very sociable', 'J2F. Number of servings of fresh fruit or vegetables child has on typical day', 'G23k. Past year, times SCG slapped child on the hand, arm, or leg', 'L5. Number of days per week you drop off or pick up child', 'K2b. This is a close-knit neighborhood', 'distance to c - resistant', 'a18a_7 if child disagrees with you says negative things about you, what do you d']\n",
      "Coefficients: [ 0.01733263  0.01737717  0.01827158  0.0195262   0.02301824  0.02275964\n",
      "  0.01877179  0.01946171  0.02125828  0.01894816]\n",
      "\n",
      "========================================================================\n",
      "\n",
      "Grit most significant features in this regression: ['How many years did you attend this program?', 'F1C. Routine administrative duties and paperwork interfere with my teaching', 'Agree/disagree: People around here are willing to help their neighbors', 'G16A. I have little control over the things that happen to me', 'J2E. Number of servings of regular soda child has on typical day', 'D6. Highest grade of school current partner has completed', 'G7. Past year, times PCG spanked child on bottom with bare hand', 'How many months did you/child receive SSI in the past 12 months?', 'How life diff if married BF, overall happiness?', 'G16B. There is really no way I can solve some of the problems I have']\n",
      "Coefficients: [ 0.01498132  0.01521841  0.01506478  0.01528813  0.01728325  0.01568057\n",
      "  0.01933577  0.01740145  0.01686317  0.01581037]\n",
      "\n",
      "========================================================================\n",
      "\n",
      "Material hardship most significant features in this regression: ['G16C. There is little I can do to change many of the important things in my life', 'G4. Length of time feelings usually lasted during that 2 week period', 'D6. Highest grade of school current partner has completed', 'How many months or years has this tension been going on?-(Years)', 'B2A. Number of days mother has seen child in past 30 days', 'I8. Amount of time child spends doing homework on weekend day', 'How many times were you sent to a correctional institution?', 'D2F2. Number of months you and current partner have been romantically involved', 'How many days in past year were you without electricity?', 'C2A. Number of days father has seen child during the past 30 days']\n",
      "Coefficients: [ 0.0043308   0.0043497   0.00454112  0.00478848  0.00521802  0.00482526\n",
      "  0.00485022  0.005132    0.00493388  0.00483672]\n",
      "\n",
      "========================================================================\n",
      "\n",
      "Eviction most significant features in this regression: ['In the past week, how often did you feel fearful?', \"E1B. Country or territory where mother's mother was born\", 'J7. Past year, times PCG spanked child on bottom with bare hand', \"E1E1. Grade completed by mother's biological mother\", 'G1. Your health status in general', 'G2D. Number of stays overnight in a hospital in the past 12 months', 'How much time did you serve, altogether? (months)', 'Days/week: play imaginary games with him/her?', 'C6c. How many days a week do you/father take child to community center activity?', \"What is sixth person's age? (years)\"]\n",
      "Coefficients: [ 0.00707853  0.00710732  0.00747806  0.00716438  0.00751959  0.00857847\n",
      "  0.00777734  0.00932957  0.00839578  0.00774395]\n",
      "\n",
      "========================================================================\n",
      "\n",
      "Layoff most significant features in this regression: ['J11. Past year, times PCG slapped child on the hand, arm, or leg', 'I3. Amount of time child watches TV or videos on a weekday', \"What is seventh person's relationship to you?\", 'Do/did you regularly work: evenings?', 'D2F2. Number of months you and current partner have been romantically involved', 'Days/week: read stories to child?', 'A5C. Age of household member', 'What do you think are the chances that you will ever marry someone?', 'K1D. I often feel tired, worn out, or exhausted from raising a family', 'F1A. Number of times have you have moved in the last four years']\n",
      "Coefficients: [ 0.01228762  0.01248439  0.0129462   0.01324271  0.01333209  0.01491464\n",
      "  0.01795747  0.01446439  0.01373375  0.01366399]\n",
      "\n",
      "========================================================================\n",
      "\n",
      "Job Training most significant features in this regression: [\"What is ninth person's relationship to you?\", 'F3. Amount of control you feel you have in your classroom', \"How often do you & child's father argue about things that are important to you?\", 'True/not true: My shift & work schedule cause extra stress for me & child', 'How many hours each day does primary arrangement usually care for child?', 'True/not true: Where I work is difficult to deal w/child care probs during work', 'How many months has it been going on?', 'Q1E. Parent has given child something else to do instead of what child was doing', 'I16C. In my work schedule I have enough flexibility to handle family needs', 'I13. Number of TVs in home']\n",
      "Coefficients: [ 0.01324787  0.01371849  0.01380448  0.01508443  0.0158266   0.01572039\n",
      "  0.01589707  0.01765405  0.01647594  0.01817063]\n"
     ]
    }
   ],
   "source": [
    "# ridge features\n",
    "ridgeregbasic = linear_model.Ridge()\n",
    "ridgeregbasic.fit(ff_train_b1,ff_train_outcomes_b1)\n",
    "ridgecoefs = ridgeregbasic.coef_\n",
    "\n",
    "coefSelector(ridgecoefs,10,ff_all_b1)"
   ]
  },
  {
   "cell_type": "code",
   "execution_count": 109,
   "metadata": {},
   "outputs": [
    {
     "name": "stdout",
     "output_type": "stream",
     "text": [
      "GPA most significant features in this regression: ['Mother baseline city replicate weight no. 1', 'How much does mother weigh? (pounds)', 'How much money does [gov agency] give you? ($)', 'How much do you pay out-of-pocket for all child care you currently use?', 'How much money does [other] give you? ($)', 'Constructed - PCG PPVT - Raw score', 'What type of business do you own?', 'In what country/territory was your father born?', 'F3B. Monthly mortgage payments including taxes/insurance that are included', 'Father three-year city replicate weight no. 7']\n",
      "Coefficients: [ 0.00017668  0.00018379  0.00020896  0.00021136  0.00022601  0.00026274\n",
      "  0.00032873  0.00052593  0.0003473   0.00028872]\n",
      "\n",
      "========================================================================\n",
      "\n",
      "Grit most significant features in this regression: ['How much money does government agency give you? ($)', 'How much has he agreed to give you each month?-($ Amount)', 'How much do you pay each month? ($)', 'What was the date of your 2nd marriage, other than mother? (year)', 'B30D2. Year father went to jail/prison', 'How much money does [gov agency] give you? ($)', 'When was the original agreement changed? (year)', 'Approximately how much did you/child/other receive each month?', 'Father three-year city replicate weight no. 9', 'E1a1. In last month, about how much did you/family member receive in government']\n",
      "Coefficients: [  8.53235865e-05   8.60489218e-05   9.04680165e-05   9.30580099e-05\n",
      "   1.60370151e-04   9.79646669e-05   1.20359898e-04   1.06612942e-04\n",
      "   1.79454570e-04   2.24899579e-04]\n",
      "\n",
      "========================================================================\n",
      "\n",
      "Material hardship most significant features in this regression: ['F13A. Year you last received welfare or TANF', 'A21a1_yr. Date of most recent accident/injury (year)', 'I26E. Amount received in last 12 months for doing something else to earn money', 'About how much in child support have you given since agreement was reached?', 'A8B. Year child last lived full-time with biological mother', 'Approximately how much did you receive last month from welfare or TANF?', 'F4. Amount of rent paid each month', 'F8C2. Approximate amount received in the last month you received food stamps/EBT', \"BioMom's weight in lb\", 'Not includ formal child support, how much money did you receive from father?']\n",
      "Coefficients: [  1.71784022e-05   1.74458992e-05   1.84263383e-05   1.92939314e-05\n",
      "   2.23203499e-05   3.09548492e-05   2.22319638e-05   5.88883660e-05\n",
      "   1.60954566e-04   3.32141164e-05]\n",
      "\n",
      "========================================================================\n",
      "\n",
      "Eviction most significant features in this regression: ['K1a1. Last month, how much did you/household receive in food stamps?', 'F8C3. Approximate amount received in the last month you received other assistanc', 'How much do you pay each month? ($)', 'F8C2. Approximate amount received in the last month you received food stamps/EBT', 'On what date were you divorced from this woman? (year)', 'Approximately how much did you receive last month from food stamps?', 'Approximately how much did you receive last month from other assistance?', 'How much rent do you pay each month?', 'F23L. Number of days in past 12 months you were without phone service', 'About how much in child support have you given since agreement was reached?']\n",
      "Coefficients: [  2.95518044e-05   2.95630512e-05   3.13055781e-05   4.61438462e-05\n",
      "   6.33724740e-05   6.71157498e-05   5.27586031e-05   4.01204686e-05\n",
      "   2.33275977e-04   5.22021216e-05]\n",
      "\n",
      "========================================================================\n",
      "\n",
      "Layoff most significant features in this regression: ['Approximately how much did you receive last month from other assistance?', 'How many nights altogether has child spent with mother in last 2yrs?', 'Father five-year city replicate weight no. 9', 'Father one-year city replicate weight no. 9', 'Couple three-year city replicate weight no. 3', 'When did mother die? (year)', 'F8C2. Approximate amount received in the last month you received food stamps/EBT', 'child height(cm.)-from mult. measures', 'F8C3. Approximate amount received in the last month you received other assistanc', '11a1. child height measurements 1']\n",
      "Coefficients: [  6.02379327e-05   6.33992859e-05   6.48807313e-05   7.22777347e-05\n",
      "   9.79627498e-05   1.09686137e-04   1.55858734e-04   2.20487547e-04\n",
      "   3.00695955e-04   4.40146803e-04]\n",
      "\n",
      "========================================================================\n",
      "\n",
      "Job Training most significant features in this regression: ['What are your monthly mortgage payments?', \"BioMom's weight in lb\", 'Father one-year city replicate weight no. 1', 'What was the date of your third marriage to someone other than father (year)?', 'How much do you pay each month? ($)', 'Couple three-year city replicate weight no. 5', 'What are the monthly mortgage payments(Incl Taxes & Insurance)?', 'What is your religious denomination?', 'Constructed - Child age at time of mother interview (months)', 'Digit Span percentile rank']\n",
      "Coefficients: [  7.30144810e-05   8.06508130e-05   8.23351935e-05   8.38960244e-05\n",
      "   9.09161140e-05   9.30911308e-05   9.66487334e-05   3.27883011e-04\n",
      "   4.12818312e-04   1.45558105e-04]\n"
     ]
    }
   ],
   "source": [
    "# elastic features\n",
    "elasticregbasic = linear_model.ElasticNet()\n",
    "elasticregbasic.fit(ff_train_b1,ff_train_outcomes_b1)\n",
    "elasticcoefs = elasticregbasic.coef_\n",
    "\n",
    "coefSelector(elasticcoefs,10,ff_all_b1)"
   ]
  },
  {
   "cell_type": "markdown",
   "metadata": {},
   "source": [
    "## Better imputation"
   ]
  },
  {
   "cell_type": "code",
   "execution_count": 81,
   "metadata": {
    "collapsed": true
   },
   "outputs": [],
   "source": [
    "from sklearn.preprocessing import Imputer\n",
    "\n",
    "# imputation using sklearn imputer on mean\n",
    "def imputSklMean(indf):\n",
    "    indf = indf.values\n",
    "    skimput = Imputer(strategy='mean')\n",
    "    indfn = skimput.fit_transform(indf)\n",
    "    indfn = pandas.DataFrame(indfn)\n",
    "    \n",
    "    return indfn\n",
    "\n",
    "# imputation using sklearn imputer on median\n",
    "def imputSklMedian(indf):\n",
    "\n",
    "    indf = indf.values\n",
    "    skimput = Imputer(strategy='median')\n",
    "    indfn = skimput.fit_transform(indf)\n",
    "    indfn = pandas.DataFrame(indfn)\n",
    "    \n",
    "    return indfn\n",
    "\n",
    "# impute with bfill first, then ffill\n",
    "def imputBF(indf):\n",
    "    \n",
    "    # replace NA's with mode\n",
    "    indf = indf.fillna(method='bfill')\n",
    "    indf = indf.fillna(method='ffill')\n",
    "    # if still NA, replace with 1\n",
    "    indf = indf.fillna(value=1)\n",
    "    # replace negative values with 1\n",
    "    num = indf._get_numeric_data()\n",
    "    num[num < 0] = 1\n",
    "    \n",
    "    return indf\n",
    "\n",
    "# impute with ffill first, then bfill\n",
    "def imputFB(indf):\n",
    "    \n",
    "    # replace NA's with mode\n",
    "    indf = indf.fillna(method='ffill')\n",
    "    indf = indf.fillna(method='bfill')\n",
    "    # if still NA, replace with 1\n",
    "    indf = indf.fillna(value=1)\n",
    "    # replace negative values with 1\n",
    "    num = indf._get_numeric_data()\n",
    "    num[num < 0] = 1\n",
    "    \n",
    "    return indf\n",
    "\n",
    "# impute using mean of bfill and ffill\n",
    "def imputBFM(indf):\n",
    "    indf1 = indf.fillna(method='ffill')\n",
    "    indf1 = indf1.fillna(value=1)\n",
    "    indf1 = indf1.values\n",
    "    \n",
    "    indf2 = indf.fillna(method='bfill')\n",
    "    indf2 = indf2.fillna(value=1)\n",
    "    indf2 = indf2.values\n",
    "    \n",
    "    indf_avg = np.add(indf1, indf2) / 2\n",
    "    indfavg = pandas.DataFrame(indf_avg) \n",
    "        \n",
    "    return indfavg"
   ]
  },
  {
   "cell_type": "code",
   "execution_count": 82,
   "metadata": {},
   "outputs": [
    {
     "name": "stdout",
     "output_type": "stream",
     "text": [
      "Time to impute: 4.27112340927124\n",
      "Time to fit and predict: 16.510746717453003\n"
     ]
    },
    {
     "data": {
      "text/plain": [
       "(0.44227348081563311,\n",
       " 0.23518484511052101,\n",
       " 0.024215127110043866,\n",
       " 0.056074160477778051,\n",
       " 0.16536775883669178,\n",
       " 0.17965342107199206)"
      ]
     },
     "execution_count": 82,
     "metadata": {},
     "output_type": "execute_result"
    }
   ],
   "source": [
    "# mean imputation using sklearn imputer (set sklmean)\n",
    "\n",
    "start_time = time.time()\n",
    "\n",
    "ff_train_sklmean = imputSklMean(ff_train)\n",
    "ff_train_outcomes_sklmean = imputSklMean(ff_train_outcomes)\n",
    "ff_all_sklmean = imputSklMean(ff_all)\n",
    "\n",
    "print ('Time to impute:', str(time.time() - start_time))\n",
    "\n",
    "llreg = linear_model.LassoLars()\n",
    "sklmean_lassolars = predictor(ff_train_sklmean,ff_train_outcomes_sklmean,ff_all_sklmean,\"sklmean_lassolars\",llreg)\n",
    "trnStat(sklmean_lassolars)"
   ]
  },
  {
   "cell_type": "code",
   "execution_count": 84,
   "metadata": {},
   "outputs": [
    {
     "name": "stdout",
     "output_type": "stream",
     "text": [
      "Time to impute: 16.528984785079956\n",
      "Time to fit and predict: 14.854175806045532\n"
     ]
    },
    {
     "data": {
      "text/plain": [
       "(0.44588130873034237,\n",
       " 0.23576166537907683,\n",
       " 0.025263624040620679,\n",
       " 0.056420548258489016,\n",
       " 0.17228996109056585,\n",
       " 0.1849903859192743)"
      ]
     },
     "execution_count": 84,
     "metadata": {},
     "output_type": "execute_result"
    }
   ],
   "source": [
    "# median imputation using sklearn imputer (set sklmed)\n",
    "\n",
    "start_time = time.time()\n",
    "\n",
    "ff_train_sklmed = imputSklMedian(ff_train)\n",
    "ff_train_outcomes_sklmed = imputSklMedian(ff_train_outcomes)\n",
    "ff_all_sklmed = imputSklMedian(ff_all)\n",
    "\n",
    "print ('Time to impute:', str(time.time() - start_time))\n",
    "\n",
    "llreg = linear_model.LassoLars()\n",
    "sklmed_lassolars = predictor(ff_train_sklmed,ff_train_outcomes_sklmed,ff_all_sklmed,\"sklmed_lassolars\",llreg)\n",
    "trnStat(sklmed_lassolars)"
   ]
  },
  {
   "cell_type": "code",
   "execution_count": 85,
   "metadata": {},
   "outputs": [
    {
     "name": "stdout",
     "output_type": "stream",
     "text": [
      "Time to impute: 6.748135805130005\n",
      "Time to fit and predict: 20.550158500671387\n"
     ]
    },
    {
     "data": {
      "text/plain": [
       "(0.44391186833464191,\n",
       " 0.23518660003876338,\n",
       " 0.024250382384364024,\n",
       " 0.056134862407832123,\n",
       " 0.16540230684340046,\n",
       " 0.1796758788162901)"
      ]
     },
     "execution_count": 85,
     "metadata": {},
     "output_type": "execute_result"
    }
   ],
   "source": [
    "# backfill imputation (set bf)\n",
    "\n",
    "start_time = time.time()\n",
    "\n",
    "ff_train_bf = imputBF(ff_train)\n",
    "ff_train_outcomes_bf = imputBF(ff_train_outcomes)\n",
    "ff_all_bf = imputBF(ff_all)\n",
    "\n",
    "print ('Time to impute:', str(time.time() - start_time))\n",
    "\n",
    "llreg = linear_model.LassoLars()\n",
    "bf_lassolars = predictor(ff_train_bf,ff_train_outcomes_bf,ff_all_bf,\"bf_lassolars\",llreg)\n",
    "trnStat(bf_lassolars)"
   ]
  },
  {
   "cell_type": "code",
   "execution_count": 86,
   "metadata": {},
   "outputs": [
    {
     "name": "stdout",
     "output_type": "stream",
     "text": [
      "Time to impute: 7.216681718826294\n",
      "Time to fit and predict: 18.334399700164795\n"
     ]
    },
    {
     "data": {
      "text/plain": [
       "(0.44346287809009061,\n",
       " 0.23521717442659398,\n",
       " 0.024219622923971215,\n",
       " 0.056074210628196126,\n",
       " 0.16584771621999156,\n",
       " 0.17969667085866856)"
      ]
     },
     "execution_count": 86,
     "metadata": {},
     "output_type": "execute_result"
    }
   ],
   "source": [
    "# ffill imputation (set fb)\n",
    "\n",
    "start_time = time.time()\n",
    "\n",
    "ff_train_fb = imputFB(ff_train)\n",
    "ff_train_outcomes_fb = imputFB(ff_train_outcomes)\n",
    "ff_all_fb = imputFB(ff_all)\n",
    "\n",
    "print ('Time to impute:', str(time.time() - start_time))\n",
    "\n",
    "llreg = linear_model.LassoLars()\n",
    "fb_lassolars = predictor(ff_train_fb,ff_train_outcomes_fb,ff_all_fb,\"fb_lassolars\",llreg)\n",
    "trnStat(fb_lassolars)"
   ]
  },
  {
   "cell_type": "code",
   "execution_count": 88,
   "metadata": {},
   "outputs": [
    {
     "name": "stdout",
     "output_type": "stream",
     "text": [
      "Time to impute: 3.2298858165740967\n",
      "Time to fit and predict: 16.19672417640686\n"
     ]
    },
    {
     "data": {
      "text/plain": [
       "(0.44228992790062244,\n",
       " 0.23520678498099276,\n",
       " 0.024220589871767614,\n",
       " 0.056092266153312427,\n",
       " 0.16554789192207864,\n",
       " 0.17965362112481645)"
      ]
     },
     "execution_count": 88,
     "metadata": {},
     "output_type": "execute_result"
    }
   ],
   "source": [
    "# mean of bfill/ffill imputation (set bfm)\n",
    "\n",
    "start_time = time.time()\n",
    "\n",
    "ff_train_bfm = imputBFM(ff_train)\n",
    "ff_train_outcomes_bfm = imputBFM(ff_train_outcomes)\n",
    "ff_all_bfm = imputBFM(ff_all)\n",
    "\n",
    "print ('Time to impute:', str(time.time() - start_time))\n",
    "\n",
    "llreg = linear_model.LassoLars()\n",
    "bfm_lassolars = predictor(ff_train_bfm,ff_train_outcomes_bfm,ff_all_bfm,\"bfm_lassolars\",llreg)\n",
    "trnStat(bfm_lassolars)"
   ]
  },
  {
   "cell_type": "markdown",
   "metadata": {},
   "source": [
    "## Bootstrap"
   ]
  },
  {
   "cell_type": "code",
   "execution_count": 89,
   "metadata": {
    "collapsed": true
   },
   "outputs": [],
   "source": [
    "def bootstrapOrdinary(trainX,trainY,k,n,testModel):\n",
    "    \n",
    "    def trnStatMod(cand,actual):\n",
    "        ce1 = ce2 = ce3 = ce4 = ce5 = ce6 = 0\n",
    "        c1 = c2 = c3 = c4 = c5 = c6 = 0\n",
    "\n",
    "        for i in range(0,len(cand)):\n",
    "            if np.isfinite(actual[i,0]) and np.isfinite(cand[i,0]):\n",
    "                ce1 += (actual[i,0] - cand[i,0])**2\n",
    "                c1 += 1\n",
    "            if np.isfinite(actual[i,1]) and np.isfinite(cand[i,1]):\n",
    "                ce2 += (actual[i,1] - cand[i,1])**2\n",
    "                c2 += 1\n",
    "            if np.isfinite(actual[i,2]) and np.isfinite(cand[i,2]):\n",
    "                ce3 += (actual[i,2] - cand[i,2])**2\n",
    "                c3 += 1\n",
    "            if np.isfinite(actual[i,3]) and np.isfinite(cand[i,3]):\n",
    "                ce4 += (actual[i,3] - cand[i,3])**2\n",
    "                c4 += 1\n",
    "            if np.isfinite(actual[i,4]) and np.isfinite(cand[i,4]):\n",
    "                ce5 += (actual[i,4] - cand[i,4])**2\n",
    "                c5 += 1\n",
    "            if np.isfinite(actual[i,5]) and np.isfinite(cand[i,5]):\n",
    "                ce6 += (actual[i,5] - cand[i,5])**2\n",
    "                c6 += 1\n",
    "\n",
    "        return(ce1/c1,ce2/c2,ce3/c3,ce4/c4,ce5/c5,ce6/c6)\n",
    "    \n",
    "    predLabels = ['GPA','Grit','Material Hardship','Eviction','Layoff','Job Training']\n",
    "    \n",
    "    print(\"Ordinary bootstrap with k = \" + str(k) + \" / n = \" + str(n))           \n",
    "    trainYnpa = trainY.values\n",
    "    trainX = trainX.reset_index(drop=True)\n",
    "    trainXY = trainX.join(trainY)\n",
    "    stats = []\n",
    "    for i in range(0,k):\n",
    "        print(\".\",end='')\n",
    "        sampleXY = trainXY.sample(n,replace=True)\n",
    "        \n",
    "        sampleX = sampleXY.iloc[:, :12910]\n",
    "        sampleY = sampleXY.iloc[:, 12910:12916]\n",
    "        \n",
    "        testModel.fit(sampleX, sampleY)\n",
    "        \n",
    "        pred = testModel.predict(trainX)\n",
    "        \n",
    "        stats.append(trnStatMod(pred,trainYnpa))\n",
    "    \n",
    "    \n",
    "    meanMSE = []\n",
    "    stdMSE = []\n",
    "    xMSE = []\n",
    "    \n",
    "    for i in range(0,6):\n",
    "        meanMSE.append(np.mean([stat[i] for stat in stats]))\n",
    "        stdMSE.append(np.std([stat[i] for stat in stats]))\n",
    "        #xMSE.append([stat[i] for stat in stats])\n",
    "        plt.hist([stat[i] for stat in stats], bins='auto')\n",
    "        plt.title(\"Histogram of MSE of estimated \" + predLabels[i])\n",
    "        plt.show()\n",
    "    print()\n",
    "    print(\"Avg of MSEs: \" + str(meanMSE))\n",
    "    print(\"Std Dev of MSEs: \" + str(stdMSE))\n",
    "    "
   ]
  },
  {
   "cell_type": "code",
   "execution_count": 90,
   "metadata": {
    "collapsed": true
   },
   "outputs": [],
   "source": [
    "from sklearn.model_selection import KFold\n",
    "\n",
    "def bootstrapCV(trainX,trainY,k,n,folds,testModel):\n",
    "    \n",
    "    def trnStatMod(cand,actual):\n",
    "        ce1 = ce2 = ce3 = ce4 = ce5 = ce6 = 0\n",
    "        c1 = c2 = c3 = c4 = c5 = c6 = 0\n",
    "\n",
    "        for i in range(0,len(cand)):\n",
    "            if np.isfinite(actual[i,0]) and np.isfinite(cand[i,0]):\n",
    "                ce1 += (actual[i,0] - cand[i,0])**2\n",
    "                c1 += 1\n",
    "            if np.isfinite(actual[i,1]) and np.isfinite(cand[i,1]):\n",
    "                ce2 += (actual[i,1] - cand[i,1])**2\n",
    "                c2 += 1\n",
    "            if np.isfinite(actual[i,2]) and np.isfinite(cand[i,2]):\n",
    "                ce3 += (actual[i,2] - cand[i,2])**2\n",
    "                c3 += 1\n",
    "            if np.isfinite(actual[i,3]) and np.isfinite(cand[i,3]):\n",
    "                ce4 += (actual[i,3] - cand[i,3])**2\n",
    "                c4 += 1\n",
    "            if np.isfinite(actual[i,4]) and np.isfinite(cand[i,4]):\n",
    "                ce5 += (actual[i,4] - cand[i,4])**2\n",
    "                c5 += 1\n",
    "            if np.isfinite(actual[i,5]) and np.isfinite(cand[i,5]):\n",
    "                ce6 += (actual[i,5] - cand[i,5])**2\n",
    "                c6 += 1\n",
    "\n",
    "        return(ce1/c1,ce2/c2,ce3/c3,ce4/c4,ce5/c5,ce6/c6)\n",
    "    \n",
    "    predLabels = ['GPA','Grit','Material Hardship','Eviction','Layoff','Job Training']\n",
    "    \n",
    "    print(\"CV bootstrap with k = \" + str(k) + \" / n = \" + str(n) + \" / folds = \" + str(folds))           \n",
    "    trainYnpa = trainY.values\n",
    "    trainX = trainX.reset_index(drop=True)\n",
    "    trainXY = trainX.join(trainY)\n",
    "    stats = []\n",
    "    for i in range(0,k):        \n",
    "        kf = KFold(n_splits=folds)\n",
    "        \n",
    "        sampleXY = trainXY.sample(n,replace=True)\n",
    "        \n",
    "        sampleX = sampleXY.iloc[:, :12910]\n",
    "        sampleY = sampleXY.iloc[:, 12910:12916]\n",
    "        \n",
    "        sampleX = sampleX.values\n",
    "        sampleY = sampleY.values\n",
    "                \n",
    "        for train_index, test_index in kf.split(sampleX):\n",
    "            print(\".\",end='')\n",
    "            trainX, testX = sampleX[train_index, :], sampleX[test_index, :]\n",
    "            trainY, testY = sampleY[train_index, :], sampleY[test_index, :]\n",
    "                \n",
    "            testModel.fit(trainX, trainY)\n",
    "        \n",
    "            pred = testModel.predict(testX)\n",
    "        \n",
    "            stats.append(trnStatMod(pred,testY))\n",
    "    \n",
    "    \n",
    "    meanMSE = []\n",
    "    stdMSE = []\n",
    "    xMSE = []\n",
    "    \n",
    "    for i in range(0,6):\n",
    "        meanMSE.append(np.mean([stat[i] for stat in stats]))\n",
    "        stdMSE.append(np.std([stat[i] for stat in stats]))\n",
    "        #xMSE.append([stat[i] for stat in stats])\n",
    "        plt.hist([stat[i] for stat in stats], bins='auto')\n",
    "        plt.title(\"Histogram of MSE of estimated \" + predLabels[i])\n",
    "        plt.show()\n",
    "    print()\n",
    "    print(\"Avg of MSEs: \" + str(meanMSE))\n",
    "    print(\"Std Dev of MSEs: \" + str(stdMSE))\n",
    "    "
   ]
  },
  {
   "cell_type": "code",
   "execution_count": 101,
   "metadata": {
    "collapsed": true
   },
   "outputs": [],
   "source": [
    "def bootstrapLOO(trainX,trainY,k,n,testModel):\n",
    "    \n",
    "    def trnStatMod(cand,actual,excl):\n",
    "        ce1 = ce2 = ce3 = ce4 = ce5 = ce6 = 0\n",
    "        c1 = c2 = c3 = c4 = c5 = c6 = 0\n",
    "\n",
    "        for i in range(0,len(cand)):\n",
    "            if i not in excl:\n",
    "                if np.isfinite(actual[i,0]) and np.isfinite(cand[i,0]):\n",
    "                    ce1 += (actual[i,0] - cand[i,0])**2\n",
    "                    c1 += 1\n",
    "                if np.isfinite(actual[i,1]) and np.isfinite(cand[i,1]):\n",
    "                    ce2 += (actual[i,1] - cand[i,1])**2\n",
    "                    c2 += 1\n",
    "                if np.isfinite(actual[i,2]) and np.isfinite(cand[i,2]):\n",
    "                    ce3 += (actual[i,2] - cand[i,2])**2\n",
    "                    c3 += 1\n",
    "                if np.isfinite(actual[i,3]) and np.isfinite(cand[i,3]):\n",
    "                    ce4 += (actual[i,3] - cand[i,3])**2\n",
    "                    c4 += 1\n",
    "                if np.isfinite(actual[i,4]) and np.isfinite(cand[i,4]):\n",
    "                    ce5 += (actual[i,4] - cand[i,4])**2\n",
    "                    c5 += 1\n",
    "                if np.isfinite(actual[i,5]) and np.isfinite(cand[i,5]):\n",
    "                    ce6 += (actual[i,5] - cand[i,5])**2\n",
    "                    c6 += 1\n",
    "        return(ce1/c1,ce2/c2,ce3/c3,ce4/c4,ce5/c5,ce6/c6)\n",
    "    \n",
    "    predLabels = ['GPA','Grit','Material Hardship','Eviction','Layoff','Job Training']\n",
    "    \n",
    "    print(\"Leave one out bootstrap with k = \" + str(k) + \" / n = \" + str(n))           \n",
    "    trainYnpa = trainY.values\n",
    "    trainX = trainX.reset_index(drop=True)\n",
    "    trainXY = trainX.join(trainY)\n",
    "    stats = []\n",
    "    for i in range(0,k):\n",
    "        print(\".\",end='')\n",
    "        sampleXY = trainXY.sample(n,replace=True)\n",
    "        \n",
    "        exclude = sampleXY.index.values\n",
    "\n",
    "        sampleX = sampleXY.iloc[:, :12910]\n",
    "        sampleY = sampleXY.iloc[:, 12910:12916]\n",
    "        \n",
    "        testModel.fit(sampleX, sampleY)\n",
    "        \n",
    "        pred = testModel.predict(trainX)\n",
    "\n",
    "        stats.append(trnStatMod(pred,trainYnpa,exclude))\n",
    "    \n",
    "    \n",
    "    meanMSE = []\n",
    "    stdMSE = []\n",
    "    xMSE = []\n",
    "    \n",
    "    for i in range(0,6):\n",
    "        meanMSE.append(np.mean([stat[i] for stat in stats]))\n",
    "        stdMSE.append(np.std([stat[i] for stat in stats]))\n",
    "        #xMSE.append([stat[i] for stat in stats])\n",
    "        plt.hist([stat[i] for stat in stats], bins='auto')\n",
    "        plt.title(\"Histogram of MSE of estimated \" + predLabels[i])\n",
    "        plt.show()\n",
    "    print()\n",
    "    print(\"Avg of MSEs: \" + str(meanMSE))\n",
    "    print(\"Std Dev of MSEs: \" + str(stdMSE))\n",
    "    "
   ]
  },
  {
   "cell_type": "code",
   "execution_count": 102,
   "metadata": {},
   "outputs": [
    {
     "name": "stdout",
     "output_type": "stream",
     "text": [
      "Ordinary bootstrap with k = 250 / n = 500\n",
      ".........................................................................................................................................................................................................................................................."
     ]
    },
    {
     "data": {
      "image/png": "[encoded data removed]",
      "text/plain": [
       "<matplotlib.figure.Figure at 0x1c19e66b240>"
      ]
     },
     "metadata": {},
     "output_type": "display_data"
    },
    {
     "data": {
      "image/png": "[encoded data removed]",
      "text/plain": [
       "<matplotlib.figure.Figure at 0x1c19df1e198>"
      ]
     },
     "metadata": {},
     "output_type": "display_data"
    },
    {
     "data": {
      "image/png": "[encoded data removed]",
      "text/plain": [
       "<matplotlib.figure.Figure at 0x1c19c1242e8>"
      ]
     },
     "metadata": {},
     "output_type": "display_data"
    },
    {
     "data": {
      "image/png": "[encoded data removed]",
      "text/plain": [
       "<matplotlib.figure.Figure at 0x1c1ec6bd358>"
      ]
     },
     "metadata": {},
     "output_type": "display_data"
    },
    {
     "data": {
      "image/png": "[encoded data removed]",
      "text/plain": [
       "<matplotlib.figure.Figure at 0x1c19c31feb8>"
      ]
     },
     "metadata": {},
     "output_type": "display_data"
    },
    {
     "data": {
      "image/png": "[encoded data removed]",
      "text/plain": [
       "<matplotlib.figure.Figure at 0x1c19e694668>"
      ]
     },
     "metadata": {},
     "output_type": "display_data"
    },
    {
     "name": "stdout",
     "output_type": "stream",
     "text": [
      "\n",
      "Avg of MSEs: [0.27985830989863303, 0.23032711079443635, 0.019006963324176597, 0.039421028956152855, 0.11026021779915063, 0.13579933945874589]\n",
      "Std Dev of MSEs: [0.00075363422059317035, 0.00061167209895220565, 5.6374872265949851e-05, 0.00013036991555151923, 0.00026334309372425533, 0.00034005052128044741]\n"
     ]
    }
   ],
   "source": [
    "llreg = linear_model.LassoLars()\n",
    "\n",
    "bootstrapOrdinary(ff_train_b1,ff_train_outcomes_b1,250,500,llreg)"
   ]
  },
  {
   "cell_type": "code",
   "execution_count": 104,
   "metadata": {},
   "outputs": [
    {
     "name": "stdout",
     "output_type": "stream",
     "text": [
      "CV bootstrap with k = 50 / n = 500 / folds = 5\n",
      ".........................................................................................................................................................................................................................................................."
     ]
    },
    {
     "data": {
      "image/png": "[encoded data removed]",
      "text/plain": [
       "<matplotlib.figure.Figure at 0x1c19dd8dda0>"
      ]
     },
     "metadata": {},
     "output_type": "display_data"
    },
    {
     "data": {
      "image/png": "[encoded data removed]",
      "text/plain": [
       "<matplotlib.figure.Figure at 0x1c185f44c50>"
      ]
     },
     "metadata": {},
     "output_type": "display_data"
    },
    {
     "data": {
      "image/png": "[encoded data removed]",
      "text/plain": [
       "<matplotlib.figure.Figure at 0x1c19e512240>"
      ]
     },
     "metadata": {},
     "output_type": "display_data"
    },
    {
     "data": {
      "image/png": "[encoded data removed]",
      "text/plain": [
       "<matplotlib.figure.Figure at 0x1c19dccdda0>"
      ]
     },
     "metadata": {},
     "output_type": "display_data"
    },
    {
     "data": {
      "image/png": "[encoded data removed]",
      "text/plain": [
       "<matplotlib.figure.Figure at 0x1c19cdf7390>"
      ]
     },
     "metadata": {},
     "output_type": "display_data"
    },
    {
     "data": {
      "image/png": "[encoded data removed]",
      "text/plain": [
       "<matplotlib.figure.Figure at 0x1c19e8a9780>"
      ]
     },
     "metadata": {},
     "output_type": "display_data"
    },
    {
     "name": "stdout",
     "output_type": "stream",
     "text": [
      "\n",
      "Avg of MSEs: [0.27943931562499996, 0.23556713750000002, 0.018728067355371917, 0.039590599999999997, 0.11182989999999998, 0.13767499999999999]\n",
      "Std Dev of MSEs: [0.054315827251054973, 0.044050079106312659, 0.0049868658139620081, 0.017928915378237445, 0.02258951610515374, 0.024145564848953117]\n"
     ]
    }
   ],
   "source": [
    "llreg = linear_model.LassoLars()\n",
    "\n",
    "bootstrapCV(ff_train_b1,ff_train_outcomes_b1,50,500,5,llreg)"
   ]
  },
  {
   "cell_type": "code",
   "execution_count": 110,
   "metadata": {},
   "outputs": [
    {
     "name": "stdout",
     "output_type": "stream",
     "text": [
      "Leave one out bootstrap with k = 250 / n = 500\n",
      ".........................................................................................................................................................................................................................................................."
     ]
    },
    {
     "data": {
      "image/png": "[encoded data removed]",
      "text/plain": [
       "<matplotlib.figure.Figure at 0x1c19e8a90b8>"
      ]
     },
     "metadata": {},
     "output_type": "display_data"
    },
    {
     "data": {
      "image/png": "[encoded data removed]",
      "text/plain": [
       "<matplotlib.figure.Figure at 0x1c19cb25e48>"
      ]
     },
     "metadata": {},
     "output_type": "display_data"
    },
    {
     "data": {
      "image/png": "[encoded data removed]",
      "text/plain": [
       "<matplotlib.figure.Figure at 0x1c19cbdad30>"
      ]
     },
     "metadata": {},
     "output_type": "display_data"
    },
    {
     "data": {
      "image/png": "[encoded data removed]",
      "text/plain": [
       "<matplotlib.figure.Figure at 0x1c1ee88f898>"
      ]
     },
     "metadata": {},
     "output_type": "display_data"
    },
    {
     "data": {
      "image/png": "[encoded data removed]",
      "text/plain": [
       "<matplotlib.figure.Figure at 0x1c19c3996d8>"
      ]
     },
     "metadata": {},
     "output_type": "display_data"
    },
    {
     "data": {
      "image/png": "[encoded data removed]",
      "text/plain": [
       "<matplotlib.figure.Figure at 0x1c19e051d68>"
      ]
     },
     "metadata": {},
     "output_type": "display_data"
    },
    {
     "name": "stdout",
     "output_type": "stream",
     "text": [
      "\n",
      "Avg of MSEs: [0.2801038433188851, 0.23054209973768616, 0.019003916348956842, 0.039570758009213773, 0.11080670064792283, 0.13585470434781735]\n",
      "Std Dev of MSEs: [0.0058009810431667507, 0.0045980621920316336, 0.00051921065783334453, 0.0021146697590801091, 0.0030899398061783019, 0.0027080983364861284]\n"
     ]
    }
   ],
   "source": [
    "llreg = linear_model.LassoLars()\n",
    "\n",
    "bootstrapLOO(ff_train_b1,ff_train_outcomes_b1,250,500,llreg)"
   ]
  }
 ],
 "metadata": {
  "kernelspec": {
   "display_name": "Python 3",
   "language": "python",
   "name": "python3"
  },
  "language_info": {
   "codemirror_mode": {
    "name": "ipython",
    "version": 3
   },
   "file_extension": ".py",
   "mimetype": "text/x-python",
   "name": "python",
   "nbconvert_exporter": "python",
   "pygments_lexer": "ipython3",
   "version": "3.6.3"
  }
 },
 "nbformat": 4,
 "nbformat_minor": 2
}
