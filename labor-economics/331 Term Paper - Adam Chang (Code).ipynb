{
 "cells": [
  {
   "cell_type": "code",
   "execution_count": 1,
   "metadata": {},
   "outputs": [],
   "source": [
    "import pandas as pd\n",
    "import numpy as np\n",
    "import matplotlib.pyplot as plt\n",
    "import statsmodels.discrete.discrete_model as discrete_model"
   ]
  },
  {
   "cell_type": "code",
   "execution_count": 2,
   "metadata": {},
   "outputs": [],
   "source": [
    "import statsmodels.discrete.discrete_model\n",
    "import statsmodels.formula.api as smf"
   ]
  },
  {
   "cell_type": "markdown",
   "metadata": {},
   "source": [
    "# Import"
   ]
  },
  {
   "cell_type": "code",
   "execution_count": 3,
   "metadata": {},
   "outputs": [],
   "source": [
    "df02_mg = pd.read_stata(\"data/hh02dta_b3a/iiia_mg.dta\", convert_categoricals = False)\n",
    "df02_mg1 = pd.read_stata(\"data/hh02dta_b3a/iiia_mg1.dta\", convert_categoricals = False)\n",
    "df02_mt = pd.read_stata(\"data/hh02dta_b3a/iiia_mt.dta\", convert_categoricals = False)\n",
    "df02_mt1 = pd.read_stata(\"data/hh02dta_b3a/iiia_mt1.dta\", convert_categoricals = False)\n",
    "df02_ed = pd.read_stata(\"data/hh02dta_b3a/iiia_ed.dta\", convert_categoricals = False)\n",
    "df02_portad = pd.read_stata(\"data/hh02dta_b3a/iiia_portad.dta\", convert_categoricals = False)\n",
    "df02_hm1 = pd.read_stata(\"data/hh02dta_b3a/iiia_hm1.dta\", convert_categoricals = False)\n",
    "\n",
    "df02_ls = pd.read_stata(\"data/hh02dta_bc/c_ls.dta\", convert_categoricals = False)"
   ]
  },
  {
   "cell_type": "markdown",
   "metadata": {},
   "source": [
    "# Data Cleaning"
   ]
  },
  {
   "cell_type": "markdown",
   "metadata": {},
   "source": [
    "## Temporary Migration for Job"
   ]
  },
  {
   "cell_type": "code",
   "execution_count": 4,
   "metadata": {},
   "outputs": [
    {
     "name": "stderr",
     "output_type": "stream",
     "text": [
      "//anaconda3/envs/econ/lib/python3.7/site-packages/ipykernel/__main__.py:2: SettingWithCopyWarning: \n",
      "A value is trying to be set on a copy of a slice from a DataFrame.\n",
      "Try using .loc[row_indexer,col_indexer] = value instead\n",
      "\n",
      "See the caveats in the documentation: http://pandas.pydata.org/pandas-docs/stable/user_guide/indexing.html#returning-a-view-versus-a-copy\n",
      "  from ipykernel import kernelapp as app\n"
     ]
    }
   ],
   "source": [
    "c02_mt = df02_mt1[[\"folio\", \"ls\", \"mt14a\"]]\n",
    "c02_mt[\"mtJob\"] = c02_mt[\"mt14a\"].fillna(0)\n",
    "c02_mt = c02_mt[[\"folio\", \"ls\", \"mtJob\"]]"
   ]
  },
  {
   "cell_type": "markdown",
   "metadata": {},
   "source": [
    "## Desire to Migrate"
   ]
  },
  {
   "cell_type": "code",
   "execution_count": 5,
   "metadata": {},
   "outputs": [
    {
     "name": "stderr",
     "output_type": "stream",
     "text": [
      "//anaconda3/envs/econ/lib/python3.7/site-packages/ipykernel/__main__.py:2: SettingWithCopyWarning: \n",
      "A value is trying to be set on a copy of a slice from a DataFrame.\n",
      "Try using .loc[row_indexer,col_indexer] = value instead\n",
      "\n",
      "See the caveats in the documentation: http://pandas.pydata.org/pandas-docs/stable/user_guide/indexing.html#returning-a-view-versus-a-copy\n",
      "  from ipykernel import kernelapp as app\n"
     ]
    }
   ],
   "source": [
    "c02_desire = df02_mg[[\"folio\", \"ls\", \"mg36_1\"]]\n",
    "c02_desire[\"desire\"] = (c02_desire[\"mg36_1\"] == 1) * 1\n",
    "c02_desire = c02_desire[[\"folio\", \"ls\", \"desire\"]]"
   ]
  },
  {
   "cell_type": "markdown",
   "metadata": {},
   "source": [
    "## Permanent Migration for Job"
   ]
  },
  {
   "cell_type": "code",
   "execution_count": 6,
   "metadata": {},
   "outputs": [],
   "source": [
    "c02_mg = df02_mg1[[\"folio\", \"ls\", \"mg25a\"]]"
   ]
  },
  {
   "cell_type": "code",
   "execution_count": 7,
   "metadata": {},
   "outputs": [
    {
     "name": "stderr",
     "output_type": "stream",
     "text": [
      "//anaconda3/envs/econ/lib/python3.7/site-packages/ipykernel/__main__.py:1: SettingWithCopyWarning: \n",
      "A value is trying to be set on a copy of a slice from a DataFrame.\n",
      "Try using .loc[row_indexer,col_indexer] = value instead\n",
      "\n",
      "See the caveats in the documentation: http://pandas.pydata.org/pandas-docs/stable/user_guide/indexing.html#returning-a-view-versus-a-copy\n",
      "  if __name__ == '__main__':\n",
      "//anaconda3/envs/econ/lib/python3.7/site-packages/ipykernel/__main__.py:2: SettingWithCopyWarning: \n",
      "A value is trying to be set on a copy of a slice from a DataFrame.\n",
      "Try using .loc[row_indexer,col_indexer] = value instead\n",
      "\n",
      "See the caveats in the documentation: http://pandas.pydata.org/pandas-docs/stable/user_guide/indexing.html#returning-a-view-versus-a-copy\n",
      "  from ipykernel import kernelapp as app\n"
     ]
    }
   ],
   "source": [
    "c02_mg[\"mg25a\"] = c02_mg[\"mg25a\"] * 1\n",
    "c02_mg[\"mg25a\"] = c02_mg[\"mg25a\"].fillna(0)"
   ]
  },
  {
   "cell_type": "code",
   "execution_count": 8,
   "metadata": {},
   "outputs": [],
   "source": [
    "c02_permanent = c02_mg[[\"folio\", \"ls\"]].drop_duplicates([\"folio\", \"ls\"])\n",
    "\n",
    "has_moved = (c02_mg.groupby([\"folio\", \"ls\"]).sum()[\"mg25a\"].values) > 0\n",
    "\n",
    "c02_permanent[\"mg_perm_job\"] = has_moved * 1"
   ]
  },
  {
   "cell_type": "markdown",
   "metadata": {},
   "source": [
    "### Education"
   ]
  },
  {
   "cell_type": "code",
   "execution_count": 9,
   "metadata": {},
   "outputs": [],
   "source": [
    "c02_ed = df02_ed[[\"ed03\", \"ed06\", \"ed09\", \"ed14_22\", \"ed15_2\", \"ed17_2\", \"folio\", \"ls\"]]\n",
    "c02_ed = pd.merge(c02_ed, df02_portad[[\"folio\", \"ls\", \"edad\", \"ent\"]], how = 'left', on = ['folio','ls'])\n"
   ]
  },
  {
   "cell_type": "code",
   "execution_count": 10,
   "metadata": {},
   "outputs": [
    {
     "name": "stderr",
     "output_type": "stream",
     "text": [
      "//anaconda3/envs/econ/lib/python3.7/site-packages/ipykernel/__main__.py:11: SettingWithCopyWarning: \n",
      "A value is trying to be set on a copy of a slice from a DataFrame.\n",
      "Try using .loc[row_indexer,col_indexer] = value instead\n",
      "\n",
      "See the caveats in the documentation: http://pandas.pydata.org/pandas-docs/stable/user_guide/indexing.html#returning-a-view-versus-a-copy\n"
     ]
    }
   ],
   "source": [
    "\n",
    "c02_ed = c02_ed.rename(columns={\"ed03\": \"indig\",\n",
    "                                \"ed09\": \"technical\",\n",
    "                                \"ed14_22\": \"year_quit\",\n",
    "                                \"ed15_2\": \"age_quit\",\n",
    "                                \"ed17_2\": \"age_start\"})\n",
    "\n",
    "# Change from their coding to dummy\n",
    "c02_ed[\"indig\"] = (c02_ed[\"indig\"] == 1)\n",
    "\n",
    "# Change don't know codings to 0\n",
    "c02_ed[c02_ed[\"ed06\"] == 98][\"ed06\"] = 0\n",
    "\n",
    "# Create some dummy variables\n",
    "c02_ed[\"hs\"] = (c02_ed[\"ed06\"] >= 6)\n",
    "c02_ed[\"college\"] = (c02_ed[\"ed06\"] >= 8)\n",
    "\n",
    "# Calculate age_quit using current age and year_quit\n",
    "c02_ed[\"age_quit\"] = c02_ed[\"age_quit\"].fillna(c02_ed[\"edad\"] - (2002 - c02_ed[\"year_quit\"]))\n",
    "c02_ed[\"years_ed\"] = c02_ed[\"age_quit\"] - c02_ed[\"age_start\"]\n",
    "\n",
    "# Calculate \"years_ed\" (imputed) by filling with mean\n",
    "c02_ed[\"age_quit\"] = c02_ed[\"age_quit\"].fillna(c02_ed[\"age_quit\"].mean())\n",
    "c02_ed[\"age_start\"] = c02_ed[\"age_start\"].fillna(c02_ed[\"age_start\"].mean())\n",
    "\n",
    "c02_ed[\"years_ed_impute\"] = c02_ed[\"age_quit\"] - c02_ed[\"age_start\"]\n",
    "\n",
    "c02_ed[\"technical\"] = (c02_ed[\"technical\"].fillna(0) == 1)\n",
    "\n",
    "c02_ed = c02_ed[[\"folio\", \"ls\", \"indig\", \"hs\", \"college\", \"technical\", \"years_ed\", \"years_ed_impute\", \"edad\", \"ent\"]]"
   ]
  },
  {
   "cell_type": "markdown",
   "metadata": {},
   "source": [
    "## Marriage"
   ]
  },
  {
   "cell_type": "code",
   "execution_count": 11,
   "metadata": {},
   "outputs": [],
   "source": [
    "c02_hm = df02_hm1[[\"folio\", \"ls\", \"hm08\"]]"
   ]
  },
  {
   "cell_type": "code",
   "execution_count": 12,
   "metadata": {},
   "outputs": [
    {
     "name": "stderr",
     "output_type": "stream",
     "text": [
      "//anaconda3/envs/econ/lib/python3.7/site-packages/ipykernel/__main__.py:1: SettingWithCopyWarning: \n",
      "A value is trying to be set on a copy of a slice from a DataFrame.\n",
      "Try using .loc[row_indexer,col_indexer] = value instead\n",
      "\n",
      "See the caveats in the documentation: http://pandas.pydata.org/pandas-docs/stable/user_guide/indexing.html#returning-a-view-versus-a-copy\n",
      "  if __name__ == '__main__':\n"
     ]
    }
   ],
   "source": [
    "c02_hm[\"married\"] = (c02_hm[\"hm08\"] <= 2)\n",
    "c02_hm = c02_hm[[\"folio\", \"ls\", \"married\"]]"
   ]
  },
  {
   "cell_type": "markdown",
   "metadata": {},
   "source": [
    "## Household Size and Gender"
   ]
  },
  {
   "cell_type": "code",
   "execution_count": 13,
   "metadata": {},
   "outputs": [],
   "source": [
    "c02_ls = df02_ls[[\"folio\", \"ls\", \"ls04\"]]"
   ]
  },
  {
   "cell_type": "code",
   "execution_count": 14,
   "metadata": {},
   "outputs": [
    {
     "name": "stderr",
     "output_type": "stream",
     "text": [
      "//anaconda3/envs/econ/lib/python3.7/site-packages/ipykernel/__main__.py:1: SettingWithCopyWarning: \n",
      "A value is trying to be set on a copy of a slice from a DataFrame.\n",
      "Try using .loc[row_indexer,col_indexer] = value instead\n",
      "\n",
      "See the caveats in the documentation: http://pandas.pydata.org/pandas-docs/stable/user_guide/indexing.html#returning-a-view-versus-a-copy\n",
      "  if __name__ == '__main__':\n",
      "//anaconda3/envs/econ/lib/python3.7/site-packages/ipykernel/__main__.py:5: SettingWithCopyWarning: \n",
      "A value is trying to be set on a copy of a slice from a DataFrame.\n",
      "Try using .loc[row_indexer,col_indexer] = value instead\n",
      "\n",
      "See the caveats in the documentation: http://pandas.pydata.org/pandas-docs/stable/user_guide/indexing.html#returning-a-view-versus-a-copy\n"
     ]
    }
   ],
   "source": [
    "c02_ls[\"male\"] = (c02_ls[\"ls04\"] == 1) * 1\n",
    "\n",
    "# Calculate HH size by number of HH respondents in MXFLS\n",
    "hh_size = df02_ls.groupby('folio')[\"folio\"].count()\n",
    "c02_ls[\"hh_size\"] = c02_ls[\"folio\"].apply(lambda x: hh_size[x])\n",
    "\n",
    "c02_ls = c02_ls[[\"folio\", \"ls\", \"male\", \"hh_size\"]]"
   ]
  },
  {
   "cell_type": "markdown",
   "metadata": {},
   "source": [
    "# Regressions"
   ]
  },
  {
   "cell_type": "code",
   "execution_count": 15,
   "metadata": {},
   "outputs": [],
   "source": [
    "dg_formula = \" + male + edad + married + indig + hh_size\""
   ]
  },
  {
   "cell_type": "markdown",
   "metadata": {},
   "source": [
    "## Desire to Migrate"
   ]
  },
  {
   "cell_type": "code",
   "execution_count": 16,
   "metadata": {},
   "outputs": [],
   "source": [
    "regdf = c02_desire\n",
    "\n",
    "regdf = pd.merge(regdf, c02_ed, how='inner', on = ['folio','ls'])\n",
    "regdf = pd.merge(regdf, c02_hm, how='inner', on = ['folio','ls'])\n",
    "regdf = pd.merge(regdf, c02_ls, how='inner', on = ['folio','ls'])\n",
    "\n",
    "ent_dummies = pd.get_dummies(regdf[\"ent\"])\n",
    "ent_dummies.columns = [\"ent_\" + str(col).split(\".\")[0] for col in ent_dummies.columns]\n",
    "regdf = pd.concat((regdf, ent_dummies), axis = 1)\n",
    "\n",
    "regdf = regdf.drop_duplicates()"
   ]
  },
  {
   "cell_type": "code",
   "execution_count": 17,
   "metadata": {},
   "outputs": [
    {
     "name": "stdout",
     "output_type": "stream",
     "text": [
      " + ent_3 + ent_5 + ent_9 + ent_10 + ent_11 + ent_14 + ent_15 + ent_16 + ent_17 + ent_19 + ent_20 + ent_21 + ent_25 + ent_26 + ent_30 + ent_31\n"
     ]
    }
   ],
   "source": [
    "ent_dummies_formula = ''\n",
    "\n",
    "for col in ent_dummies.columns:\n",
    "    ent_dummies_formula += (\" + %s\" % col)\n",
    "\n",
    "print(ent_dummies_formula)"
   ]
  },
  {
   "cell_type": "markdown",
   "metadata": {},
   "source": [
    "#### (A1)"
   ]
  },
  {
   "cell_type": "code",
   "execution_count": 18,
   "metadata": {
    "scrolled": true
   },
   "outputs": [
    {
     "name": "stdout",
     "output_type": "stream",
     "text": [
      "Optimization terminated successfully.\n",
      "         Current function value: 0.270368\n",
      "         Iterations 7\n",
      "                          Probit Regression Results                           \n",
      "==============================================================================\n",
      "Dep. Variable:                 desire   No. Observations:                14956\n",
      "Model:                         Probit   Df Residuals:                    14949\n",
      "Method:                           MLE   Df Model:                            6\n",
      "Date:                Sun, 12 Jan 2020   Pseudo R-squ.:                 0.07422\n",
      "Time:                        22:28:08   Log-Likelihood:                -4043.6\n",
      "converged:                       True   LL-Null:                       -4367.8\n",
      "Covariance Type:            nonrobust   LLR p-value:                8.683e-137\n",
      "===================================================================================\n",
      "                      coef    std err          z      P>|z|      [0.025      0.975]\n",
      "-----------------------------------------------------------------------------------\n",
      "Intercept          -0.3902      0.076     -5.115      0.000      -0.540      -0.241\n",
      "hs[T.True]          0.3027      0.037      8.246      0.000       0.231       0.375\n",
      "married[T.True]    -0.2098      0.041     -5.133      0.000      -0.290      -0.130\n",
      "indig[T.True]      -0.0385      0.049     -0.794      0.427      -0.134       0.057\n",
      "male                0.2951      0.031      9.448      0.000       0.234       0.356\n",
      "edad               -0.0242      0.001    -19.476      0.000      -0.027      -0.022\n",
      "hh_size            -0.0072      0.008     -0.942      0.346      -0.022       0.008\n",
      "===================================================================================\n",
      "       Probit Marginal Effects       \n",
      "=====================================\n",
      "Dep. Variable:                 desire\n",
      "Method:                          dydx\n",
      "At:                           overall\n",
      "===================================================================================\n",
      "                     dy/dx    std err          z      P>|z|      [0.025      0.975]\n",
      "-----------------------------------------------------------------------------------\n",
      "hs[T.True]          0.0440      0.005      8.231      0.000       0.034       0.054\n",
      "married[T.True]    -0.0305      0.006     -5.128      0.000      -0.042      -0.019\n",
      "indig[T.True]      -0.0056      0.007     -0.794      0.427      -0.019       0.008\n",
      "male                0.0429      0.005      9.413      0.000       0.034       0.052\n",
      "edad               -0.0035      0.000    -19.094      0.000      -0.004      -0.003\n",
      "hh_size            -0.0010      0.001     -0.942      0.346      -0.003       0.001\n",
      "===================================================================================\n"
     ]
    }
   ],
   "source": [
    "reg = smf.probit('desire ~ hs' + dg_formula, data = regdf).fit()\n",
    "print(reg.summary())\n",
    "print(reg.get_margeff().summary())"
   ]
  },
  {
   "cell_type": "markdown",
   "metadata": {},
   "source": [
    "#### (A2)"
   ]
  },
  {
   "cell_type": "code",
   "execution_count": 19,
   "metadata": {
    "scrolled": true
   },
   "outputs": [
    {
     "name": "stdout",
     "output_type": "stream",
     "text": [
      "Optimization terminated successfully.\n",
      "         Current function value: 0.266422\n",
      "         Iterations 7\n",
      "                          Probit Regression Results                           \n",
      "==============================================================================\n",
      "Dep. Variable:                 desire   No. Observations:                14956\n",
      "Model:                         Probit   Df Residuals:                    14933\n",
      "Method:                           MLE   Df Model:                           22\n",
      "Date:                Sun, 12 Jan 2020   Pseudo R-squ.:                 0.08773\n",
      "Time:                        22:28:09   Log-Likelihood:                -3984.6\n",
      "converged:                       True   LL-Null:                       -4367.8\n",
      "Covariance Type:            nonrobust   LLR p-value:                7.453e-148\n",
      "===================================================================================\n",
      "                      coef    std err          z      P>|z|      [0.025      0.975]\n",
      "-----------------------------------------------------------------------------------\n",
      "Intercept          -0.0900      0.223     -0.403      0.687      -0.527       0.347\n",
      "hs[T.True]          0.3010      0.037      8.048      0.000       0.228       0.374\n",
      "married[T.True]    -0.1947      0.041     -4.695      0.000      -0.276      -0.113\n",
      "indig[T.True]      -0.0309      0.052     -0.588      0.556      -0.134       0.072\n",
      "male                0.2997      0.032      9.507      0.000       0.238       0.362\n",
      "edad               -0.0247      0.001    -19.599      0.000      -0.027      -0.022\n",
      "hh_size            -0.0095      0.008     -1.233      0.217      -0.025       0.006\n",
      "ent_3              -0.0763      0.223     -0.342      0.732      -0.514       0.361\n",
      "ent_5              -0.2891      0.222     -1.303      0.193      -0.724       0.146\n",
      "ent_9               0.0582      0.228      0.255      0.799      -0.389       0.506\n",
      "ent_10             -0.1469      0.220     -0.668      0.504      -0.578       0.284\n",
      "ent_11             -0.3022      0.224     -1.350      0.177      -0.741       0.136\n",
      "ent_14             -0.4780      0.226     -2.117      0.034      -0.920      -0.036\n",
      "ent_15             -0.2226      0.220     -1.013      0.311      -0.653       0.208\n",
      "ent_16             -0.3656      0.220     -1.660      0.097      -0.797       0.066\n",
      "ent_17             -0.4788      0.227     -2.107      0.035      -0.924      -0.034\n",
      "ent_19             -0.6199      0.222     -2.794      0.005      -1.055      -0.185\n",
      "ent_20             -0.1407      0.222     -0.635      0.525      -0.575       0.293\n",
      "ent_21             -0.3092      0.224     -1.383      0.167      -0.747       0.129\n",
      "ent_25             -0.3550      0.219     -1.622      0.105      -0.784       0.074\n",
      "ent_26             -0.1059      0.218     -0.486      0.627      -0.533       0.321\n",
      "ent_30             -0.2634      0.218     -1.208      0.227      -0.691       0.164\n",
      "ent_31             -0.6266      0.230     -2.720      0.007      -1.078      -0.175\n",
      "===================================================================================\n",
      "       Probit Marginal Effects       \n",
      "=====================================\n",
      "Dep. Variable:                 desire\n",
      "Method:                          dydx\n",
      "At:                           overall\n",
      "===================================================================================\n",
      "                     dy/dx    std err          z      P>|z|      [0.025      0.975]\n",
      "-----------------------------------------------------------------------------------\n",
      "hs[T.True]          0.0432      0.005      8.036      0.000       0.033       0.054\n",
      "married[T.True]    -0.0279      0.006     -4.692      0.000      -0.040      -0.016\n",
      "indig[T.True]      -0.0044      0.008     -0.588      0.556      -0.019       0.010\n",
      "male                0.0430      0.005      9.475      0.000       0.034       0.052\n",
      "edad               -0.0035      0.000    -19.248      0.000      -0.004      -0.003\n",
      "hh_size            -0.0014      0.001     -1.233      0.217      -0.004       0.001\n",
      "ent_3              -0.0109      0.032     -0.342      0.732      -0.074       0.052\n",
      "ent_5              -0.0414      0.032     -1.303      0.193      -0.104       0.021\n",
      "ent_9               0.0083      0.033      0.255      0.799      -0.056       0.072\n",
      "ent_10             -0.0211      0.032     -0.668      0.504      -0.083       0.041\n",
      "ent_11             -0.0433      0.032     -1.350      0.177      -0.106       0.020\n",
      "ent_14             -0.0685      0.032     -2.117      0.034      -0.132      -0.005\n",
      "ent_15             -0.0319      0.031     -1.013      0.311      -0.094       0.030\n",
      "ent_16             -0.0524      0.032     -1.660      0.097      -0.114       0.009\n",
      "ent_17             -0.0686      0.033     -2.107      0.035      -0.132      -0.005\n",
      "ent_19             -0.0889      0.032     -2.793      0.005      -0.151      -0.027\n",
      "ent_20             -0.0202      0.032     -0.635      0.525      -0.082       0.042\n",
      "ent_21             -0.0443      0.032     -1.383      0.167      -0.107       0.018\n",
      "ent_25             -0.0509      0.031     -1.621      0.105      -0.112       0.011\n",
      "ent_26             -0.0152      0.031     -0.486      0.627      -0.076       0.046\n",
      "ent_30             -0.0378      0.031     -1.208      0.227      -0.099       0.024\n",
      "ent_31             -0.0898      0.033     -2.719      0.007      -0.155      -0.025\n",
      "===================================================================================\n"
     ]
    }
   ],
   "source": [
    "reg = smf.probit('desire ~ hs' + dg_formula + ent_dummies_formula, data = regdf).fit()\n",
    "print(reg.summary())\n",
    "print(reg.get_margeff().summary())"
   ]
  },
  {
   "cell_type": "markdown",
   "metadata": {},
   "source": [
    "#### (A3)"
   ]
  },
  {
   "cell_type": "code",
   "execution_count": 20,
   "metadata": {
    "scrolled": true
   },
   "outputs": [
    {
     "name": "stdout",
     "output_type": "stream",
     "text": [
      "Optimization terminated successfully.\n",
      "         Current function value: 0.270158\n",
      "         Iterations 7\n",
      "                          Probit Regression Results                           \n",
      "==============================================================================\n",
      "Dep. Variable:                 desire   No. Observations:                14956\n",
      "Model:                         Probit   Df Residuals:                    14948\n",
      "Method:                           MLE   Df Model:                            7\n",
      "Date:                Sun, 12 Jan 2020   Pseudo R-squ.:                 0.07494\n",
      "Time:                        22:28:09   Log-Likelihood:                -4040.5\n",
      "converged:                       True   LL-Null:                       -4367.8\n",
      "Covariance Type:            nonrobust   LLR p-value:                4.192e-137\n",
      "===================================================================================\n",
      "                      coef    std err          z      P>|z|      [0.025      0.975]\n",
      "-----------------------------------------------------------------------------------\n",
      "Intercept          -0.3768      0.077     -4.925      0.000      -0.527      -0.227\n",
      "hs[T.True]          0.2272      0.048      4.745      0.000       0.133       0.321\n",
      "college[T.True]     0.1586      0.063      2.506      0.012       0.035       0.283\n",
      "married[T.True]    -0.2124      0.041     -5.192      0.000      -0.293      -0.132\n",
      "indig[T.True]      -0.0399      0.049     -0.821      0.412      -0.135       0.055\n",
      "male                0.2937      0.031      9.397      0.000       0.232       0.355\n",
      "edad               -0.0245      0.001    -19.586      0.000      -0.027      -0.022\n",
      "hh_size            -0.0065      0.008     -0.851      0.395      -0.021       0.008\n",
      "===================================================================================\n",
      "       Probit Marginal Effects       \n",
      "=====================================\n",
      "Dep. Variable:                 desire\n",
      "Method:                          dydx\n",
      "At:                           overall\n",
      "===================================================================================\n",
      "                     dy/dx    std err          z      P>|z|      [0.025      0.975]\n",
      "-----------------------------------------------------------------------------------\n",
      "hs[T.True]          0.0330      0.007      4.743      0.000       0.019       0.047\n",
      "college[T.True]     0.0230      0.009      2.505      0.012       0.005       0.041\n",
      "married[T.True]    -0.0309      0.006     -5.187      0.000      -0.043      -0.019\n",
      "indig[T.True]      -0.0058      0.007     -0.821      0.412      -0.020       0.008\n",
      "male                0.0427      0.005      9.363      0.000       0.034       0.052\n",
      "edad               -0.0036      0.000    -19.191      0.000      -0.004      -0.003\n",
      "hh_size            -0.0009      0.001     -0.851      0.395      -0.003       0.001\n",
      "===================================================================================\n"
     ]
    }
   ],
   "source": [
    "reg = smf.probit('desire ~ hs + college' + dg_formula, data = regdf).fit()\n",
    "print(reg.summary())\n",
    "print(reg.get_margeff().summary())"
   ]
  },
  {
   "cell_type": "markdown",
   "metadata": {},
   "source": [
    "#### (A4)"
   ]
  },
  {
   "cell_type": "code",
   "execution_count": 21,
   "metadata": {
    "scrolled": true
   },
   "outputs": [
    {
     "name": "stdout",
     "output_type": "stream",
     "text": [
      "Optimization terminated successfully.\n",
      "         Current function value: 0.266169\n",
      "         Iterations 7\n",
      "                          Probit Regression Results                           \n",
      "==============================================================================\n",
      "Dep. Variable:                 desire   No. Observations:                14956\n",
      "Model:                         Probit   Df Residuals:                    14932\n",
      "Method:                           MLE   Df Model:                           23\n",
      "Date:                Sun, 12 Jan 2020   Pseudo R-squ.:                 0.08860\n",
      "Time:                        22:28:09   Log-Likelihood:                -3980.8\n",
      "converged:                       True   LL-Null:                       -4367.8\n",
      "Covariance Type:            nonrobust   LLR p-value:                1.117e-148\n",
      "===================================================================================\n",
      "                      coef    std err          z      P>|z|      [0.025      0.975]\n",
      "-----------------------------------------------------------------------------------\n",
      "Intercept          -0.0703      0.223     -0.315      0.753      -0.508       0.367\n",
      "hs[T.True]          0.2169      0.049      4.451      0.000       0.121       0.312\n",
      "college[T.True]     0.1767      0.064      2.754      0.006       0.051       0.302\n",
      "married[T.True]    -0.1971      0.041     -4.749      0.000      -0.278      -0.116\n",
      "indig[T.True]      -0.0310      0.052     -0.591      0.555      -0.134       0.072\n",
      "male                0.2980      0.032      9.444      0.000       0.236       0.360\n",
      "edad               -0.0251      0.001    -19.729      0.000      -0.028      -0.023\n",
      "hh_size            -0.0088      0.008     -1.135      0.256      -0.024       0.006\n",
      "ent_3              -0.0714      0.223     -0.320      0.749      -0.508       0.366\n",
      "ent_5              -0.2999      0.222     -1.351      0.177      -0.735       0.135\n",
      "ent_9               0.0512      0.228      0.224      0.822      -0.396       0.499\n",
      "ent_10             -0.1500      0.220     -0.682      0.495      -0.581       0.281\n",
      "ent_11             -0.3039      0.224     -1.358      0.174      -0.742       0.135\n",
      "ent_14             -0.4897      0.226     -2.169      0.030      -0.932      -0.047\n",
      "ent_15             -0.2279      0.220     -1.037      0.300      -0.658       0.203\n",
      "ent_16             -0.3710      0.220     -1.685      0.092      -0.803       0.061\n",
      "ent_17             -0.4814      0.227     -2.119      0.034      -0.927      -0.036\n",
      "ent_19             -0.6272      0.222     -2.827      0.005      -1.062      -0.192\n",
      "ent_20             -0.1479      0.221     -0.668      0.504      -0.582       0.286\n",
      "ent_21             -0.3187      0.224     -1.426      0.154      -0.757       0.119\n",
      "ent_25             -0.3545      0.219     -1.619      0.105      -0.783       0.075\n",
      "ent_26             -0.1108      0.218     -0.509      0.611      -0.537       0.316\n",
      "ent_30             -0.2732      0.218     -1.253      0.210      -0.701       0.154\n",
      "ent_31             -0.6347      0.230     -2.754      0.006      -1.086      -0.183\n",
      "===================================================================================\n",
      "       Probit Marginal Effects       \n",
      "=====================================\n",
      "Dep. Variable:                 desire\n",
      "Method:                          dydx\n",
      "At:                           overall\n",
      "===================================================================================\n",
      "                     dy/dx    std err          z      P>|z|      [0.025      0.975]\n",
      "-----------------------------------------------------------------------------------\n",
      "hs[T.True]          0.0311      0.007      4.449      0.000       0.017       0.045\n",
      "college[T.True]     0.0253      0.009      2.753      0.006       0.007       0.043\n",
      "married[T.True]    -0.0282      0.006     -4.746      0.000      -0.040      -0.017\n",
      "indig[T.True]      -0.0044      0.008     -0.591      0.555      -0.019       0.010\n",
      "male                0.0427      0.005      9.414      0.000       0.034       0.052\n",
      "edad               -0.0036      0.000    -19.366      0.000      -0.004      -0.003\n",
      "hh_size            -0.0013      0.001     -1.135      0.256      -0.003       0.001\n",
      "ent_3              -0.0102      0.032     -0.320      0.749      -0.073       0.052\n",
      "ent_5              -0.0430      0.032     -1.351      0.177      -0.105       0.019\n",
      "ent_9               0.0073      0.033      0.224      0.822      -0.057       0.071\n",
      "ent_10             -0.0215      0.032     -0.682      0.495      -0.083       0.040\n",
      "ent_11             -0.0435      0.032     -1.358      0.174      -0.106       0.019\n",
      "ent_14             -0.0702      0.032     -2.169      0.030      -0.134      -0.007\n",
      "ent_15             -0.0326      0.031     -1.037      0.300      -0.094       0.029\n",
      "ent_16             -0.0532      0.032     -1.685      0.092      -0.115       0.009\n",
      "ent_17             -0.0690      0.033     -2.119      0.034      -0.133      -0.005\n",
      "ent_19             -0.0899      0.032     -2.826      0.005      -0.152      -0.028\n",
      "ent_20             -0.0212      0.032     -0.668      0.504      -0.083       0.041\n",
      "ent_21             -0.0457      0.032     -1.425      0.154      -0.108       0.017\n",
      "ent_25             -0.0508      0.031     -1.619      0.105      -0.112       0.011\n",
      "ent_26             -0.0159      0.031     -0.509      0.611      -0.077       0.045\n",
      "ent_30             -0.0391      0.031     -1.253      0.210      -0.100       0.022\n",
      "ent_31             -0.0909      0.033     -2.754      0.006      -0.156      -0.026\n",
      "===================================================================================\n"
     ]
    }
   ],
   "source": [
    "reg = smf.probit('desire ~ hs + college' + dg_formula + ent_dummies_formula, data = regdf).fit()\n",
    "print(reg.summary())\n",
    "print(reg.get_margeff().summary())"
   ]
  },
  {
   "cell_type": "markdown",
   "metadata": {},
   "source": [
    "#### (A5)"
   ]
  },
  {
   "cell_type": "code",
   "execution_count": 22,
   "metadata": {
    "scrolled": true
   },
   "outputs": [
    {
     "name": "stdout",
     "output_type": "stream",
     "text": [
      "Optimization terminated successfully.\n",
      "         Current function value: 0.270819\n",
      "         Iterations 7\n",
      "                          Probit Regression Results                           \n",
      "==============================================================================\n",
      "Dep. Variable:                 desire   No. Observations:                14956\n",
      "Model:                         Probit   Df Residuals:                    14949\n",
      "Method:                           MLE   Df Model:                            6\n",
      "Date:                Sun, 12 Jan 2020   Pseudo R-squ.:                 0.07267\n",
      "Time:                        22:28:10   Log-Likelihood:                -4050.4\n",
      "converged:                       True   LL-Null:                       -4367.8\n",
      "Covariance Type:            nonrobust   LLR p-value:                7.063e-134\n",
      "=====================================================================================\n",
      "                        coef    std err          z      P>|z|      [0.025      0.975]\n",
      "-------------------------------------------------------------------------------------\n",
      "Intercept            -0.3470      0.075     -4.602      0.000      -0.495      -0.199\n",
      "technical[T.True]     0.3089      0.042      7.396      0.000       0.227       0.391\n",
      "married[T.True]      -0.2058      0.041     -5.041      0.000      -0.286      -0.126\n",
      "indig[T.True]        -0.0468      0.049     -0.966      0.334      -0.142       0.048\n",
      "male                  0.3315      0.031     10.656      0.000       0.270       0.392\n",
      "edad                 -0.0249      0.001    -20.227      0.000      -0.027      -0.023\n",
      "hh_size              -0.0100      0.008     -1.326      0.185      -0.025       0.005\n",
      "=====================================================================================\n",
      "       Probit Marginal Effects       \n",
      "=====================================\n",
      "Dep. Variable:                 desire\n",
      "Method:                          dydx\n",
      "At:                           overall\n",
      "=====================================================================================\n",
      "                       dy/dx    std err          z      P>|z|      [0.025      0.975]\n",
      "-------------------------------------------------------------------------------------\n",
      "technical[T.True]     0.0450      0.006      7.385      0.000       0.033       0.057\n",
      "married[T.True]      -0.0300      0.006     -5.037      0.000      -0.042      -0.018\n",
      "indig[T.True]        -0.0068      0.007     -0.966      0.334      -0.021       0.007\n",
      "male                  0.0483      0.005     10.607      0.000       0.039       0.057\n",
      "edad                 -0.0036      0.000    -19.807      0.000      -0.004      -0.003\n",
      "hh_size              -0.0015      0.001     -1.326      0.185      -0.004       0.001\n",
      "=====================================================================================\n"
     ]
    }
   ],
   "source": [
    "reg = smf.probit('desire ~ technical' + dg_formula, data = regdf).fit()\n",
    "print(reg.summary())\n",
    "print(reg.get_margeff().summary())"
   ]
  },
  {
   "cell_type": "markdown",
   "metadata": {},
   "source": [
    "#### (A6)"
   ]
  },
  {
   "cell_type": "code",
   "execution_count": 23,
   "metadata": {
    "scrolled": true
   },
   "outputs": [
    {
     "name": "stdout",
     "output_type": "stream",
     "text": [
      "Optimization terminated successfully.\n",
      "         Current function value: 0.266767\n",
      "         Iterations 7\n",
      "                          Probit Regression Results                           \n",
      "==============================================================================\n",
      "Dep. Variable:                 desire   No. Observations:                14956\n",
      "Model:                         Probit   Df Residuals:                    14933\n",
      "Method:                           MLE   Df Model:                           22\n",
      "Date:                Sun, 12 Jan 2020   Pseudo R-squ.:                 0.08655\n",
      "Time:                        22:28:10   Log-Likelihood:                -3989.8\n",
      "converged:                       True   LL-Null:                       -4367.8\n",
      "Covariance Type:            nonrobust   LLR p-value:                1.131e-145\n",
      "=====================================================================================\n",
      "                        coef    std err          z      P>|z|      [0.025      0.975]\n",
      "-------------------------------------------------------------------------------------\n",
      "Intercept            -0.0800      0.222     -0.360      0.719      -0.516       0.356\n",
      "technical[T.True]     0.3147      0.043      7.399      0.000       0.231       0.398\n",
      "married[T.True]      -0.1896      0.041     -4.577      0.000      -0.271      -0.108\n",
      "indig[T.True]        -0.0389      0.052     -0.743      0.458      -0.142       0.064\n",
      "male                  0.3365      0.031     10.710      0.000       0.275       0.398\n",
      "edad                 -0.0255      0.001    -20.376      0.000      -0.028      -0.023\n",
      "hh_size              -0.0124      0.008     -1.609      0.108      -0.027       0.003\n",
      "ent_3                -0.0406      0.222     -0.183      0.855      -0.476       0.395\n",
      "ent_5                -0.2559      0.221     -1.157      0.247      -0.690       0.178\n",
      "ent_9                 0.1037      0.227      0.456      0.648      -0.342       0.549\n",
      "ent_10               -0.1201      0.219     -0.547      0.584      -0.550       0.310\n",
      "ent_11               -0.2804      0.223     -1.257      0.209      -0.718       0.157\n",
      "ent_14               -0.4346      0.225     -1.932      0.053      -0.876       0.006\n",
      "ent_15               -0.2157      0.219     -0.984      0.325      -0.645       0.214\n",
      "ent_16               -0.3321      0.220     -1.512      0.130      -0.762       0.098\n",
      "ent_17               -0.4175      0.226     -1.845      0.065      -0.861       0.026\n",
      "ent_19               -0.5993      0.221     -2.709      0.007      -1.033      -0.166\n",
      "ent_20               -0.0927      0.221     -0.420      0.675      -0.526       0.340\n",
      "ent_21               -0.2591      0.223     -1.163      0.245      -0.696       0.178\n",
      "ent_25               -0.3154      0.218     -1.445      0.148      -0.743       0.112\n",
      "ent_26               -0.0830      0.217     -0.382      0.702      -0.508       0.342\n",
      "ent_30               -0.2197      0.217     -1.010      0.312      -0.646       0.206\n",
      "ent_31               -0.6288      0.230     -2.734      0.006      -1.080      -0.178\n",
      "=====================================================================================\n",
      "       Probit Marginal Effects       \n",
      "=====================================\n",
      "Dep. Variable:                 desire\n",
      "Method:                          dydx\n",
      "At:                           overall\n",
      "=====================================================================================\n",
      "                       dy/dx    std err          z      P>|z|      [0.025      0.975]\n",
      "-------------------------------------------------------------------------------------\n",
      "technical[T.True]     0.0452      0.006      7.391      0.000       0.033       0.057\n",
      "married[T.True]      -0.0272      0.006     -4.575      0.000      -0.039      -0.016\n",
      "indig[T.True]        -0.0056      0.008     -0.743      0.458      -0.020       0.009\n",
      "male                  0.0483      0.005     10.667      0.000       0.039       0.057\n",
      "edad                 -0.0037      0.000    -19.990      0.000      -0.004      -0.003\n",
      "hh_size              -0.0018      0.001     -1.609      0.108      -0.004       0.000\n",
      "ent_3                -0.0058      0.032     -0.183      0.855      -0.068       0.057\n",
      "ent_5                -0.0367      0.032     -1.157      0.247      -0.099       0.026\n",
      "ent_9                 0.0149      0.033      0.456      0.648      -0.049       0.079\n",
      "ent_10               -0.0172      0.031     -0.547      0.584      -0.079       0.044\n",
      "ent_11               -0.0402      0.032     -1.257      0.209      -0.103       0.023\n",
      "ent_14               -0.0624      0.032     -1.932      0.053      -0.126       0.001\n",
      "ent_15               -0.0310      0.031     -0.985      0.325      -0.093       0.031\n",
      "ent_16               -0.0477      0.032     -1.512      0.130      -0.109       0.014\n",
      "ent_17               -0.0599      0.032     -1.845      0.065      -0.124       0.004\n",
      "ent_19               -0.0860      0.032     -2.708      0.007      -0.148      -0.024\n",
      "ent_20               -0.0133      0.032     -0.420      0.675      -0.075       0.049\n",
      "ent_21               -0.0372      0.032     -1.163      0.245      -0.100       0.025\n",
      "ent_25               -0.0453      0.031     -1.445      0.148      -0.107       0.016\n",
      "ent_26               -0.0119      0.031     -0.382      0.702      -0.073       0.049\n",
      "ent_30               -0.0315      0.031     -1.010      0.312      -0.093       0.030\n",
      "ent_31               -0.0902      0.033     -2.734      0.006      -0.155      -0.026\n",
      "=====================================================================================\n"
     ]
    }
   ],
   "source": [
    "reg = smf.probit('desire ~ technical' + dg_formula + ent_dummies_formula, data = regdf).fit()\n",
    "print(reg.summary())\n",
    "print(reg.get_margeff().summary())"
   ]
  },
  {
   "cell_type": "markdown",
   "metadata": {},
   "source": [
    "#### (A7)"
   ]
  },
  {
   "cell_type": "code",
   "execution_count": 24,
   "metadata": {
    "scrolled": true
   },
   "outputs": [
    {
     "name": "stdout",
     "output_type": "stream",
     "text": [
      "Optimization terminated successfully.\n",
      "         Current function value: 0.268916\n",
      "         Iterations 7\n",
      "                          Probit Regression Results                           \n",
      "==============================================================================\n",
      "Dep. Variable:                 desire   No. Observations:                14956\n",
      "Model:                         Probit   Df Residuals:                    14947\n",
      "Method:                           MLE   Df Model:                            8\n",
      "Date:                Sun, 12 Jan 2020   Pseudo R-squ.:                 0.07919\n",
      "Time:                        22:28:11   Log-Likelihood:                -4021.9\n",
      "converged:                       True   LL-Null:                       -4367.8\n",
      "Covariance Type:            nonrobust   LLR p-value:                4.226e-144\n",
      "=====================================================================================\n",
      "                        coef    std err          z      P>|z|      [0.025      0.975]\n",
      "-------------------------------------------------------------------------------------\n",
      "Intercept            -0.4370      0.077     -5.645      0.000      -0.589      -0.285\n",
      "hs[T.True]            0.1664      0.049      3.394      0.001       0.070       0.262\n",
      "college[T.True]       0.1960      0.064      3.074      0.002       0.071       0.321\n",
      "technical[T.True]     0.2654      0.043      6.190      0.000       0.181       0.349\n",
      "married[T.True]      -0.2134      0.041     -5.208      0.000      -0.294      -0.133\n",
      "indig[T.True]        -0.0298      0.049     -0.611      0.541      -0.125       0.066\n",
      "male                  0.3062      0.031      9.745      0.000       0.245       0.368\n",
      "edad                 -0.0243      0.001    -19.228      0.000      -0.027      -0.022\n",
      "hh_size              -0.0038      0.008     -0.493      0.622      -0.019       0.011\n",
      "=====================================================================================\n",
      "       Probit Marginal Effects       \n",
      "=====================================\n",
      "Dep. Variable:                 desire\n",
      "Method:                          dydx\n",
      "At:                           overall\n",
      "=====================================================================================\n",
      "                       dy/dx    std err          z      P>|z|      [0.025      0.975]\n",
      "-------------------------------------------------------------------------------------\n",
      "hs[T.True]            0.0241      0.007      3.393      0.001       0.010       0.038\n",
      "college[T.True]       0.0283      0.009      3.073      0.002       0.010       0.046\n",
      "technical[T.True]     0.0384      0.006      6.186      0.000       0.026       0.051\n",
      "married[T.True]      -0.0309      0.006     -5.203      0.000      -0.042      -0.019\n",
      "indig[T.True]        -0.0043      0.007     -0.611      0.541      -0.018       0.010\n",
      "male                  0.0443      0.005      9.709      0.000       0.035       0.053\n",
      "edad                 -0.0035      0.000    -18.852      0.000      -0.004      -0.003\n",
      "hh_size              -0.0005      0.001     -0.493      0.622      -0.003       0.002\n",
      "=====================================================================================\n"
     ]
    }
   ],
   "source": [
    "reg = smf.probit('desire ~ hs + college + technical' + dg_formula, data = regdf).fit()\n",
    "print(reg.summary())\n",
    "print(reg.get_margeff().summary())"
   ]
  },
  {
   "cell_type": "markdown",
   "metadata": {},
   "source": [
    "#### (A8)"
   ]
  },
  {
   "cell_type": "code",
   "execution_count": 25,
   "metadata": {
    "scrolled": true
   },
   "outputs": [
    {
     "name": "stdout",
     "output_type": "stream",
     "text": [
      "Optimization terminated successfully.\n",
      "         Current function value: 0.264883\n",
      "         Iterations 7\n",
      "                          Probit Regression Results                           \n",
      "==============================================================================\n",
      "Dep. Variable:                 desire   No. Observations:                14956\n",
      "Model:                         Probit   Df Residuals:                    14931\n",
      "Method:                           MLE   Df Model:                           24\n",
      "Date:                Sun, 12 Jan 2020   Pseudo R-squ.:                 0.09300\n",
      "Time:                        22:28:11   Log-Likelihood:                -3961.6\n",
      "converged:                       True   LL-Null:                       -4367.8\n",
      "Covariance Type:            nonrobust   LLR p-value:                4.970e-156\n",
      "=====================================================================================\n",
      "                        coef    std err          z      P>|z|      [0.025      0.975]\n",
      "-------------------------------------------------------------------------------------\n",
      "Intercept            -0.1416      0.223     -0.635      0.525      -0.578       0.295\n",
      "hs[T.True]            0.1546      0.050      3.100      0.002       0.057       0.252\n",
      "college[T.True]       0.2162      0.065      3.344      0.001       0.089       0.343\n",
      "technical[T.True]     0.2747      0.044      6.295      0.000       0.189       0.360\n",
      "married[T.True]      -0.1987      0.042     -4.778      0.000      -0.280      -0.117\n",
      "indig[T.True]        -0.0180      0.053     -0.342      0.732      -0.121       0.085\n",
      "male                  0.3114      0.032      9.813      0.000       0.249       0.374\n",
      "edad                 -0.0248      0.001    -19.406      0.000      -0.027      -0.022\n",
      "hh_size              -0.0065      0.008     -0.833      0.405      -0.022       0.009\n",
      "ent_3                -0.0734      0.222     -0.330      0.741      -0.509       0.362\n",
      "ent_5                -0.2911      0.221     -1.315      0.188      -0.725       0.143\n",
      "ent_9                 0.0515      0.228      0.226      0.821      -0.395       0.498\n",
      "ent_10               -0.1243      0.219     -0.567      0.571      -0.554       0.306\n",
      "ent_11               -0.2782      0.223     -1.247      0.212      -0.716       0.159\n",
      "ent_14               -0.4793      0.225     -2.129      0.033      -0.921      -0.038\n",
      "ent_15               -0.2191      0.219     -1.000      0.317      -0.648       0.210\n",
      "ent_16               -0.3466      0.220     -1.578      0.114      -0.777       0.084\n",
      "ent_17               -0.4657      0.227     -2.056      0.040      -0.910      -0.022\n",
      "ent_19               -0.6238      0.221     -2.819      0.005      -1.058      -0.190\n",
      "ent_20               -0.1268      0.221     -0.574      0.566      -0.560       0.306\n",
      "ent_21               -0.2938      0.223     -1.318      0.188      -0.731       0.143\n",
      "ent_25               -0.3365      0.218     -1.542      0.123      -0.764       0.091\n",
      "ent_26               -0.1111      0.217     -0.512      0.609      -0.537       0.314\n",
      "ent_30               -0.2503      0.217     -1.151      0.250      -0.676       0.176\n",
      "ent_31               -0.6580      0.230     -2.859      0.004      -1.109      -0.207\n",
      "=====================================================================================\n",
      "       Probit Marginal Effects       \n",
      "=====================================\n",
      "Dep. Variable:                 desire\n",
      "Method:                          dydx\n",
      "At:                           overall\n",
      "=====================================================================================\n",
      "                       dy/dx    std err          z      P>|z|      [0.025      0.975]\n",
      "-------------------------------------------------------------------------------------\n",
      "hs[T.True]            0.0220      0.007      3.099      0.002       0.008       0.036\n",
      "college[T.True]       0.0308      0.009      3.343      0.001       0.013       0.049\n",
      "technical[T.True]     0.0392      0.006      6.293      0.000       0.027       0.051\n",
      "married[T.True]      -0.0283      0.006     -4.776      0.000      -0.040      -0.017\n",
      "indig[T.True]        -0.0026      0.008     -0.342      0.732      -0.017       0.012\n",
      "male                  0.0444      0.005      9.782      0.000       0.035       0.053\n",
      "edad                 -0.0035      0.000    -19.057      0.000      -0.004      -0.003\n",
      "hh_size              -0.0009      0.001     -0.833      0.405      -0.003       0.001\n",
      "ent_3                -0.0105      0.032     -0.330      0.741      -0.073       0.052\n",
      "ent_5                -0.0415      0.032     -1.315      0.188      -0.103       0.020\n",
      "ent_9                 0.0073      0.032      0.226      0.821      -0.056       0.071\n",
      "ent_10               -0.0177      0.031     -0.567      0.571      -0.079       0.044\n",
      "ent_11               -0.0397      0.032     -1.247      0.212      -0.102       0.023\n",
      "ent_14               -0.0683      0.032     -2.129      0.033      -0.131      -0.005\n",
      "ent_15               -0.0312      0.031     -1.000      0.317      -0.092       0.030\n",
      "ent_16               -0.0494      0.031     -1.578      0.114      -0.111       0.012\n",
      "ent_17               -0.0664      0.032     -2.055      0.040      -0.130      -0.003\n",
      "ent_19               -0.0889      0.032     -2.818      0.005      -0.151      -0.027\n",
      "ent_20               -0.0181      0.031     -0.574      0.566      -0.080       0.044\n",
      "ent_21               -0.0419      0.032     -1.318      0.188      -0.104       0.020\n",
      "ent_25               -0.0480      0.031     -1.542      0.123      -0.109       0.013\n",
      "ent_26               -0.0158      0.031     -0.512      0.609      -0.076       0.045\n",
      "ent_30               -0.0357      0.031     -1.151      0.250      -0.096       0.025\n",
      "ent_31               -0.0938      0.033     -2.859      0.004      -0.158      -0.029\n",
      "=====================================================================================\n"
     ]
    }
   ],
   "source": [
    "reg = smf.probit('desire ~ hs + college + technical' + dg_formula + ent_dummies_formula, data = regdf).fit()\n",
    "print(reg.summary())\n",
    "print(reg.get_margeff().summary())"
   ]
  },
  {
   "cell_type": "markdown",
   "metadata": {},
   "source": [
    "#### (A9)"
   ]
  },
  {
   "cell_type": "code",
   "execution_count": 26,
   "metadata": {
    "scrolled": true
   },
   "outputs": [
    {
     "name": "stdout",
     "output_type": "stream",
     "text": [
      "Optimization terminated successfully.\n",
      "         Current function value: 0.290963\n",
      "         Iterations 7\n",
      "                          Probit Regression Results                           \n",
      "==============================================================================\n",
      "Dep. Variable:                 desire   No. Observations:                12088\n",
      "Model:                         Probit   Df Residuals:                    12081\n",
      "Method:                           MLE   Df Model:                            6\n",
      "Date:                Sun, 12 Jan 2020   Pseudo R-squ.:                 0.06013\n",
      "Time:                        22:28:12   Log-Likelihood:                -3517.2\n",
      "converged:                       True   LL-Null:                       -3742.2\n",
      "Covariance Type:            nonrobust   LLR p-value:                 4.797e-94\n",
      "===================================================================================\n",
      "                      coef    std err          z      P>|z|      [0.025      0.975]\n",
      "-----------------------------------------------------------------------------------\n",
      "Intercept          -0.5710      0.087     -6.596      0.000      -0.741      -0.401\n",
      "married[T.True]    -0.1787      0.045     -3.945      0.000      -0.267      -0.090\n",
      "indig[T.True]      -0.0139      0.055     -0.254      0.799      -0.121       0.093\n",
      "years_ed            0.0204      0.002      8.356      0.000       0.016       0.025\n",
      "male                0.3045      0.034      9.069      0.000       0.239       0.370\n",
      "edad               -0.0229      0.001    -16.140      0.000      -0.026      -0.020\n",
      "hh_size            -0.0123      0.008     -1.464      0.143      -0.029       0.004\n",
      "===================================================================================\n",
      "       Probit Marginal Effects       \n",
      "=====================================\n",
      "Dep. Variable:                 desire\n",
      "Method:                          dydx\n",
      "At:                           overall\n",
      "===================================================================================\n",
      "                     dy/dx    std err          z      P>|z|      [0.025      0.975]\n",
      "-----------------------------------------------------------------------------------\n",
      "married[T.True]    -0.0281      0.007     -3.943      0.000      -0.042      -0.014\n",
      "indig[T.True]      -0.0022      0.009     -0.254      0.799      -0.019       0.015\n",
      "years_ed            0.0032      0.000      8.334      0.000       0.002       0.004\n",
      "male                0.0478      0.005      9.044      0.000       0.037       0.058\n",
      "edad               -0.0036      0.000    -15.930      0.000      -0.004      -0.003\n",
      "hh_size            -0.0019      0.001     -1.464      0.143      -0.005       0.001\n",
      "===================================================================================\n"
     ]
    }
   ],
   "source": [
    "reg = smf.probit('desire ~ years_ed' + dg_formula, data = regdf).fit()\n",
    "print(reg.summary())\n",
    "print(reg.get_margeff().summary())"
   ]
  },
  {
   "cell_type": "markdown",
   "metadata": {},
   "source": [
    "#### (A10)"
   ]
  },
  {
   "cell_type": "code",
   "execution_count": 27,
   "metadata": {
    "scrolled": true
   },
   "outputs": [
    {
     "name": "stdout",
     "output_type": "stream",
     "text": [
      "Optimization terminated successfully.\n",
      "         Current function value: 0.286302\n",
      "         Iterations 7\n",
      "                          Probit Regression Results                           \n",
      "==============================================================================\n",
      "Dep. Variable:                 desire   No. Observations:                12088\n",
      "Model:                         Probit   Df Residuals:                    12065\n",
      "Method:                           MLE   Df Model:                           22\n",
      "Date:                Sun, 12 Jan 2020   Pseudo R-squ.:                 0.07519\n",
      "Time:                        22:28:12   Log-Likelihood:                -3460.8\n",
      "converged:                       True   LL-Null:                       -3742.2\n",
      "Covariance Type:            nonrobust   LLR p-value:                5.713e-105\n",
      "===================================================================================\n",
      "                      coef    std err          z      P>|z|      [0.025      0.975]\n",
      "-----------------------------------------------------------------------------------\n",
      "Intercept          -0.3835      0.251     -1.527      0.127      -0.876       0.109\n",
      "married[T.True]    -0.1621      0.046     -3.526      0.000      -0.252      -0.072\n",
      "indig[T.True]       0.0161      0.059      0.272      0.785      -0.100       0.132\n",
      "years_ed            0.0210      0.002      8.477      0.000       0.016       0.026\n",
      "male                0.3098      0.034      9.131      0.000       0.243       0.376\n",
      "edad               -0.0235      0.001    -16.338      0.000      -0.026      -0.021\n",
      "hh_size            -0.0160      0.009     -1.878      0.060      -0.033       0.001\n",
      "ent_3              -0.0203      0.250     -0.081      0.935      -0.511       0.470\n",
      "ent_5              -0.1733      0.248     -0.698      0.485      -0.660       0.313\n",
      "ent_9               0.1540      0.255      0.603      0.547      -0.347       0.655\n",
      "ent_10             -0.0158      0.246     -0.064      0.949      -0.499       0.467\n",
      "ent_11             -0.1478      0.252     -0.587      0.557      -0.642       0.346\n",
      "ent_14             -0.3617      0.252     -1.434      0.151      -0.856       0.133\n",
      "ent_15             -0.1068      0.247     -0.433      0.665      -0.590       0.377\n",
      "ent_16             -0.2939      0.248     -1.183      0.237      -0.781       0.193\n",
      "ent_17             -0.3715      0.254     -1.462      0.144      -0.870       0.127\n",
      "ent_19             -0.5088      0.248     -2.050      0.040      -0.995      -0.022\n",
      "ent_20              0.0020      0.249      0.008      0.993      -0.487       0.491\n",
      "ent_21             -0.1792      0.251     -0.713      0.476      -0.672       0.313\n",
      "ent_25             -0.2032      0.245     -0.828      0.408      -0.684       0.278\n",
      "ent_26              0.0015      0.244      0.006      0.995      -0.478       0.481\n",
      "ent_30             -0.1285      0.245     -0.524      0.600      -0.609       0.352\n",
      "ent_31             -0.6190      0.259     -2.391      0.017      -1.126      -0.111\n",
      "===================================================================================\n",
      "       Probit Marginal Effects       \n",
      "=====================================\n",
      "Dep. Variable:                 desire\n",
      "Method:                          dydx\n",
      "At:                           overall\n",
      "===================================================================================\n",
      "                     dy/dx    std err          z      P>|z|      [0.025      0.975]\n",
      "-----------------------------------------------------------------------------------\n",
      "married[T.True]    -0.0251      0.007     -3.525      0.000      -0.039      -0.011\n",
      "indig[T.True]       0.0025      0.009      0.272      0.785      -0.015       0.020\n",
      "years_ed            0.0033      0.000      8.459      0.000       0.003       0.004\n",
      "male                0.0479      0.005      9.111      0.000       0.038       0.058\n",
      "edad               -0.0036      0.000    -16.152      0.000      -0.004      -0.003\n",
      "hh_size            -0.0025      0.001     -1.878      0.060      -0.005       0.000\n",
      "ent_3              -0.0031      0.039     -0.081      0.935      -0.079       0.073\n",
      "ent_5              -0.0268      0.038     -0.698      0.485      -0.102       0.048\n",
      "ent_9               0.0238      0.040      0.603      0.547      -0.054       0.101\n",
      "ent_10             -0.0025      0.038     -0.064      0.949      -0.077       0.072\n",
      "ent_11             -0.0229      0.039     -0.587      0.557      -0.099       0.053\n",
      "ent_14             -0.0559      0.039     -1.434      0.151      -0.132       0.020\n",
      "ent_15             -0.0165      0.038     -0.433      0.665      -0.091       0.058\n",
      "ent_16             -0.0454      0.038     -1.183      0.237      -0.121       0.030\n",
      "ent_17             -0.0574      0.039     -1.462      0.144      -0.134       0.020\n",
      "ent_19             -0.0787      0.038     -2.050      0.040      -0.154      -0.003\n",
      "ent_20              0.0003      0.039      0.008      0.993      -0.075       0.076\n",
      "ent_21             -0.0277      0.039     -0.713      0.476      -0.104       0.048\n",
      "ent_25             -0.0314      0.038     -0.828      0.408      -0.106       0.043\n",
      "ent_26              0.0002      0.038      0.006      0.995      -0.074       0.074\n",
      "ent_30             -0.0199      0.038     -0.524      0.600      -0.094       0.054\n",
      "ent_31             -0.0957      0.040     -2.390      0.017      -0.174      -0.017\n",
      "===================================================================================\n"
     ]
    }
   ],
   "source": [
    "reg = smf.probit('desire ~ years_ed' + dg_formula + ent_dummies_formula, data = regdf).fit()\n",
    "print(reg.summary())\n",
    "print(reg.get_margeff().summary())"
   ]
  },
  {
   "cell_type": "markdown",
   "metadata": {},
   "source": [
    "#### (A11)"
   ]
  },
  {
   "cell_type": "code",
   "execution_count": 28,
   "metadata": {
    "scrolled": true
   },
   "outputs": [
    {
     "name": "stdout",
     "output_type": "stream",
     "text": [
      "Optimization terminated successfully.\n",
      "         Current function value: 0.270122\n",
      "         Iterations 7\n",
      "                          Probit Regression Results                           \n",
      "==============================================================================\n",
      "Dep. Variable:                 desire   No. Observations:                14956\n",
      "Model:                         Probit   Df Residuals:                    14949\n",
      "Method:                           MLE   Df Model:                            6\n",
      "Date:                Sun, 12 Jan 2020   Pseudo R-squ.:                 0.07506\n",
      "Time:                        22:28:12   Log-Likelihood:                -4039.9\n",
      "converged:                       True   LL-Null:                       -4367.8\n",
      "Covariance Type:            nonrobust   LLR p-value:                2.245e-138\n",
      "===================================================================================\n",
      "                      coef    std err          z      P>|z|      [0.025      0.975]\n",
      "-----------------------------------------------------------------------------------\n",
      "Intercept          -0.4858      0.079     -6.150      0.000      -0.641      -0.331\n",
      "married[T.True]    -0.2088      0.041     -5.102      0.000      -0.289      -0.129\n",
      "indig[T.True]      -0.0481      0.049     -0.991      0.322      -0.143       0.047\n",
      "years_ed_impute     0.0212      0.002      8.764      0.000       0.016       0.026\n",
      "male                0.2980      0.031      9.548      0.000       0.237       0.359\n",
      "edad               -0.0251      0.001    -20.260      0.000      -0.027      -0.023\n",
      "hh_size            -0.0087      0.008     -1.151      0.250      -0.024       0.006\n",
      "===================================================================================\n",
      "       Probit Marginal Effects       \n",
      "=====================================\n",
      "Dep. Variable:                 desire\n",
      "Method:                          dydx\n",
      "At:                           overall\n",
      "===================================================================================\n",
      "                     dy/dx    std err          z      P>|z|      [0.025      0.975]\n",
      "-----------------------------------------------------------------------------------\n",
      "married[T.True]    -0.0303      0.006     -5.097      0.000      -0.042      -0.019\n",
      "indig[T.True]      -0.0070      0.007     -0.991      0.322      -0.021       0.007\n",
      "years_ed_impute     0.0031      0.000      8.737      0.000       0.002       0.004\n",
      "male                0.0433      0.005      9.514      0.000       0.034       0.052\n",
      "edad               -0.0036      0.000    -19.817      0.000      -0.004      -0.003\n",
      "hh_size            -0.0013      0.001     -1.151      0.250      -0.003       0.001\n",
      "===================================================================================\n"
     ]
    }
   ],
   "source": [
    "reg = smf.probit('desire ~ years_ed_impute' + dg_formula, data = regdf).fit()\n",
    "print(reg.summary())\n",
    "print(reg.get_margeff().summary())"
   ]
  },
  {
   "cell_type": "markdown",
   "metadata": {},
   "source": [
    "#### (A12)"
   ]
  },
  {
   "cell_type": "code",
   "execution_count": 29,
   "metadata": {
    "scrolled": true
   },
   "outputs": [
    {
     "name": "stdout",
     "output_type": "stream",
     "text": [
      "Optimization terminated successfully.\n",
      "         Current function value: 0.266062\n",
      "         Iterations 7\n",
      "                          Probit Regression Results                           \n",
      "==============================================================================\n",
      "Dep. Variable:                 desire   No. Observations:                14956\n",
      "Model:                         Probit   Df Residuals:                    14933\n",
      "Method:                           MLE   Df Model:                           22\n",
      "Date:                Sun, 12 Jan 2020   Pseudo R-squ.:                 0.08896\n",
      "Time:                        22:28:13   Log-Likelihood:                -3979.2\n",
      "converged:                       True   LL-Null:                       -4367.8\n",
      "Covariance Type:            nonrobust   LLR p-value:                3.960e-150\n",
      "===================================================================================\n",
      "                      coef    std err          z      P>|z|      [0.025      0.975]\n",
      "-----------------------------------------------------------------------------------\n",
      "Intercept          -0.1987      0.224     -0.885      0.376      -0.639       0.241\n",
      "married[T.True]    -0.1923      0.042     -4.631      0.000      -0.274      -0.111\n",
      "indig[T.True]      -0.0414      0.052     -0.789      0.430      -0.144       0.061\n",
      "years_ed_impute     0.0216      0.002      8.789      0.000       0.017       0.026\n",
      "male                0.3026      0.032      9.604      0.000       0.241       0.364\n",
      "edad               -0.0256      0.001    -20.379      0.000      -0.028      -0.023\n",
      "hh_size            -0.0109      0.008     -1.415      0.157      -0.026       0.004\n",
      "ent_3              -0.0683      0.223     -0.306      0.760      -0.506       0.370\n",
      "ent_5              -0.2809      0.222     -1.263      0.207      -0.717       0.155\n",
      "ent_9               0.0743      0.229      0.325      0.745      -0.374       0.522\n",
      "ent_10             -0.1355      0.221     -0.615      0.539      -0.568       0.297\n",
      "ent_11             -0.2974      0.224     -1.326      0.185      -0.737       0.142\n",
      "ent_14             -0.4797      0.226     -2.121      0.034      -0.923      -0.036\n",
      "ent_15             -0.2377      0.220     -1.079      0.280      -0.669       0.194\n",
      "ent_16             -0.3595      0.221     -1.629      0.103      -0.792       0.073\n",
      "ent_17             -0.4596      0.227     -2.020      0.043      -0.905      -0.014\n",
      "ent_19             -0.6169      0.222     -2.774      0.006      -1.053      -0.181\n",
      "ent_20             -0.1262      0.222     -0.569      0.570      -0.561       0.309\n",
      "ent_21             -0.2962      0.224     -1.322      0.186      -0.735       0.143\n",
      "ent_25             -0.3405      0.219     -1.552      0.121      -0.770       0.090\n",
      "ent_26             -0.0935      0.218     -0.428      0.668      -0.521       0.334\n",
      "ent_30             -0.2517      0.219     -1.152      0.249      -0.680       0.177\n",
      "ent_31             -0.6337      0.231     -2.744      0.006      -1.086      -0.181\n",
      "===================================================================================\n",
      "       Probit Marginal Effects       \n",
      "=====================================\n",
      "Dep. Variable:                 desire\n",
      "Method:                          dydx\n",
      "At:                           overall\n",
      "===================================================================================\n",
      "                     dy/dx    std err          z      P>|z|      [0.025      0.975]\n",
      "-----------------------------------------------------------------------------------\n",
      "married[T.True]    -0.0276      0.006     -4.628      0.000      -0.039      -0.016\n",
      "indig[T.True]      -0.0059      0.008     -0.789      0.430      -0.021       0.009\n",
      "years_ed_impute     0.0031      0.000      8.764      0.000       0.002       0.004\n",
      "male                0.0433      0.005      9.574      0.000       0.034       0.052\n",
      "edad               -0.0037      0.000    -19.973      0.000      -0.004      -0.003\n",
      "hh_size            -0.0016      0.001     -1.415      0.157      -0.004       0.001\n",
      "ent_3              -0.0098      0.032     -0.306      0.760      -0.073       0.053\n",
      "ent_5              -0.0402      0.032     -1.263      0.207      -0.103       0.022\n",
      "ent_9               0.0106      0.033      0.325      0.745      -0.054       0.075\n",
      "ent_10             -0.0194      0.032     -0.615      0.539      -0.081       0.043\n",
      "ent_11             -0.0426      0.032     -1.326      0.185      -0.106       0.020\n",
      "ent_14             -0.0687      0.032     -2.121      0.034      -0.132      -0.005\n",
      "ent_15             -0.0341      0.032     -1.080      0.280      -0.096       0.028\n",
      "ent_16             -0.0515      0.032     -1.629      0.103      -0.113       0.010\n",
      "ent_17             -0.0658      0.033     -2.020      0.043      -0.130      -0.002\n",
      "ent_19             -0.0884      0.032     -2.773      0.006      -0.151      -0.026\n",
      "ent_20             -0.0181      0.032     -0.569      0.570      -0.080       0.044\n",
      "ent_21             -0.0424      0.032     -1.322      0.186      -0.105       0.020\n",
      "ent_25             -0.0488      0.031     -1.552      0.121      -0.110       0.013\n",
      "ent_26             -0.0134      0.031     -0.429      0.668      -0.075       0.048\n",
      "ent_30             -0.0361      0.031     -1.152      0.249      -0.097       0.025\n",
      "ent_31             -0.0908      0.033     -2.743      0.006      -0.156      -0.026\n",
      "===================================================================================\n"
     ]
    }
   ],
   "source": [
    "reg = smf.probit('desire ~ years_ed_impute' + dg_formula + ent_dummies_formula, data = regdf).fit()\n",
    "print(reg.summary())\n",
    "print(reg.get_margeff().summary())"
   ]
  },
  {
   "cell_type": "markdown",
   "metadata": {},
   "source": [
    "## Temporary Migration"
   ]
  },
  {
   "cell_type": "code",
   "execution_count": 30,
   "metadata": {},
   "outputs": [],
   "source": [
    "regdf = c02_ed\n",
    "\n",
    "regdf = pd.merge(regdf, c02_mt, how='left', on = ['folio','ls'])\n",
    "regdf[\"mtJob\"] = regdf[\"mtJob\"].fillna(0)\n",
    "regdf = pd.merge(regdf, c02_hm, how='inner', on = ['folio','ls'])\n",
    "regdf = pd.merge(regdf, c02_ls, how='inner', on = ['folio','ls'])\n",
    "\n",
    "ent_dummies = pd.get_dummies(regdf[\"ent\"])\n",
    "ent_dummies.columns = [\"ent_\" + str(col).split(\".\")[0] for col in ent_dummies.columns]\n",
    "regdf = pd.concat((regdf, ent_dummies), axis = 1)\n",
    "\n",
    "regdf = regdf.drop_duplicates()"
   ]
  },
  {
   "cell_type": "code",
   "execution_count": 31,
   "metadata": {},
   "outputs": [
    {
     "name": "stdout",
     "output_type": "stream",
     "text": [
      " + ent_3 + ent_5 + ent_9 + ent_10 + ent_11 + ent_14 + ent_15 + ent_16 + ent_17 + ent_19 + ent_20 + ent_21 + ent_25 + ent_26 + ent_30 + ent_31\n"
     ]
    }
   ],
   "source": [
    "ent_dummies_formula = ''\n",
    "\n",
    "for col in ent_dummies.columns:\n",
    "    ent_dummies_formula += (\" + %s\" % col)\n",
    "\n",
    "print(ent_dummies_formula)"
   ]
  },
  {
   "cell_type": "markdown",
   "metadata": {},
   "source": [
    "#### (B1)"
   ]
  },
  {
   "cell_type": "code",
   "execution_count": 32,
   "metadata": {
    "scrolled": true
   },
   "outputs": [
    {
     "name": "stdout",
     "output_type": "stream",
     "text": [
      "Optimization terminated successfully.\n",
      "         Current function value: 0.066986\n",
      "         Iterations 9\n",
      "                          Probit Regression Results                           \n",
      "==============================================================================\n",
      "Dep. Variable:                  mtJob   No. Observations:                14972\n",
      "Model:                         Probit   Df Residuals:                    14965\n",
      "Method:                           MLE   Df Model:                            6\n",
      "Date:                Sun, 12 Jan 2020   Pseudo R-squ.:                  0.1319\n",
      "Time:                        22:28:14   Log-Likelihood:                -1002.9\n",
      "converged:                       True   LL-Null:                       -1155.2\n",
      "Covariance Type:            nonrobust   LLR p-value:                 8.144e-63\n",
      "===================================================================================\n",
      "                      coef    std err          z      P>|z|      [0.025      0.975]\n",
      "-----------------------------------------------------------------------------------\n",
      "Intercept          -1.7105      0.142    -12.052      0.000      -1.989      -1.432\n",
      "hs[T.True]          0.0211      0.071      0.297      0.766      -0.118       0.160\n",
      "married[T.True]    -0.3305      0.074     -4.457      0.000      -0.476      -0.185\n",
      "indig[T.True]       0.2204      0.079      2.801      0.005       0.066       0.375\n",
      "male                0.9686      0.075     12.912      0.000       0.822       1.116\n",
      "edad               -0.0199      0.002     -8.725      0.000      -0.024      -0.015\n",
      "hh_size            -0.0143      0.014     -1.010      0.313      -0.042       0.013\n",
      "===================================================================================\n",
      "       Probit Marginal Effects       \n",
      "=====================================\n",
      "Dep. Variable:                  mtJob\n",
      "Method:                          dydx\n",
      "At:                           overall\n",
      "===================================================================================\n",
      "                     dy/dx    std err          z      P>|z|      [0.025      0.975]\n",
      "-----------------------------------------------------------------------------------\n",
      "hs[T.True]          0.0007      0.002      0.297      0.766      -0.004       0.005\n",
      "married[T.True]    -0.0111      0.003     -4.355      0.000      -0.016      -0.006\n",
      "indig[T.True]       0.0074      0.003      2.775      0.006       0.002       0.013\n",
      "male                0.0324      0.003     10.797      0.000       0.027       0.038\n",
      "edad               -0.0007   8.32e-05     -8.007      0.000      -0.001      -0.001\n",
      "hh_size            -0.0005      0.000     -1.009      0.313      -0.001       0.000\n",
      "===================================================================================\n"
     ]
    }
   ],
   "source": [
    "reg = smf.probit('mtJob ~ hs' + dg_formula, data = regdf).fit()\n",
    "print(reg.summary())\n",
    "print(reg.get_margeff().summary())"
   ]
  },
  {
   "cell_type": "markdown",
   "metadata": {},
   "source": [
    "#### (B2)"
   ]
  },
  {
   "cell_type": "code",
   "execution_count": 33,
   "metadata": {
    "scrolled": true
   },
   "outputs": [
    {
     "name": "stdout",
     "output_type": "stream",
     "text": [
      "Warning: Maximum number of iterations has been exceeded.\n",
      "         Current function value: 0.065237\n",
      "         Iterations: 35\n",
      "                          Probit Regression Results                           \n",
      "==============================================================================\n",
      "Dep. Variable:                  mtJob   No. Observations:                14972\n",
      "Model:                         Probit   Df Residuals:                    14949\n",
      "Method:                           MLE   Df Model:                           22\n",
      "Date:                Sun, 12 Jan 2020   Pseudo R-squ.:                  0.1545\n",
      "Time:                        22:28:14   Log-Likelihood:                -976.72\n",
      "converged:                      False   LL-Null:                       -1155.2\n",
      "Covariance Type:            nonrobust   LLR p-value:                 2.823e-62\n",
      "===================================================================================\n",
      "                      coef    std err          z      P>|z|      [0.025      0.975]\n",
      "-----------------------------------------------------------------------------------\n",
      "Intercept          -5.6395    399.397     -0.014      0.989    -788.443     777.164\n",
      "hs[T.True]          0.0212      0.073      0.290      0.772      -0.122       0.164\n",
      "married[T.True]    -0.2982      0.076     -3.927      0.000      -0.447      -0.149\n",
      "indig[T.True]       0.2851      0.088      3.258      0.001       0.114       0.457\n",
      "male                0.9931      0.077     12.911      0.000       0.842       1.144\n",
      "edad               -0.0203      0.002     -8.746      0.000      -0.025      -0.016\n",
      "hh_size            -0.0176      0.014     -1.218      0.223      -0.046       0.011\n",
      "ent_3               3.8638    399.397      0.010      0.992    -778.939     786.667\n",
      "ent_5               3.7249    399.397      0.009      0.993    -779.078     786.528\n",
      "ent_9               4.1734    399.397      0.010      0.992    -778.630     786.977\n",
      "ent_10              4.0861    399.397      0.010      0.992    -778.717     786.889\n",
      "ent_11              4.0012    399.397      0.010      0.992    -778.802     786.805\n",
      "ent_14              3.7547    399.397      0.009      0.992    -779.049     786.558\n",
      "ent_15              3.9724    399.397      0.010      0.992    -778.831     786.776\n",
      "ent_16              3.8483    399.397      0.010      0.992    -778.955     786.652\n",
      "ent_17              3.9461    399.397      0.010      0.992    -778.857     786.749\n",
      "ent_19              3.6243    399.397      0.009      0.993    -779.179     786.428\n",
      "ent_20              3.9298    399.397      0.010      0.992    -778.873     786.733\n",
      "ent_21              3.7477    399.397      0.009      0.993    -779.056     786.551\n",
      "ent_25              4.0466    399.397      0.010      0.992    -778.757     786.850\n",
      "ent_26              4.2103    399.397      0.011      0.992    -778.593     787.014\n",
      "ent_30              3.5499    399.397      0.009      0.993    -779.253     786.353\n",
      "ent_31              3.4512    399.397      0.009      0.993    -779.352     786.255\n",
      "===================================================================================\n"
     ]
    },
    {
     "name": "stderr",
     "output_type": "stream",
     "text": [
      "//anaconda3/envs/econ/lib/python3.7/site-packages/statsmodels/base/model.py:512: ConvergenceWarning: Maximum Likelihood optimization failed to converge. Check mle_retvals\n",
      "  \"Check mle_retvals\", ConvergenceWarning)\n"
     ]
    },
    {
     "name": "stdout",
     "output_type": "stream",
     "text": [
      "       Probit Marginal Effects       \n",
      "=====================================\n",
      "Dep. Variable:                  mtJob\n",
      "Method:                          dydx\n",
      "At:                           overall\n",
      "===================================================================================\n",
      "                     dy/dx    std err          z      P>|z|      [0.025      0.975]\n",
      "-----------------------------------------------------------------------------------\n",
      "hs[T.True]          0.0007      0.002      0.290      0.772      -0.004       0.005\n",
      "married[T.True]    -0.0098      0.003     -3.860      0.000      -0.015      -0.005\n",
      "indig[T.True]       0.0093      0.003      3.219      0.001       0.004       0.015\n",
      "male                0.0325      0.003     10.849      0.000       0.027       0.038\n",
      "edad               -0.0007   8.27e-05     -8.047      0.000      -0.001      -0.001\n",
      "hh_size            -0.0006      0.000     -1.216      0.224      -0.002       0.000\n",
      "ent_3               0.1266     13.081      0.010      0.992     -25.513      25.766\n",
      "ent_5               0.1220     13.081      0.009      0.993     -25.517      25.761\n",
      "ent_9               0.1367     13.081      0.010      0.992     -25.502      25.776\n",
      "ent_10              0.1338     13.081      0.010      0.992     -25.505      25.773\n",
      "ent_11              0.1311     13.081      0.010      0.992     -25.508      25.770\n",
      "ent_14              0.1230     13.081      0.009      0.992     -25.516      25.762\n",
      "ent_15              0.1301     13.081      0.010      0.992     -25.509      25.769\n",
      "ent_16              0.1260     13.081      0.010      0.992     -25.513      25.765\n",
      "ent_17              0.1292     13.081      0.010      0.992     -25.510      25.768\n",
      "ent_19              0.1187     13.081      0.009      0.993     -25.520      25.758\n",
      "ent_20              0.1287     13.081      0.010      0.992     -25.510      25.768\n",
      "ent_21              0.1227     13.081      0.009      0.993     -25.516      25.762\n",
      "ent_25              0.1325     13.081      0.010      0.992     -25.507      25.772\n",
      "ent_26              0.1379     13.081      0.011      0.992     -25.501      25.777\n",
      "ent_30              0.1163     13.081      0.009      0.993     -25.523      25.755\n",
      "ent_31              0.1130     13.081      0.009      0.993     -25.526      25.752\n",
      "===================================================================================\n"
     ]
    }
   ],
   "source": [
    "reg = smf.probit('mtJob ~ hs' + dg_formula + ent_dummies_formula, data = regdf).fit()\n",
    "print(reg.summary())\n",
    "print(reg.get_margeff().summary())"
   ]
  },
  {
   "cell_type": "markdown",
   "metadata": {},
   "source": [
    "#### (B3)"
   ]
  },
  {
   "cell_type": "code",
   "execution_count": 34,
   "metadata": {
    "scrolled": true
   },
   "outputs": [
    {
     "name": "stdout",
     "output_type": "stream",
     "text": [
      "Optimization terminated successfully.\n",
      "         Current function value: 0.066983\n",
      "         Iterations 9\n",
      "                          Probit Regression Results                           \n",
      "==============================================================================\n",
      "Dep. Variable:                  mtJob   No. Observations:                14972\n",
      "Model:                         Probit   Df Residuals:                    14964\n",
      "Method:                           MLE   Df Model:                            7\n",
      "Date:                Sun, 12 Jan 2020   Pseudo R-squ.:                  0.1319\n",
      "Time:                        22:28:15   Log-Likelihood:                -1002.9\n",
      "converged:                       True   LL-Null:                       -1155.2\n",
      "Covariance Type:            nonrobust   LLR p-value:                 5.812e-62\n",
      "===================================================================================\n",
      "                      coef    std err          z      P>|z|      [0.025      0.975]\n",
      "-----------------------------------------------------------------------------------\n",
      "Intercept          -1.7130      0.142    -12.046      0.000      -1.992      -1.434\n",
      "hs[T.True]          0.0379      0.090      0.419      0.675      -0.139       0.215\n",
      "college[T.True]    -0.0368      0.124     -0.297      0.767      -0.280       0.207\n",
      "married[T.True]    -0.3301      0.074     -4.452      0.000      -0.475      -0.185\n",
      "indig[T.True]       0.2207      0.079      2.804      0.005       0.066       0.375\n",
      "male                0.9687      0.075     12.915      0.000       0.822       1.116\n",
      "edad               -0.0198      0.002     -8.650      0.000      -0.024      -0.015\n",
      "hh_size            -0.0145      0.014     -1.020      0.308      -0.042       0.013\n",
      "===================================================================================\n",
      "       Probit Marginal Effects       \n",
      "=====================================\n",
      "Dep. Variable:                  mtJob\n",
      "Method:                          dydx\n",
      "At:                           overall\n",
      "===================================================================================\n",
      "                     dy/dx    std err          z      P>|z|      [0.025      0.975]\n",
      "-----------------------------------------------------------------------------------\n",
      "hs[T.True]          0.0013      0.003      0.419      0.675      -0.005       0.007\n",
      "college[T.True]    -0.0012      0.004     -0.297      0.767      -0.009       0.007\n",
      "married[T.True]    -0.0111      0.003     -4.349      0.000      -0.016      -0.006\n",
      "indig[T.True]       0.0074      0.003      2.778      0.005       0.002       0.013\n",
      "male                0.0324      0.003     10.799      0.000       0.027       0.038\n",
      "edad               -0.0007   8.35e-05     -7.949      0.000      -0.001      -0.001\n",
      "hh_size            -0.0005      0.000     -1.018      0.308      -0.001       0.000\n",
      "===================================================================================\n"
     ]
    }
   ],
   "source": [
    "reg = smf.probit('mtJob ~ hs + college' + dg_formula, data = regdf).fit()\n",
    "print(reg.summary())\n",
    "print(reg.get_margeff().summary())"
   ]
  },
  {
   "cell_type": "markdown",
   "metadata": {},
   "source": [
    "#### (B4)"
   ]
  },
  {
   "cell_type": "code",
   "execution_count": 35,
   "metadata": {
    "scrolled": true
   },
   "outputs": [
    {
     "name": "stdout",
     "output_type": "stream",
     "text": [
      "Warning: Maximum number of iterations has been exceeded.\n",
      "         Current function value: 0.065237\n",
      "         Iterations: 35\n",
      "                          Probit Regression Results                           \n",
      "==============================================================================\n",
      "Dep. Variable:                  mtJob   No. Observations:                14972\n",
      "Model:                         Probit   Df Residuals:                    14948\n",
      "Method:                           MLE   Df Model:                           23\n",
      "Date:                Sun, 12 Jan 2020   Pseudo R-squ.:                  0.1545\n",
      "Time:                        22:28:16   Log-Likelihood:                -976.72\n",
      "converged:                      False   LL-Null:                       -1155.2\n",
      "Covariance Type:            nonrobust   LLR p-value:                 1.153e-61\n",
      "===================================================================================\n",
      "                      coef    std err          z      P>|z|      [0.025      0.975]\n",
      "-----------------------------------------------------------------------------------\n",
      "Intercept          -5.5920    352.150     -0.016      0.987    -695.794     684.610\n",
      "hs[T.True]          0.0196      0.092      0.212      0.832      -0.162       0.201\n",
      "college[T.True]     0.0036      0.128      0.028      0.977      -0.246       0.254\n",
      "married[T.True]    -0.2983      0.076     -3.927      0.000      -0.447      -0.149\n",
      "indig[T.True]       0.2851      0.088      3.258      0.001       0.114       0.457\n",
      "male                0.9931      0.077     12.911      0.000       0.842       1.144\n",
      "edad               -0.0203      0.002     -8.699      0.000      -0.025      -0.016\n",
      "hh_size            -0.0176      0.014     -1.217      0.224      -0.046       0.011\n",
      "ent_3               3.8167    352.150      0.011      0.991    -686.385     694.018\n",
      "ent_5               3.6776    352.150      0.010      0.992    -686.524     693.879\n",
      "ent_9               4.1259    352.150      0.012      0.991    -686.076     694.328\n",
      "ent_10              4.0390    352.150      0.011      0.991    -686.163     694.241\n",
      "ent_11              3.9541    352.150      0.011      0.991    -686.248     694.156\n",
      "ent_14              3.7074    352.150      0.011      0.992    -686.494     693.909\n",
      "ent_15              3.9252    352.150      0.011      0.991    -686.277     694.127\n",
      "ent_16              3.8012    352.150      0.011      0.991    -686.401     694.003\n",
      "ent_17              3.8990    352.150      0.011      0.991    -686.303     694.101\n",
      "ent_19              3.5771    352.150      0.010      0.992    -686.625     693.779\n",
      "ent_20              3.8826    352.150      0.011      0.991    -686.319     694.084\n",
      "ent_21              3.7004    352.150      0.011      0.992    -686.501     693.902\n",
      "ent_25              3.9996    352.150      0.011      0.991    -686.202     694.201\n",
      "ent_26              4.1631    352.150      0.012      0.991    -686.039     694.365\n",
      "ent_30              3.5026    352.150      0.010      0.992    -686.699     693.704\n",
      "ent_31              3.4039    352.150      0.010      0.992    -686.798     693.606\n",
      "===================================================================================\n"
     ]
    },
    {
     "name": "stderr",
     "output_type": "stream",
     "text": [
      "//anaconda3/envs/econ/lib/python3.7/site-packages/statsmodels/base/model.py:512: ConvergenceWarning: Maximum Likelihood optimization failed to converge. Check mle_retvals\n",
      "  \"Check mle_retvals\", ConvergenceWarning)\n"
     ]
    },
    {
     "name": "stdout",
     "output_type": "stream",
     "text": [
      "       Probit Marginal Effects       \n",
      "=====================================\n",
      "Dep. Variable:                  mtJob\n",
      "Method:                          dydx\n",
      "At:                           overall\n",
      "===================================================================================\n",
      "                     dy/dx    std err          z      P>|z|      [0.025      0.975]\n",
      "-----------------------------------------------------------------------------------\n",
      "hs[T.True]          0.0006      0.003      0.212      0.832      -0.005       0.007\n",
      "college[T.True]     0.0001      0.004      0.028      0.977      -0.008       0.008\n",
      "married[T.True]    -0.0098      0.003     -3.860      0.000      -0.015      -0.005\n",
      "indig[T.True]       0.0093      0.003      3.219      0.001       0.004       0.015\n",
      "male                0.0325      0.003     10.849      0.000       0.027       0.038\n",
      "edad               -0.0007   8.31e-05     -8.009      0.000      -0.001      -0.001\n",
      "hh_size            -0.0006      0.000     -1.214      0.225      -0.002       0.000\n",
      "ent_3               0.1250     11.534      0.011      0.991     -22.481      22.731\n",
      "ent_5               0.1205     11.534      0.010      0.992     -22.486      22.727\n",
      "ent_9               0.1351     11.534      0.012      0.991     -22.471      22.741\n",
      "ent_10              0.1323     11.534      0.011      0.991     -22.474      22.738\n",
      "ent_11              0.1295     11.534      0.011      0.991     -22.477      22.736\n",
      "ent_14              0.1214     11.534      0.011      0.992     -22.485      22.728\n",
      "ent_15              0.1286     11.534      0.011      0.991     -22.478      22.735\n",
      "ent_16              0.1245     11.534      0.011      0.991     -22.482      22.731\n",
      "ent_17              0.1277     11.534      0.011      0.991     -22.479      22.734\n",
      "ent_19              0.1172     11.534      0.010      0.992     -22.489      22.723\n",
      "ent_20              0.1272     11.534      0.011      0.991     -22.479      22.733\n",
      "ent_21              0.1212     11.534      0.011      0.992     -22.485      22.727\n",
      "ent_25              0.1310     11.534      0.011      0.991     -22.475      22.737\n",
      "ent_26              0.1364     11.534      0.012      0.991     -22.470      22.743\n",
      "ent_30              0.1147     11.534      0.010      0.992     -22.491      22.721\n",
      "ent_31              0.1115     11.534      0.010      0.992     -22.495      22.718\n",
      "===================================================================================\n"
     ]
    }
   ],
   "source": [
    "reg = smf.probit('mtJob ~ hs + college' + dg_formula + ent_dummies_formula, data = regdf).fit()\n",
    "print(reg.summary())\n",
    "print(reg.get_margeff().summary())"
   ]
  },
  {
   "cell_type": "markdown",
   "metadata": {},
   "source": [
    "#### (B5)"
   ]
  },
  {
   "cell_type": "code",
   "execution_count": 36,
   "metadata": {
    "scrolled": true
   },
   "outputs": [
    {
     "name": "stdout",
     "output_type": "stream",
     "text": [
      "Optimization terminated successfully.\n",
      "         Current function value: 0.066933\n",
      "         Iterations 9\n",
      "                          Probit Regression Results                           \n",
      "==============================================================================\n",
      "Dep. Variable:                  mtJob   No. Observations:                14972\n",
      "Model:                         Probit   Df Residuals:                    14965\n",
      "Method:                           MLE   Df Model:                            6\n",
      "Date:                Sun, 12 Jan 2020   Pseudo R-squ.:                  0.1325\n",
      "Time:                        22:28:16   Log-Likelihood:                -1002.1\n",
      "converged:                       True   LL-Null:                       -1155.2\n",
      "Covariance Type:            nonrobust   LLR p-value:                 3.766e-63\n",
      "=====================================================================================\n",
      "                        coef    std err          z      P>|z|      [0.025      0.975]\n",
      "-------------------------------------------------------------------------------------\n",
      "Intercept            -1.6731      0.140    -11.933      0.000      -1.948      -1.398\n",
      "technical[T.True]    -0.1228      0.098     -1.256      0.209      -0.314       0.069\n",
      "married[T.True]      -0.3297      0.074     -4.444      0.000      -0.475      -0.184\n",
      "indig[T.True]         0.2147      0.078      2.737      0.006       0.061       0.368\n",
      "male                  0.9700      0.075     12.942      0.000       0.823       1.117\n",
      "edad                 -0.0202      0.002     -8.943      0.000      -0.025      -0.016\n",
      "hh_size              -0.0162      0.014     -1.144      0.253      -0.044       0.012\n",
      "=====================================================================================\n",
      "       Probit Marginal Effects       \n",
      "=====================================\n",
      "Dep. Variable:                  mtJob\n",
      "Method:                          dydx\n",
      "At:                           overall\n",
      "=====================================================================================\n",
      "                       dy/dx    std err          z      P>|z|      [0.025      0.975]\n",
      "-------------------------------------------------------------------------------------\n",
      "technical[T.True]    -0.0041      0.003     -1.253      0.210      -0.011       0.002\n",
      "married[T.True]      -0.0110      0.003     -4.342      0.000      -0.016      -0.006\n",
      "indig[T.True]         0.0072      0.003      2.713      0.007       0.002       0.012\n",
      "male                  0.0325      0.003     10.816      0.000       0.027       0.038\n",
      "edad                 -0.0007   8.27e-05     -8.175      0.000      -0.001      -0.001\n",
      "hh_size              -0.0005      0.000     -1.142      0.253      -0.001       0.000\n",
      "=====================================================================================\n"
     ]
    }
   ],
   "source": [
    "reg = smf.probit('mtJob ~ technical' + dg_formula, data = regdf).fit()\n",
    "print(reg.summary())\n",
    "print(reg.get_margeff().summary())"
   ]
  },
  {
   "cell_type": "markdown",
   "metadata": {},
   "source": [
    "#### (B6)"
   ]
  },
  {
   "cell_type": "code",
   "execution_count": 37,
   "metadata": {
    "scrolled": true
   },
   "outputs": [
    {
     "name": "stdout",
     "output_type": "stream",
     "text": [
      "Warning: Maximum number of iterations has been exceeded.\n",
      "         Current function value: 0.065177\n",
      "         Iterations: 35\n",
      "                          Probit Regression Results                           \n",
      "==============================================================================\n",
      "Dep. Variable:                  mtJob   No. Observations:                14972\n",
      "Model:                         Probit   Df Residuals:                    14949\n",
      "Method:                           MLE   Df Model:                           22\n",
      "Date:                Sun, 12 Jan 2020   Pseudo R-squ.:                  0.1553\n",
      "Time:                        22:28:17   Log-Likelihood:                -975.83\n",
      "converged:                      False   LL-Null:                       -1155.2\n",
      "Covariance Type:            nonrobust   LLR p-value:                 1.216e-62\n",
      "=====================================================================================\n",
      "                        coef    std err          z      P>|z|      [0.025      0.975]\n",
      "-------------------------------------------------------------------------------------\n",
      "Intercept            -5.1596    127.298     -0.041      0.968    -254.659     244.340\n",
      "technical[T.True]    -0.1349      0.101     -1.334      0.182      -0.333       0.063\n",
      "married[T.True]      -0.2970      0.076     -3.909      0.000      -0.446      -0.148\n",
      "indig[T.True]         0.2773      0.087      3.179      0.001       0.106       0.448\n",
      "male                  0.9948      0.077     12.936      0.000       0.844       1.145\n",
      "edad                 -0.0206      0.002     -8.974      0.000      -0.025      -0.016\n",
      "hh_size              -0.0193      0.014     -1.336      0.182      -0.048       0.009\n",
      "ent_3                 3.4313    127.298      0.027      0.978    -246.068     252.931\n",
      "ent_5                 3.2830    127.298      0.026      0.979    -246.216     252.782\n",
      "ent_9                 3.7389    127.298      0.029      0.977    -245.760     253.238\n",
      "ent_10                3.6348    127.298      0.029      0.977    -245.865     253.134\n",
      "ent_11                3.5505    127.298      0.028      0.978    -245.949     253.050\n",
      "ent_14                3.3104    127.298      0.026      0.979    -246.189     252.810\n",
      "ent_15                3.5265    127.298      0.028      0.978    -245.973     253.026\n",
      "ent_16                3.4005    127.298      0.027      0.979    -246.099     252.900\n",
      "ent_17                3.5116    127.298      0.028      0.978    -245.988     253.011\n",
      "ent_19                3.1826    127.298      0.025      0.980    -246.317     252.682\n",
      "ent_20                3.4840    127.298      0.027      0.978    -246.015     252.983\n",
      "ent_21                3.2994    127.298      0.026      0.979    -246.200     252.799\n",
      "ent_25                3.6020    127.298      0.028      0.977    -245.897     253.101\n",
      "ent_26                3.7776    127.298      0.030      0.976    -245.722     253.277\n",
      "ent_30                3.1046    127.298      0.024      0.981    -246.395     252.604\n",
      "ent_31                3.0257    127.298      0.024      0.981    -246.474     252.525\n",
      "=====================================================================================\n"
     ]
    },
    {
     "name": "stderr",
     "output_type": "stream",
     "text": [
      "//anaconda3/envs/econ/lib/python3.7/site-packages/statsmodels/base/model.py:512: ConvergenceWarning: Maximum Likelihood optimization failed to converge. Check mle_retvals\n",
      "  \"Check mle_retvals\", ConvergenceWarning)\n"
     ]
    },
    {
     "name": "stdout",
     "output_type": "stream",
     "text": [
      "       Probit Marginal Effects       \n",
      "=====================================\n",
      "Dep. Variable:                  mtJob\n",
      "Method:                          dydx\n",
      "At:                           overall\n",
      "=====================================================================================\n",
      "                       dy/dx    std err          z      P>|z|      [0.025      0.975]\n",
      "-------------------------------------------------------------------------------------\n",
      "technical[T.True]    -0.0044      0.003     -1.331      0.183      -0.011       0.002\n",
      "married[T.True]      -0.0097      0.003     -3.842      0.000      -0.015      -0.005\n",
      "indig[T.True]         0.0091      0.003      3.143      0.002       0.003       0.015\n",
      "male                  0.0326      0.003     10.866      0.000       0.027       0.038\n",
      "edad                 -0.0007   8.21e-05     -8.224      0.000      -0.001      -0.001\n",
      "hh_size              -0.0006      0.000     -1.333      0.183      -0.002       0.000\n",
      "ent_3                 0.1123      4.166      0.027      0.978      -8.053       8.278\n",
      "ent_5                 0.1074      4.166      0.026      0.979      -8.058       8.273\n",
      "ent_9                 0.1224      4.166      0.029      0.977      -8.043       8.288\n",
      "ent_10                0.1190      4.166      0.029      0.977      -8.047       8.284\n",
      "ent_11                0.1162      4.166      0.028      0.978      -8.049       8.282\n",
      "ent_14                0.1083      4.166      0.026      0.979      -8.057       8.274\n",
      "ent_15                0.1154      4.166      0.028      0.978      -8.050       8.281\n",
      "ent_16                0.1113      4.166      0.027      0.979      -8.054       8.277\n",
      "ent_17                0.1149      4.166      0.028      0.978      -8.051       8.280\n",
      "ent_19                0.1042      4.166      0.025      0.980      -8.061       8.270\n",
      "ent_20                0.1140      4.166      0.027      0.978      -8.051       8.279\n",
      "ent_21                0.1080      4.166      0.026      0.979      -8.057       8.273\n",
      "ent_25                0.1179      4.166      0.028      0.977      -8.048       8.283\n",
      "ent_26                0.1236      4.166      0.030      0.976      -8.042       8.289\n",
      "ent_30                0.1016      4.166      0.024      0.981      -8.064       8.267\n",
      "ent_31                0.0990      4.166      0.024      0.981      -8.066       8.265\n",
      "=====================================================================================\n"
     ]
    }
   ],
   "source": [
    "reg = smf.probit('mtJob ~ technical' + dg_formula + ent_dummies_formula, data = regdf).fit()\n",
    "print(reg.summary())\n",
    "print(reg.get_margeff().summary())"
   ]
  },
  {
   "cell_type": "markdown",
   "metadata": {},
   "source": [
    "#### (B7)"
   ]
  },
  {
   "cell_type": "code",
   "execution_count": 38,
   "metadata": {
    "scrolled": true
   },
   "outputs": [
    {
     "name": "stdout",
     "output_type": "stream",
     "text": [
      "Optimization terminated successfully.\n",
      "         Current function value: 0.066917\n",
      "         Iterations 9\n",
      "                          Probit Regression Results                           \n",
      "==============================================================================\n",
      "Dep. Variable:                  mtJob   No. Observations:                14972\n",
      "Model:                         Probit   Df Residuals:                    14963\n",
      "Method:                           MLE   Df Model:                            8\n",
      "Date:                Sun, 12 Jan 2020   Pseudo R-squ.:                  0.1328\n",
      "Time:                        22:28:17   Log-Likelihood:                -1001.9\n",
      "converged:                       True   LL-Null:                       -1155.2\n",
      "Covariance Type:            nonrobust   LLR p-value:                 1.528e-61\n",
      "=====================================================================================\n",
      "                        coef    std err          z      P>|z|      [0.025      0.975]\n",
      "-------------------------------------------------------------------------------------\n",
      "Intercept            -1.6908      0.143    -11.820      0.000      -1.971      -1.410\n",
      "hs[T.True]            0.0646      0.092      0.699      0.484      -0.116       0.246\n",
      "college[T.True]      -0.0528      0.125     -0.422      0.673      -0.298       0.192\n",
      "technical[T.True]    -0.1365      0.100     -1.366      0.172      -0.332       0.059\n",
      "married[T.True]      -0.3304      0.074     -4.450      0.000      -0.476      -0.185\n",
      "indig[T.True]         0.2184      0.079      2.775      0.006       0.064       0.373\n",
      "male                  0.9670      0.075     12.866      0.000       0.820       1.114\n",
      "edad                 -0.0199      0.002     -8.714      0.000      -0.024      -0.015\n",
      "hh_size              -0.0156      0.014     -1.095      0.274      -0.043       0.012\n",
      "=====================================================================================\n",
      "       Probit Marginal Effects       \n",
      "=====================================\n",
      "Dep. Variable:                  mtJob\n",
      "Method:                          dydx\n",
      "At:                           overall\n",
      "=====================================================================================\n",
      "                       dy/dx    std err          z      P>|z|      [0.025      0.975]\n",
      "-------------------------------------------------------------------------------------\n",
      "hs[T.True]            0.0022      0.003      0.699      0.485      -0.004       0.008\n",
      "college[T.True]      -0.0018      0.004     -0.422      0.673      -0.010       0.006\n",
      "technical[T.True]    -0.0046      0.003     -1.363      0.173      -0.011       0.002\n",
      "married[T.True]      -0.0111      0.003     -4.348      0.000      -0.016      -0.006\n",
      "indig[T.True]         0.0073      0.003      2.750      0.006       0.002       0.013\n",
      "male                  0.0324      0.003     10.772      0.000       0.026       0.038\n",
      "edad                 -0.0007   8.35e-05     -7.999      0.000      -0.001      -0.001\n",
      "hh_size              -0.0005      0.000     -1.093      0.274      -0.001       0.000\n",
      "=====================================================================================\n"
     ]
    }
   ],
   "source": [
    "reg = smf.probit('mtJob ~ hs + college + technical' + dg_formula, data = regdf).fit()\n",
    "print(reg.summary())\n",
    "print(reg.get_margeff().summary())"
   ]
  },
  {
   "cell_type": "markdown",
   "metadata": {},
   "source": [
    "#### (B8)"
   ]
  },
  {
   "cell_type": "code",
   "execution_count": 39,
   "metadata": {
    "scrolled": true
   },
   "outputs": [
    {
     "name": "stdout",
     "output_type": "stream",
     "text": [
      "Warning: Maximum number of iterations has been exceeded.\n",
      "         Current function value: 0.065167\n",
      "         Iterations: 35\n",
      "                          Probit Regression Results                           \n",
      "==============================================================================\n",
      "Dep. Variable:                  mtJob   No. Observations:                14972\n",
      "Model:                         Probit   Df Residuals:                    14947\n",
      "Method:                           MLE   Df Model:                           24\n",
      "Date:                Sun, 12 Jan 2020   Pseudo R-squ.:                  0.1554\n",
      "Time:                        22:28:18   Log-Likelihood:                -975.67\n",
      "converged:                      False   LL-Null:                       -1155.2\n",
      "Covariance Type:            nonrobust   LLR p-value:                 1.723e-61\n",
      "=====================================================================================\n",
      "                        coef    std err          z      P>|z|      [0.025      0.975]\n",
      "-------------------------------------------------------------------------------------\n",
      "Intercept            -5.6105    396.283     -0.014      0.989    -782.312     771.091\n",
      "hs[T.True]            0.0475      0.095      0.502      0.615      -0.138       0.233\n",
      "college[T.True]      -0.0144      0.129     -0.112      0.911      -0.266       0.237\n",
      "technical[T.True]    -0.1458      0.103     -1.413      0.158      -0.348       0.056\n",
      "married[T.True]      -0.2984      0.076     -3.925      0.000      -0.447      -0.149\n",
      "indig[T.True]         0.2812      0.088      3.212      0.001       0.110       0.453\n",
      "male                  0.9916      0.077     12.859      0.000       0.840       1.143\n",
      "edad                 -0.0204      0.002     -8.759      0.000      -0.025      -0.016\n",
      "hh_size              -0.0186      0.015     -1.281      0.200      -0.047       0.010\n",
      "ent_3                 3.8654    396.283      0.010      0.992    -772.836     780.566\n",
      "ent_5                 3.7193    396.283      0.009      0.993    -772.982     780.420\n",
      "ent_9                 4.1700    396.283      0.011      0.992    -772.531     780.871\n",
      "ent_10                4.0729    396.283      0.010      0.992    -772.628     780.774\n",
      "ent_11                3.9885    396.283      0.010      0.992    -772.713     780.690\n",
      "ent_14                3.7453    396.283      0.009      0.992    -772.956     780.446\n",
      "ent_15                3.9658    396.283      0.010      0.992    -772.735     780.667\n",
      "ent_16                3.8368    396.283      0.010      0.992    -772.864     780.538\n",
      "ent_17                3.9430    396.283      0.010      0.992    -772.758     780.644\n",
      "ent_19                3.6176    396.283      0.009      0.993    -773.083     780.319\n",
      "ent_20                3.9191    396.283      0.010      0.992    -772.782     780.620\n",
      "ent_21                3.7349    396.283      0.009      0.992    -772.966     780.436\n",
      "ent_25                4.0362    396.283      0.010      0.992    -772.665     780.737\n",
      "ent_26                4.2123    396.283      0.011      0.992    -772.489     780.913\n",
      "ent_30                3.5401    396.283      0.009      0.993    -773.161     780.241\n",
      "ent_31                3.4604    396.283      0.009      0.993    -773.241     780.162\n",
      "=====================================================================================\n"
     ]
    },
    {
     "name": "stderr",
     "output_type": "stream",
     "text": [
      "//anaconda3/envs/econ/lib/python3.7/site-packages/statsmodels/base/model.py:512: ConvergenceWarning: Maximum Likelihood optimization failed to converge. Check mle_retvals\n",
      "  \"Check mle_retvals\", ConvergenceWarning)\n"
     ]
    },
    {
     "name": "stdout",
     "output_type": "stream",
     "text": [
      "       Probit Marginal Effects       \n",
      "=====================================\n",
      "Dep. Variable:                  mtJob\n",
      "Method:                          dydx\n",
      "At:                           overall\n",
      "=====================================================================================\n",
      "                       dy/dx    std err          z      P>|z|      [0.025      0.975]\n",
      "-------------------------------------------------------------------------------------\n",
      "hs[T.True]            0.0016      0.003      0.502      0.615      -0.005       0.008\n",
      "college[T.True]      -0.0005      0.004     -0.112      0.911      -0.009       0.008\n",
      "technical[T.True]    -0.0048      0.003     -1.409      0.159      -0.011       0.002\n",
      "married[T.True]      -0.0098      0.003     -3.857      0.000      -0.015      -0.005\n",
      "indig[T.True]         0.0092      0.003      3.176      0.001       0.004       0.015\n",
      "male                  0.0325      0.003     10.821      0.000       0.027       0.038\n",
      "edad                 -0.0007    8.3e-05     -8.057      0.000      -0.001      -0.001\n",
      "hh_size              -0.0006      0.000     -1.279      0.201      -0.002       0.000\n",
      "ent_3                 0.1265     12.968      0.010      0.992     -25.290      25.543\n",
      "ent_5                 0.1217     12.968      0.009      0.993     -25.295      25.538\n",
      "ent_9                 0.1365     12.968      0.011      0.992     -25.280      25.553\n",
      "ent_10                0.1333     12.968      0.010      0.992     -25.283      25.550\n",
      "ent_11                0.1305     12.968      0.010      0.992     -25.286      25.547\n",
      "ent_14                0.1226     12.968      0.009      0.992     -25.294      25.539\n",
      "ent_15                0.1298     12.968      0.010      0.992     -25.287      25.546\n",
      "ent_16                0.1256     12.968      0.010      0.992     -25.291      25.542\n",
      "ent_17                0.1290     12.968      0.010      0.992     -25.287      25.545\n",
      "ent_19                0.1184     12.968      0.009      0.993     -25.298      25.535\n",
      "ent_20                0.1282     12.968      0.010      0.992     -25.288      25.545\n",
      "ent_21                0.1222     12.968      0.009      0.992     -25.294      25.539\n",
      "ent_25                0.1321     12.968      0.010      0.992     -25.284      25.548\n",
      "ent_26                0.1378     12.968      0.011      0.992     -25.279      25.554\n",
      "ent_30                0.1158     12.968      0.009      0.993     -25.301      25.532\n",
      "ent_31                0.1132     12.968      0.009      0.993     -25.303      25.530\n",
      "=====================================================================================\n"
     ]
    }
   ],
   "source": [
    "reg = smf.probit('mtJob ~ hs + college + technical' + dg_formula + ent_dummies_formula, data = regdf).fit()\n",
    "print(reg.summary())\n",
    "print(reg.get_margeff().summary())"
   ]
  },
  {
   "cell_type": "markdown",
   "metadata": {},
   "source": [
    "#### (B9)"
   ]
  },
  {
   "cell_type": "code",
   "execution_count": 40,
   "metadata": {
    "scrolled": true
   },
   "outputs": [
    {
     "name": "stdout",
     "output_type": "stream",
     "text": [
      "Optimization terminated successfully.\n",
      "         Current function value: 0.074797\n",
      "         Iterations 9\n",
      "                          Probit Regression Results                           \n",
      "==============================================================================\n",
      "Dep. Variable:                  mtJob   No. Observations:                12103\n",
      "Model:                         Probit   Df Residuals:                    12096\n",
      "Method:                           MLE   Df Model:                            6\n",
      "Date:                Sun, 12 Jan 2020   Pseudo R-squ.:                  0.1221\n",
      "Time:                        22:28:18   Log-Likelihood:                -905.27\n",
      "converged:                       True   LL-Null:                       -1031.2\n",
      "Covariance Type:            nonrobust   LLR p-value:                 1.714e-51\n",
      "===================================================================================\n",
      "                      coef    std err          z      P>|z|      [0.025      0.975]\n",
      "-----------------------------------------------------------------------------------\n",
      "Intercept          -1.8100      0.157    -11.538      0.000      -2.117      -1.503\n",
      "married[T.True]    -0.3453      0.079     -4.351      0.000      -0.501      -0.190\n",
      "indig[T.True]       0.2910      0.084      3.470      0.001       0.127       0.455\n",
      "years_ed            0.0055      0.005      1.213      0.225      -0.003       0.014\n",
      "male                0.9393      0.078     12.030      0.000       0.786       1.092\n",
      "edad               -0.0181      0.003     -7.097      0.000      -0.023      -0.013\n",
      "hh_size            -0.0079      0.015     -0.525      0.599      -0.037       0.022\n",
      "===================================================================================\n",
      "       Probit Marginal Effects       \n",
      "=====================================\n",
      "Dep. Variable:                  mtJob\n",
      "Method:                          dydx\n",
      "At:                           overall\n",
      "===================================================================================\n",
      "                     dy/dx    std err          z      P>|z|      [0.025      0.975]\n",
      "-----------------------------------------------------------------------------------\n",
      "married[T.True]    -0.0130      0.003     -4.249      0.000      -0.019      -0.007\n",
      "indig[T.True]       0.0109      0.003      3.419      0.001       0.005       0.017\n",
      "years_ed            0.0002      0.000      1.210      0.226      -0.000       0.001\n",
      "male                0.0352      0.003     10.171      0.000       0.028       0.042\n",
      "edad               -0.0007      0.000     -6.671      0.000      -0.001      -0.000\n",
      "hh_size            -0.0003      0.001     -0.525      0.599      -0.001       0.001\n",
      "===================================================================================\n"
     ]
    }
   ],
   "source": [
    "reg = smf.probit('mtJob ~ years_ed' + dg_formula, data = regdf).fit()\n",
    "print(reg.summary())\n",
    "print(reg.get_margeff().summary())"
   ]
  },
  {
   "cell_type": "markdown",
   "metadata": {},
   "source": [
    "#### (B10)"
   ]
  },
  {
   "cell_type": "code",
   "execution_count": 41,
   "metadata": {
    "scrolled": true
   },
   "outputs": [
    {
     "name": "stdout",
     "output_type": "stream",
     "text": [
      "Warning: Maximum number of iterations has been exceeded.\n",
      "         Current function value: 0.072435\n",
      "         Iterations: 35\n",
      "                          Probit Regression Results                           \n",
      "==============================================================================\n",
      "Dep. Variable:                  mtJob   No. Observations:                12103\n",
      "Model:                         Probit   Df Residuals:                    12080\n",
      "Method:                           MLE   Df Model:                           22\n",
      "Date:                Sun, 12 Jan 2020   Pseudo R-squ.:                  0.1498\n",
      "Time:                        22:28:19   Log-Likelihood:                -876.68\n",
      "converged:                      False   LL-Null:                       -1031.2\n",
      "Covariance Type:            nonrobust   LLR p-value:                 1.862e-52\n",
      "===================================================================================\n",
      "                      coef    std err          z      P>|z|      [0.025      0.975]\n",
      "-----------------------------------------------------------------------------------\n",
      "Intercept          -4.5002     22.526     -0.200      0.842     -48.651      39.651\n",
      "married[T.True]    -0.3119      0.082     -3.813      0.000      -0.472      -0.152\n",
      "indig[T.True]       0.3629      0.094      3.879      0.000       0.180       0.546\n",
      "years_ed            0.0070      0.005      1.482      0.138      -0.002       0.016\n",
      "male                0.9687      0.080     12.065      0.000       0.811       1.126\n",
      "edad               -0.0186      0.003     -7.142      0.000      -0.024      -0.013\n",
      "hh_size            -0.0125      0.015     -0.815      0.415      -0.043       0.018\n",
      "ent_3               2.2466     22.527      0.100      0.921     -41.905      46.399\n",
      "ent_5               2.4965     22.526      0.111      0.912     -41.654      46.647\n",
      "ent_9               2.9064     22.527      0.129      0.897     -41.245      47.058\n",
      "ent_10              2.8713     22.526      0.127      0.899     -41.279      47.022\n",
      "ent_11              2.7886     22.526      0.124      0.901     -41.362      46.939\n",
      "ent_14              2.5361     22.526      0.113      0.910     -41.615      46.687\n",
      "ent_15              2.7617     22.526      0.123      0.902     -41.389      46.912\n",
      "ent_16              2.6219     22.526      0.116      0.907     -41.529      46.772\n",
      "ent_17              2.6452     22.526      0.117      0.907     -41.506      46.796\n",
      "ent_19              2.3867     22.526      0.106      0.916     -41.764      46.537\n",
      "ent_20              2.7264     22.526      0.121      0.904     -41.424      46.877\n",
      "ent_21              2.4828     22.526      0.110      0.912     -41.668      46.634\n",
      "ent_25              2.7946     22.526      0.124      0.901     -41.356      46.945\n",
      "ent_26              2.9641     22.526      0.132      0.895     -41.186      47.114\n",
      "ent_30              2.2928     22.526      0.102      0.919     -41.858      46.444\n",
      "ent_31              2.1015     22.527      0.093      0.926     -42.050      46.253\n",
      "===================================================================================\n"
     ]
    },
    {
     "name": "stderr",
     "output_type": "stream",
     "text": [
      "//anaconda3/envs/econ/lib/python3.7/site-packages/statsmodels/base/model.py:512: ConvergenceWarning: Maximum Likelihood optimization failed to converge. Check mle_retvals\n",
      "  \"Check mle_retvals\", ConvergenceWarning)\n"
     ]
    },
    {
     "name": "stdout",
     "output_type": "stream",
     "text": [
      "       Probit Marginal Effects       \n",
      "=====================================\n",
      "Dep. Variable:                  mtJob\n",
      "Method:                          dydx\n",
      "At:                           overall\n",
      "===================================================================================\n",
      "                     dy/dx    std err          z      P>|z|      [0.025      0.975]\n",
      "-----------------------------------------------------------------------------------\n",
      "married[T.True]    -0.0114      0.003     -3.747      0.000      -0.017      -0.005\n",
      "indig[T.True]       0.0133      0.003      3.812      0.000       0.006       0.020\n",
      "years_ed            0.0003      0.000      1.478      0.139   -8.34e-05       0.001\n",
      "male                0.0354      0.003     10.252      0.000       0.029       0.042\n",
      "edad               -0.0007      0.000     -6.727      0.000      -0.001      -0.000\n",
      "hh_size            -0.0005      0.001     -0.814      0.416      -0.002       0.001\n",
      "ent_3               0.0820      0.823      0.100      0.921      -1.530       1.694\n",
      "ent_5               0.0912      0.823      0.111      0.912      -1.521       1.704\n",
      "ent_9               0.1061      0.823      0.129      0.897      -1.506       1.719\n",
      "ent_10              0.1049      0.823      0.127      0.899      -1.508       1.717\n",
      "ent_11              0.1018      0.823      0.124      0.901      -1.511       1.714\n",
      "ent_14              0.0926      0.823      0.113      0.910      -1.520       1.705\n",
      "ent_15              0.1009      0.823      0.123      0.902      -1.512       1.713\n",
      "ent_16              0.0957      0.823      0.116      0.907      -1.517       1.708\n",
      "ent_17              0.0966      0.823      0.117      0.907      -1.516       1.709\n",
      "ent_19              0.0872      0.823      0.106      0.916      -1.525       1.700\n",
      "ent_20              0.0996      0.823      0.121      0.904      -1.513       1.712\n",
      "ent_21              0.0907      0.823      0.110      0.912      -1.522       1.703\n",
      "ent_25              0.1021      0.823      0.124      0.901      -1.510       1.714\n",
      "ent_26              0.1082      0.823      0.132      0.895      -1.504       1.721\n",
      "ent_30              0.0837      0.823      0.102      0.919      -1.529       1.696\n",
      "ent_31              0.0767      0.823      0.093      0.926      -1.536       1.689\n",
      "===================================================================================\n"
     ]
    }
   ],
   "source": [
    "reg = smf.probit('mtJob ~ years_ed' + dg_formula + ent_dummies_formula, data = regdf).fit()\n",
    "print(reg.summary())\n",
    "print(reg.get_margeff().summary())"
   ]
  },
  {
   "cell_type": "markdown",
   "metadata": {},
   "source": [
    "#### (B11)"
   ]
  },
  {
   "cell_type": "code",
   "execution_count": 42,
   "metadata": {
    "scrolled": true
   },
   "outputs": [
    {
     "name": "stdout",
     "output_type": "stream",
     "text": [
      "Optimization terminated successfully.\n",
      "         Current function value: 0.066944\n",
      "         Iterations 9\n",
      "                          Probit Regression Results                           \n",
      "==============================================================================\n",
      "Dep. Variable:                  mtJob   No. Observations:                14972\n",
      "Model:                         Probit   Df Residuals:                    14965\n",
      "Method:                           MLE   Df Model:                            6\n",
      "Date:                Sun, 12 Jan 2020   Pseudo R-squ.:                  0.1324\n",
      "Time:                        22:28:19   Log-Likelihood:                -1002.3\n",
      "converged:                       True   LL-Null:                       -1155.2\n",
      "Covariance Type:            nonrobust   LLR p-value:                 4.409e-63\n",
      "===================================================================================\n",
      "                      coef    std err          z      P>|z|      [0.025      0.975]\n",
      "-----------------------------------------------------------------------------------\n",
      "Intercept          -1.7593      0.147    -11.931      0.000      -2.048      -1.470\n",
      "married[T.True]    -0.3321      0.074     -4.477      0.000      -0.478      -0.187\n",
      "indig[T.True]       0.2254      0.079      2.866      0.004       0.071       0.380\n",
      "years_ed_impute     0.0053      0.005      1.165      0.244      -0.004       0.014\n",
      "male                0.9659      0.075     12.886      0.000       0.819       1.113\n",
      "edad               -0.0199      0.002     -8.756      0.000      -0.024      -0.015\n",
      "hh_size            -0.0135      0.014     -0.951      0.341      -0.041       0.014\n",
      "===================================================================================\n",
      "       Probit Marginal Effects       \n",
      "=====================================\n",
      "Dep. Variable:                  mtJob\n",
      "Method:                          dydx\n",
      "At:                           overall\n",
      "===================================================================================\n",
      "                     dy/dx    std err          z      P>|z|      [0.025      0.975]\n",
      "-----------------------------------------------------------------------------------\n",
      "married[T.True]    -0.0111      0.003     -4.373      0.000      -0.016      -0.006\n",
      "indig[T.True]       0.0075      0.003      2.839      0.005       0.002       0.013\n",
      "years_ed_impute     0.0002      0.000      1.163      0.245      -0.000       0.000\n",
      "male                0.0323      0.003     10.783      0.000       0.026       0.038\n",
      "edad               -0.0007   8.28e-05     -8.031      0.000      -0.001      -0.001\n",
      "hh_size            -0.0005      0.000     -0.950      0.342      -0.001       0.000\n",
      "===================================================================================\n"
     ]
    }
   ],
   "source": [
    "reg = smf.probit('mtJob ~ years_ed_impute' + dg_formula, data = regdf).fit()\n",
    "print(reg.summary())\n",
    "print(reg.get_margeff().summary())"
   ]
  },
  {
   "cell_type": "markdown",
   "metadata": {},
   "source": [
    "#### (B12)"
   ]
  },
  {
   "cell_type": "code",
   "execution_count": 43,
   "metadata": {
    "scrolled": true
   },
   "outputs": [
    {
     "name": "stdout",
     "output_type": "stream",
     "text": [
      "Warning: Maximum number of iterations has been exceeded.\n",
      "         Current function value: 0.065183\n",
      "         Iterations: 35\n",
      "                          Probit Regression Results                           \n",
      "==============================================================================\n",
      "Dep. Variable:                  mtJob   No. Observations:                14972\n",
      "Model:                         Probit   Df Residuals:                    14949\n",
      "Method:                           MLE   Df Model:                           22\n",
      "Date:                Sun, 12 Jan 2020   Pseudo R-squ.:                  0.1552\n",
      "Time:                        22:28:20   Log-Likelihood:                -975.91\n",
      "converged:                      False   LL-Null:                       -1155.2\n",
      "Covariance Type:            nonrobust   LLR p-value:                 1.314e-62\n",
      "===================================================================================\n",
      "                      coef    std err          z      P>|z|      [0.025      0.975]\n",
      "-----------------------------------------------------------------------------------\n",
      "Intercept          -5.7405    458.583     -0.013      0.990    -904.547     893.066\n",
      "married[T.True]    -0.3002      0.076     -3.952      0.000      -0.449      -0.151\n",
      "indig[T.True]       0.2917      0.087      3.336      0.001       0.120       0.463\n",
      "years_ed_impute     0.0062      0.005      1.319      0.187      -0.003       0.015\n",
      "male                0.9904      0.077     12.884      0.000       0.840       1.141\n",
      "edad               -0.0203      0.002     -8.779      0.000      -0.025      -0.016\n",
      "hh_size            -0.0168      0.014     -1.163      0.245      -0.045       0.012\n",
      "ent_3               3.9022    458.583      0.009      0.993    -894.904     902.708\n",
      "ent_5               3.7704    458.583      0.008      0.993    -895.036     902.577\n",
      "ent_9               4.2067    458.583      0.009      0.993    -894.600     903.013\n",
      "ent_10              4.1391    458.583      0.009      0.993    -894.667     902.945\n",
      "ent_11              4.0518    458.583      0.009      0.993    -894.754     902.858\n",
      "ent_14              3.7931    458.583      0.008      0.993    -895.013     902.599\n",
      "ent_15              4.0168    458.583      0.009      0.993    -894.789     902.823\n",
      "ent_16              3.8974    458.583      0.008      0.993    -894.909     902.704\n",
      "ent_17              3.9803    458.583      0.009      0.993    -894.826     902.787\n",
      "ent_19              3.6666    458.583      0.008      0.994    -895.140     902.473\n",
      "ent_20              3.9746    458.583      0.009      0.993    -894.832     902.781\n",
      "ent_21              3.7941    458.583      0.008      0.993    -895.012     902.600\n",
      "ent_25              4.0930    458.583      0.009      0.993    -894.713     902.899\n",
      "ent_26              4.2523    458.583      0.009      0.993    -894.554     903.058\n",
      "ent_30              3.5905    458.583      0.008      0.994    -895.216     902.397\n",
      "ent_31              3.4868    458.583      0.008      0.994    -895.319     902.293\n",
      "===================================================================================\n"
     ]
    },
    {
     "name": "stderr",
     "output_type": "stream",
     "text": [
      "//anaconda3/envs/econ/lib/python3.7/site-packages/statsmodels/base/model.py:512: ConvergenceWarning: Maximum Likelihood optimization failed to converge. Check mle_retvals\n",
      "  \"Check mle_retvals\", ConvergenceWarning)\n"
     ]
    },
    {
     "name": "stdout",
     "output_type": "stream",
     "text": [
      "       Probit Marginal Effects       \n",
      "=====================================\n",
      "Dep. Variable:                  mtJob\n",
      "Method:                          dydx\n",
      "At:                           overall\n",
      "===================================================================================\n",
      "                     dy/dx    std err          z      P>|z|      [0.025      0.975]\n",
      "-----------------------------------------------------------------------------------\n",
      "married[T.True]    -0.0098      0.003     -3.883      0.000      -0.015      -0.005\n",
      "indig[T.True]       0.0095      0.003      3.295      0.001       0.004       0.015\n",
      "years_ed_impute     0.0002      0.000      1.317      0.188   -9.95e-05       0.001\n",
      "male                0.0324      0.003     10.835      0.000       0.027       0.038\n",
      "edad               -0.0007   8.22e-05     -8.073      0.000      -0.001      -0.001\n",
      "hh_size            -0.0006      0.000     -1.161      0.246      -0.001       0.000\n",
      "ent_3               0.1277     15.010      0.009      0.993     -29.290      29.546\n",
      "ent_5               0.1234     15.010      0.008      0.993     -29.295      29.542\n",
      "ent_9               0.1377     15.010      0.009      0.993     -29.280      29.556\n",
      "ent_10              0.1355     15.010      0.009      0.993     -29.283      29.554\n",
      "ent_11              0.1326     15.010      0.009      0.993     -29.286      29.551\n",
      "ent_14              0.1241     15.010      0.008      0.993     -29.294      29.542\n",
      "ent_15              0.1315     15.010      0.009      0.993     -29.287      29.550\n",
      "ent_16              0.1276     15.010      0.008      0.993     -29.291      29.546\n",
      "ent_17              0.1303     15.010      0.009      0.993     -29.288      29.548\n",
      "ent_19              0.1200     15.010      0.008      0.994     -29.298      29.538\n",
      "ent_20              0.1301     15.010      0.009      0.993     -29.288      29.548\n",
      "ent_21              0.1242     15.010      0.008      0.993     -29.294      29.542\n",
      "ent_25              0.1340     15.010      0.009      0.993     -29.284      29.552\n",
      "ent_26              0.1392     15.010      0.009      0.993     -29.279      29.557\n",
      "ent_30              0.1175     15.010      0.008      0.994     -29.301      29.536\n",
      "ent_31              0.1141     15.010      0.008      0.994     -29.304      29.532\n",
      "===================================================================================\n"
     ]
    }
   ],
   "source": [
    "reg = smf.probit('mtJob ~ years_ed_impute' + dg_formula + ent_dummies_formula, data = regdf).fit()\n",
    "print(reg.summary())\n",
    "print(reg.get_margeff().summary())"
   ]
  },
  {
   "cell_type": "markdown",
   "metadata": {},
   "source": [
    "## Permanent Migration for Labor"
   ]
  },
  {
   "cell_type": "code",
   "execution_count": 44,
   "metadata": {},
   "outputs": [],
   "source": [
    "regdf = c02_ed\n",
    "\n",
    "regdf = pd.merge(regdf, c02_permanent, how='left', on = ['folio','ls'])\n",
    "regdf[\"mg_perm_job\"] = regdf[\"mg_perm_job\"].fillna(0)\n",
    "regdf = pd.merge(regdf, c02_hm, how='inner', on = ['folio','ls'])\n",
    "regdf = pd.merge(regdf, c02_ls, how='inner', on = ['folio','ls'])\n",
    "\n",
    "ent_dummies = pd.get_dummies(regdf[\"ent\"])\n",
    "ent_dummies.columns = [\"ent_\" + str(col).split(\".\")[0] for col in ent_dummies.columns]\n",
    "regdf = pd.concat((regdf, ent_dummies), axis = 1)\n",
    "\n",
    "regdf = regdf.drop_duplicates()"
   ]
  },
  {
   "cell_type": "code",
   "execution_count": 45,
   "metadata": {},
   "outputs": [
    {
     "name": "stdout",
     "output_type": "stream",
     "text": [
      " + ent_3 + ent_5 + ent_9 + ent_10 + ent_11 + ent_14 + ent_15 + ent_16 + ent_17 + ent_19 + ent_20 + ent_21 + ent_25 + ent_26 + ent_30 + ent_31\n"
     ]
    }
   ],
   "source": [
    "ent_dummies_formula = ''\n",
    "\n",
    "for col in ent_dummies.columns:\n",
    "    ent_dummies_formula += (\" + %s\" % col)\n",
    "\n",
    "print(ent_dummies_formula)"
   ]
  },
  {
   "cell_type": "markdown",
   "metadata": {},
   "source": [
    "#### (C1)"
   ]
  },
  {
   "cell_type": "code",
   "execution_count": 46,
   "metadata": {
    "scrolled": true
   },
   "outputs": [
    {
     "name": "stdout",
     "output_type": "stream",
     "text": [
      "Optimization terminated successfully.\n",
      "         Current function value: 0.348829\n",
      "         Iterations 6\n",
      "                          Probit Regression Results                           \n",
      "==============================================================================\n",
      "Dep. Variable:            mg_perm_job   No. Observations:                14956\n",
      "Model:                         Probit   Df Residuals:                    14949\n",
      "Method:                           MLE   Df Model:                            6\n",
      "Date:                Sun, 12 Jan 2020   Pseudo R-squ.:                 0.07240\n",
      "Time:                        22:28:21   Log-Likelihood:                -5217.1\n",
      "converged:                       True   LL-Null:                       -5624.3\n",
      "Covariance Type:            nonrobust   LLR p-value:                1.219e-172\n",
      "===================================================================================\n",
      "                      coef    std err          z      P>|z|      [0.025      0.975]\n",
      "-----------------------------------------------------------------------------------\n",
      "Intercept          -1.5559      0.068    -22.724      0.000      -1.690      -1.422\n",
      "hs[T.True]          0.1234      0.037      3.375      0.001       0.052       0.195\n",
      "married[T.True]    -0.1668      0.035     -4.713      0.000      -0.236      -0.097\n",
      "indig[T.True]      -0.2437      0.045     -5.463      0.000      -0.331      -0.156\n",
      "male                0.7003      0.028     24.710      0.000       0.645       0.756\n",
      "edad                0.0057      0.001      6.181      0.000       0.004       0.008\n",
      "hh_size            -0.0179      0.007     -2.632      0.008      -0.031      -0.005\n",
      "===================================================================================\n",
      "       Probit Marginal Effects       \n",
      "=====================================\n",
      "Dep. Variable:            mg_perm_job\n",
      "Method:                          dydx\n",
      "At:                           overall\n",
      "===================================================================================\n",
      "                     dy/dx    std err          z      P>|z|      [0.025      0.975]\n",
      "-----------------------------------------------------------------------------------\n",
      "hs[T.True]          0.0236      0.007      3.376      0.001       0.010       0.037\n",
      "married[T.True]    -0.0319      0.007     -4.715      0.000      -0.045      -0.019\n",
      "indig[T.True]      -0.0466      0.009     -5.466      0.000      -0.063      -0.030\n",
      "male                0.1338      0.005     24.947      0.000       0.123       0.144\n",
      "edad                0.0011      0.000      6.185      0.000       0.001       0.001\n",
      "hh_size            -0.0034      0.001     -2.632      0.008      -0.006      -0.001\n",
      "===================================================================================\n"
     ]
    }
   ],
   "source": [
    "reg = smf.probit('mg_perm_job ~ hs' + dg_formula, data = regdf).fit()\n",
    "print(reg.summary())\n",
    "print(reg.get_margeff().summary())"
   ]
  },
  {
   "cell_type": "markdown",
   "metadata": {},
   "source": [
    "#### (C2)"
   ]
  },
  {
   "cell_type": "code",
   "execution_count": 47,
   "metadata": {
    "scrolled": true
   },
   "outputs": [
    {
     "name": "stdout",
     "output_type": "stream",
     "text": [
      "Optimization terminated successfully.\n",
      "         Current function value: 0.343616\n",
      "         Iterations 6\n",
      "                          Probit Regression Results                           \n",
      "==============================================================================\n",
      "Dep. Variable:            mg_perm_job   No. Observations:                14956\n",
      "Model:                         Probit   Df Residuals:                    14933\n",
      "Method:                           MLE   Df Model:                           22\n",
      "Date:                Sun, 12 Jan 2020   Pseudo R-squ.:                 0.08626\n",
      "Time:                        22:28:21   Log-Likelihood:                -5139.1\n",
      "converged:                       True   LL-Null:                       -5624.3\n",
      "Covariance Type:            nonrobust   LLR p-value:                4.128e-191\n",
      "===================================================================================\n",
      "                      coef    std err          z      P>|z|      [0.025      0.975]\n",
      "-----------------------------------------------------------------------------------\n",
      "Intercept          -1.4773      0.220     -6.703      0.000      -1.909      -1.045\n",
      "hs[T.True]          0.0987      0.037      2.664      0.008       0.026       0.171\n",
      "married[T.True]    -0.1480      0.036     -4.141      0.000      -0.218      -0.078\n",
      "indig[T.True]      -0.2187      0.048     -4.514      0.000      -0.314      -0.124\n",
      "male                0.7089      0.029     24.758      0.000       0.653       0.765\n",
      "edad                0.0059      0.001      6.252      0.000       0.004       0.008\n",
      "hh_size            -0.0154      0.007     -2.227      0.026      -0.029      -0.002\n",
      "ent_3               0.2613      0.220      1.189      0.234      -0.169       0.692\n",
      "ent_5              -0.4737      0.222     -2.131      0.033      -0.909      -0.038\n",
      "ent_9               0.0447      0.227      0.197      0.844      -0.400       0.489\n",
      "ent_10             -0.1760      0.218     -0.806      0.420      -0.604       0.252\n",
      "ent_11             -0.2994      0.221     -1.352      0.176      -0.733       0.134\n",
      "ent_14             -0.2148      0.221     -0.973      0.331      -0.648       0.218\n",
      "ent_15             -0.2091      0.218     -0.958      0.338      -0.637       0.219\n",
      "ent_16             -0.3835      0.219     -1.754      0.079      -0.812       0.045\n",
      "ent_17              0.0693      0.220      0.315      0.753      -0.362       0.501\n",
      "ent_19              0.0052      0.216      0.024      0.981      -0.418       0.429\n",
      "ent_20             -0.0946      0.220     -0.431      0.667      -0.525       0.336\n",
      "ent_21             -0.1392      0.220     -0.632      0.527      -0.571       0.293\n",
      "ent_25              0.0243      0.216      0.112      0.911      -0.399       0.447\n",
      "ent_26              0.0382      0.216      0.177      0.860      -0.385       0.461\n",
      "ent_30             -0.1752      0.216     -0.811      0.417      -0.599       0.248\n",
      "ent_31             -0.2618      0.224     -1.171      0.242      -0.700       0.176\n",
      "===================================================================================\n",
      "       Probit Marginal Effects       \n",
      "=====================================\n",
      "Dep. Variable:            mg_perm_job\n",
      "Method:                          dydx\n",
      "At:                           overall\n",
      "===================================================================================\n",
      "                     dy/dx    std err          z      P>|z|      [0.025      0.975]\n",
      "-----------------------------------------------------------------------------------\n",
      "hs[T.True]          0.0186      0.007      2.665      0.008       0.005       0.032\n",
      "married[T.True]    -0.0279      0.007     -4.143      0.000      -0.041      -0.015\n",
      "indig[T.True]      -0.0412      0.009     -4.515      0.000      -0.059      -0.023\n",
      "male                0.1335      0.005     25.047      0.000       0.123       0.144\n",
      "edad                0.0011      0.000      6.254      0.000       0.001       0.001\n",
      "hh_size            -0.0029      0.001     -2.228      0.026      -0.005      -0.000\n",
      "ent_3               0.0492      0.041      1.190      0.234      -0.032       0.130\n",
      "ent_5              -0.0892      0.042     -2.131      0.033      -0.171      -0.007\n",
      "ent_9               0.0084      0.043      0.197      0.844      -0.075       0.092\n",
      "ent_10             -0.0332      0.041     -0.806      0.420      -0.114       0.047\n",
      "ent_11             -0.0564      0.042     -1.352      0.176      -0.138       0.025\n",
      "ent_14             -0.0405      0.042     -0.973      0.331      -0.122       0.041\n",
      "ent_15             -0.0394      0.041     -0.958      0.338      -0.120       0.041\n",
      "ent_16             -0.0722      0.041     -1.754      0.079      -0.153       0.008\n",
      "ent_17              0.0130      0.041      0.315      0.753      -0.068       0.094\n",
      "ent_19              0.0010      0.041      0.024      0.981      -0.079       0.081\n",
      "ent_20             -0.0178      0.041     -0.431      0.667      -0.099       0.063\n",
      "ent_21             -0.0262      0.041     -0.632      0.527      -0.108       0.055\n",
      "ent_25              0.0046      0.041      0.112      0.911      -0.075       0.084\n",
      "ent_26              0.0072      0.041      0.177      0.860      -0.073       0.087\n",
      "ent_30             -0.0330      0.041     -0.811      0.418      -0.113       0.047\n",
      "ent_31             -0.0493      0.042     -1.171      0.242      -0.132       0.033\n",
      "===================================================================================\n"
     ]
    }
   ],
   "source": [
    "reg = smf.probit('mg_perm_job ~ hs' + dg_formula + ent_dummies_formula, data = regdf).fit()\n",
    "print(reg.summary())\n",
    "print(reg.get_margeff().summary())"
   ]
  },
  {
   "cell_type": "markdown",
   "metadata": {},
   "source": [
    "#### (C3)\n"
   ]
  },
  {
   "cell_type": "code",
   "execution_count": 48,
   "metadata": {
    "scrolled": true
   },
   "outputs": [
    {
     "name": "stdout",
     "output_type": "stream",
     "text": [
      "Optimization terminated successfully.\n",
      "         Current function value: 0.348100\n",
      "         Iterations 6\n",
      "                          Probit Regression Results                           \n",
      "==============================================================================\n",
      "Dep. Variable:            mg_perm_job   No. Observations:                14956\n",
      "Model:                         Probit   Df Residuals:                    14948\n",
      "Method:                           MLE   Df Model:                            7\n",
      "Date:                Sun, 12 Jan 2020   Pseudo R-squ.:                 0.07433\n",
      "Time:                        22:28:21   Log-Likelihood:                -5206.2\n",
      "converged:                       True   LL-Null:                       -5624.3\n",
      "Covariance Type:            nonrobust   LLR p-value:                2.936e-176\n",
      "===================================================================================\n",
      "                      coef    std err          z      P>|z|      [0.025      0.975]\n",
      "-----------------------------------------------------------------------------------\n",
      "Intercept          -1.5366      0.069    -22.399      0.000      -1.671      -1.402\n",
      "hs[T.True]         -0.0440      0.052     -0.839      0.402      -0.147       0.059\n",
      "college[T.True]     0.3033      0.065      4.643      0.000       0.175       0.431\n",
      "married[T.True]    -0.1710      0.035     -4.826      0.000      -0.240      -0.102\n",
      "indig[T.True]      -0.2463      0.045     -5.516      0.000      -0.334      -0.159\n",
      "male                0.7013      0.028     24.710      0.000       0.646       0.757\n",
      "edad                0.0053      0.001      5.700      0.000       0.003       0.007\n",
      "hh_size            -0.0172      0.007     -2.526      0.012      -0.031      -0.004\n",
      "===================================================================================\n",
      "       Probit Marginal Effects       \n",
      "=====================================\n",
      "Dep. Variable:            mg_perm_job\n",
      "Method:                          dydx\n",
      "At:                           overall\n",
      "===================================================================================\n",
      "                     dy/dx    std err          z      P>|z|      [0.025      0.975]\n",
      "-----------------------------------------------------------------------------------\n",
      "hs[T.True]         -0.0084      0.010     -0.839      0.401      -0.028       0.011\n",
      "college[T.True]     0.0578      0.012      4.649      0.000       0.033       0.082\n",
      "married[T.True]    -0.0326      0.007     -4.829      0.000      -0.046      -0.019\n",
      "indig[T.True]      -0.0470      0.009     -5.519      0.000      -0.064      -0.030\n",
      "male                0.1337      0.005     24.958      0.000       0.123       0.144\n",
      "edad                0.0010      0.000      5.703      0.000       0.001       0.001\n",
      "hh_size            -0.0033      0.001     -2.526      0.012      -0.006      -0.001\n",
      "===================================================================================\n"
     ]
    }
   ],
   "source": [
    "reg = smf.probit('mg_perm_job ~ hs + college' + dg_formula, data = regdf).fit()\n",
    "print(reg.summary())\n",
    "print(reg.get_margeff().summary())"
   ]
  },
  {
   "cell_type": "markdown",
   "metadata": {},
   "source": [
    "#### (C4)"
   ]
  },
  {
   "cell_type": "code",
   "execution_count": 49,
   "metadata": {
    "scrolled": true
   },
   "outputs": [
    {
     "name": "stdout",
     "output_type": "stream",
     "text": [
      "Optimization terminated successfully.\n",
      "         Current function value: 0.342701\n",
      "         Iterations 6\n",
      "                          Probit Regression Results                           \n",
      "==============================================================================\n",
      "Dep. Variable:            mg_perm_job   No. Observations:                14956\n",
      "Model:                         Probit   Df Residuals:                    14932\n",
      "Method:                           MLE   Df Model:                           23\n",
      "Date:                Sun, 12 Jan 2020   Pseudo R-squ.:                 0.08869\n",
      "Time:                        22:28:22   Log-Likelihood:                -5125.4\n",
      "converged:                       True   LL-Null:                       -5624.3\n",
      "Covariance Type:            nonrobust   LLR p-value:                4.192e-196\n",
      "===================================================================================\n",
      "                      coef    std err          z      P>|z|      [0.025      0.975]\n",
      "-----------------------------------------------------------------------------------\n",
      "Intercept          -1.4496      0.221     -6.566      0.000      -1.882      -1.017\n",
      "hs[T.True]         -0.0901      0.053     -1.699      0.089      -0.194       0.014\n",
      "college[T.True]     0.3436      0.066      5.202      0.000       0.214       0.473\n",
      "married[T.True]    -0.1526      0.036     -4.262      0.000      -0.223      -0.082\n",
      "indig[T.True]      -0.2199      0.048     -4.534      0.000      -0.315      -0.125\n",
      "male                0.7101      0.029     24.753      0.000       0.654       0.766\n",
      "edad                0.0054      0.001      5.710      0.000       0.004       0.007\n",
      "hh_size            -0.0147      0.007     -2.121      0.034      -0.028      -0.001\n",
      "ent_3               0.2665      0.220      1.211      0.226      -0.165       0.698\n",
      "ent_5              -0.4900      0.223     -2.200      0.028      -0.927      -0.053\n",
      "ent_9               0.0386      0.227      0.170      0.865      -0.407       0.484\n",
      "ent_10             -0.1815      0.219     -0.829      0.407      -0.610       0.247\n",
      "ent_11             -0.2986      0.222     -1.347      0.178      -0.733       0.136\n",
      "ent_14             -0.2310      0.221     -1.044      0.296      -0.665       0.203\n",
      "ent_15             -0.2147      0.219     -0.982      0.326      -0.643       0.214\n",
      "ent_16             -0.3877      0.219     -1.770      0.077      -0.817       0.042\n",
      "ent_17              0.0668      0.220      0.303      0.762      -0.365       0.499\n",
      "ent_19             -0.0013      0.216     -0.006      0.995      -0.426       0.423\n",
      "ent_20             -0.1029      0.220     -0.468      0.640      -0.534       0.328\n",
      "ent_21             -0.1524      0.221     -0.691      0.490      -0.585       0.280\n",
      "ent_25              0.0299      0.216      0.138      0.890      -0.394       0.454\n",
      "ent_26              0.0337      0.216      0.156      0.876      -0.390       0.458\n",
      "ent_30             -0.1900      0.217     -0.877      0.380      -0.614       0.234\n",
      "ent_31             -0.2673      0.224     -1.193      0.233      -0.706       0.172\n",
      "===================================================================================\n",
      "       Probit Marginal Effects       \n",
      "=====================================\n",
      "Dep. Variable:            mg_perm_job\n",
      "Method:                          dydx\n",
      "At:                           overall\n",
      "===================================================================================\n",
      "                     dy/dx    std err          z      P>|z|      [0.025      0.975]\n",
      "-----------------------------------------------------------------------------------\n",
      "hs[T.True]         -0.0169      0.010     -1.699      0.089      -0.036       0.003\n",
      "college[T.True]     0.0645      0.012      5.210      0.000       0.040       0.089\n",
      "married[T.True]    -0.0286      0.007     -4.265      0.000      -0.042      -0.015\n",
      "indig[T.True]      -0.0413      0.009     -4.536      0.000      -0.059      -0.023\n",
      "male                0.1333      0.005     25.055      0.000       0.123       0.144\n",
      "edad                0.0010      0.000      5.711      0.000       0.001       0.001\n",
      "hh_size            -0.0028      0.001     -2.121      0.034      -0.005      -0.000\n",
      "ent_3               0.0500      0.041      1.211      0.226      -0.031       0.131\n",
      "ent_5              -0.0920      0.042     -2.200      0.028      -0.174      -0.010\n",
      "ent_9               0.0073      0.043      0.170      0.865      -0.076       0.091\n",
      "ent_10             -0.0341      0.041     -0.829      0.407      -0.115       0.046\n",
      "ent_11             -0.0561      0.042     -1.347      0.178      -0.138       0.026\n",
      "ent_14             -0.0434      0.042     -1.044      0.296      -0.125       0.038\n",
      "ent_15             -0.0403      0.041     -0.982      0.326      -0.121       0.040\n",
      "ent_16             -0.0728      0.041     -1.770      0.077      -0.153       0.008\n",
      "ent_17              0.0125      0.041      0.303      0.762      -0.069       0.094\n",
      "ent_19             -0.0003      0.041     -0.006      0.995      -0.080       0.079\n",
      "ent_20             -0.0193      0.041     -0.468      0.640      -0.100       0.062\n",
      "ent_21             -0.0286      0.041     -0.691      0.490      -0.110       0.053\n",
      "ent_25              0.0056      0.041      0.138      0.890      -0.074       0.085\n",
      "ent_26              0.0063      0.041      0.156      0.876      -0.073       0.086\n",
      "ent_30             -0.0357      0.041     -0.877      0.380      -0.115       0.044\n",
      "ent_31             -0.0502      0.042     -1.193      0.233      -0.133       0.032\n",
      "===================================================================================\n"
     ]
    }
   ],
   "source": [
    "reg = smf.probit('mg_perm_job ~ hs + college' + dg_formula + ent_dummies_formula, data = regdf).fit()\n",
    "print(reg.summary())\n",
    "print(reg.get_margeff().summary())"
   ]
  },
  {
   "cell_type": "markdown",
   "metadata": {},
   "source": [
    "#### (C5)"
   ]
  },
  {
   "cell_type": "code",
   "execution_count": 50,
   "metadata": {
    "scrolled": true
   },
   "outputs": [
    {
     "name": "stdout",
     "output_type": "stream",
     "text": [
      "Optimization terminated successfully.\n",
      "         Current function value: 0.349107\n",
      "         Iterations 6\n",
      "                          Probit Regression Results                           \n",
      "==============================================================================\n",
      "Dep. Variable:            mg_perm_job   No. Observations:                14956\n",
      "Model:                         Probit   Df Residuals:                    14949\n",
      "Method:                           MLE   Df Model:                            6\n",
      "Date:                Sun, 12 Jan 2020   Pseudo R-squ.:                 0.07166\n",
      "Time:                        22:28:22   Log-Likelihood:                -5221.2\n",
      "converged:                       True   LL-Null:                       -5624.3\n",
      "Covariance Type:            nonrobust   LLR p-value:                7.602e-171\n",
      "=====================================================================================\n",
      "                        coef    std err          z      P>|z|      [0.025      0.975]\n",
      "-------------------------------------------------------------------------------------\n",
      "Intercept            -1.5226      0.068    -22.491      0.000      -1.655      -1.390\n",
      "technical[T.True]     0.0753      0.044      1.727      0.084      -0.010       0.161\n",
      "married[T.True]      -0.1658      0.035     -4.687      0.000      -0.235      -0.096\n",
      "indig[T.True]        -0.2497      0.045     -5.603      0.000      -0.337      -0.162\n",
      "male                  0.7118      0.028     25.217      0.000       0.657       0.767\n",
      "edad                  0.0053      0.001      5.798      0.000       0.004       0.007\n",
      "hh_size              -0.0196      0.007     -2.886      0.004      -0.033      -0.006\n",
      "=====================================================================================\n",
      "       Probit Marginal Effects       \n",
      "=====================================\n",
      "Dep. Variable:            mg_perm_job\n",
      "Method:                          dydx\n",
      "At:                           overall\n",
      "=====================================================================================\n",
      "                       dy/dx    std err          z      P>|z|      [0.025      0.975]\n",
      "-------------------------------------------------------------------------------------\n",
      "technical[T.True]     0.0144      0.008      1.727      0.084      -0.002       0.031\n",
      "married[T.True]      -0.0317      0.007     -4.690      0.000      -0.045      -0.018\n",
      "indig[T.True]        -0.0478      0.009     -5.606      0.000      -0.064      -0.031\n",
      "male                  0.1361      0.005     25.467      0.000       0.126       0.147\n",
      "edad                  0.0010      0.000      5.802      0.000       0.001       0.001\n",
      "hh_size              -0.0037      0.001     -2.887      0.004      -0.006      -0.001\n",
      "=====================================================================================\n"
     ]
    }
   ],
   "source": [
    "reg = smf.probit('mg_perm_job ~ technical' + dg_formula, data = regdf).fit()\n",
    "print(reg.summary())\n",
    "print(reg.get_margeff().summary())"
   ]
  },
  {
   "cell_type": "markdown",
   "metadata": {},
   "source": [
    "#### (C6)"
   ]
  },
  {
   "cell_type": "code",
   "execution_count": 51,
   "metadata": {
    "scrolled": true
   },
   "outputs": [
    {
     "name": "stdout",
     "output_type": "stream",
     "text": [
      "Optimization terminated successfully.\n",
      "         Current function value: 0.343816\n",
      "         Iterations 6\n",
      "                          Probit Regression Results                           \n",
      "==============================================================================\n",
      "Dep. Variable:            mg_perm_job   No. Observations:                14956\n",
      "Model:                         Probit   Df Residuals:                    14933\n",
      "Method:                           MLE   Df Model:                           22\n",
      "Date:                Sun, 12 Jan 2020   Pseudo R-squ.:                 0.08573\n",
      "Time:                        22:28:22   Log-Likelihood:                -5142.1\n",
      "converged:                       True   LL-Null:                       -5624.3\n",
      "Covariance Type:            nonrobust   LLR p-value:                7.644e-190\n",
      "=====================================================================================\n",
      "                        coef    std err          z      P>|z|      [0.025      0.975]\n",
      "-------------------------------------------------------------------------------------\n",
      "Intercept            -1.4538      0.220     -6.594      0.000      -1.886      -1.022\n",
      "technical[T.True]     0.0459      0.044      1.038      0.299      -0.041       0.133\n",
      "married[T.True]      -0.1470      0.036     -4.114      0.000      -0.217      -0.077\n",
      "indig[T.True]        -0.2247      0.048     -4.643      0.000      -0.320      -0.130\n",
      "male                  0.7179      0.029     25.178      0.000       0.662       0.774\n",
      "edad                  0.0055      0.001      5.918      0.000       0.004       0.007\n",
      "hh_size              -0.0168      0.007     -2.438      0.015      -0.030      -0.003\n",
      "ent_3                 0.2707      0.220      1.232      0.218      -0.160       0.701\n",
      "ent_5                -0.4639      0.222     -2.086      0.037      -0.900      -0.028\n",
      "ent_9                 0.0572      0.227      0.252      0.801      -0.388       0.502\n",
      "ent_10               -0.1720      0.219     -0.787      0.431      -0.600       0.256\n",
      "ent_11               -0.2977      0.222     -1.344      0.179      -0.732       0.136\n",
      "ent_14               -0.2022      0.221     -0.916      0.360      -0.635       0.231\n",
      "ent_15               -0.2095      0.218     -0.960      0.337      -0.637       0.218\n",
      "ent_16               -0.3791      0.219     -1.733      0.083      -0.808       0.050\n",
      "ent_17                0.0822      0.220      0.374      0.709      -0.349       0.514\n",
      "ent_19                0.0117      0.216      0.054      0.957      -0.412       0.435\n",
      "ent_20               -0.0848      0.220     -0.386      0.699      -0.515       0.346\n",
      "ent_21               -0.1290      0.220     -0.585      0.558      -0.561       0.303\n",
      "ent_25                0.0320      0.216      0.148      0.882      -0.391       0.455\n",
      "ent_26                0.0460      0.216      0.213      0.831      -0.377       0.469\n",
      "ent_30               -0.1659      0.216     -0.767      0.443      -0.590       0.258\n",
      "ent_31               -0.2559      0.224     -1.144      0.253      -0.694       0.182\n",
      "=====================================================================================\n",
      "       Probit Marginal Effects       \n",
      "=====================================\n",
      "Dep. Variable:            mg_perm_job\n",
      "Method:                          dydx\n",
      "At:                           overall\n",
      "=====================================================================================\n",
      "                       dy/dx    std err          z      P>|z|      [0.025      0.975]\n",
      "-------------------------------------------------------------------------------------\n",
      "technical[T.True]     0.0087      0.008      1.038      0.299      -0.008       0.025\n",
      "married[T.True]      -0.0277      0.007     -4.116      0.000      -0.041      -0.015\n",
      "indig[T.True]        -0.0424      0.009     -4.645      0.000      -0.060      -0.024\n",
      "male                  0.1353      0.005     25.483      0.000       0.125       0.146\n",
      "edad                  0.0010      0.000      5.921      0.000       0.001       0.001\n",
      "hh_size              -0.0032      0.001     -2.439      0.015      -0.006      -0.001\n",
      "ent_3                 0.0510      0.041      1.232      0.218      -0.030       0.132\n",
      "ent_5                -0.0874      0.042     -2.086      0.037      -0.170      -0.005\n",
      "ent_9                 0.0108      0.043      0.252      0.801      -0.073       0.095\n",
      "ent_10               -0.0324      0.041     -0.787      0.431      -0.113       0.048\n",
      "ent_11               -0.0561      0.042     -1.344      0.179      -0.138       0.026\n",
      "ent_14               -0.0381      0.042     -0.916      0.360      -0.120       0.043\n",
      "ent_15               -0.0395      0.041     -0.960      0.337      -0.120       0.041\n",
      "ent_16               -0.0714      0.041     -1.733      0.083      -0.152       0.009\n",
      "ent_17                0.0155      0.041      0.374      0.709      -0.066       0.097\n",
      "ent_19                0.0022      0.041      0.054      0.957      -0.078       0.082\n",
      "ent_20               -0.0160      0.041     -0.386      0.699      -0.097       0.065\n",
      "ent_21               -0.0243      0.042     -0.585      0.558      -0.106       0.057\n",
      "ent_25                0.0060      0.041      0.148      0.882      -0.074       0.086\n",
      "ent_26                0.0087      0.041      0.213      0.831      -0.071       0.088\n",
      "ent_30               -0.0313      0.041     -0.767      0.443      -0.111       0.049\n",
      "ent_31               -0.0482      0.042     -1.144      0.253      -0.131       0.034\n",
      "=====================================================================================\n"
     ]
    }
   ],
   "source": [
    "reg = smf.probit('mg_perm_job ~ technical' + dg_formula + ent_dummies_formula, data = regdf).fit()\n",
    "print(reg.summary())\n",
    "print(reg.get_margeff().summary())"
   ]
  },
  {
   "cell_type": "markdown",
   "metadata": {},
   "source": [
    "#### (C7)"
   ]
  },
  {
   "cell_type": "code",
   "execution_count": 52,
   "metadata": {
    "scrolled": true
   },
   "outputs": [
    {
     "name": "stdout",
     "output_type": "stream",
     "text": [
      "Optimization terminated successfully.\n",
      "         Current function value: 0.348017\n",
      "         Iterations 6\n",
      "                          Probit Regression Results                           \n",
      "==============================================================================\n",
      "Dep. Variable:            mg_perm_job   No. Observations:                14956\n",
      "Model:                         Probit   Df Residuals:                    14947\n",
      "Method:                           MLE   Df Model:                            8\n",
      "Date:                Sun, 12 Jan 2020   Pseudo R-squ.:                 0.07455\n",
      "Time:                        22:28:23   Log-Likelihood:                -5204.9\n",
      "converged:                       True   LL-Null:                       -5624.3\n",
      "Covariance Type:            nonrobust   LLR p-value:                9.678e-176\n",
      "=====================================================================================\n",
      "                        coef    std err          z      P>|z|      [0.025      0.975]\n",
      "-------------------------------------------------------------------------------------\n",
      "Intercept            -1.5535      0.069    -22.359      0.000      -1.690      -1.417\n",
      "hs[T.True]           -0.0611      0.054     -1.140      0.254      -0.166       0.044\n",
      "college[T.True]       0.3139      0.066      4.778      0.000       0.185       0.443\n",
      "technical[T.True]     0.0709      0.045      1.585      0.113      -0.017       0.159\n",
      "married[T.True]      -0.1709      0.035     -4.823      0.000      -0.240      -0.101\n",
      "indig[T.True]        -0.2449      0.045     -5.479      0.000      -0.333      -0.157\n",
      "male                  0.7042      0.028     24.749      0.000       0.648       0.760\n",
      "edad                  0.0055      0.001      5.825      0.000       0.004       0.007\n",
      "hh_size              -0.0167      0.007     -2.443      0.015      -0.030      -0.003\n",
      "=====================================================================================\n",
      "       Probit Marginal Effects       \n",
      "=====================================\n",
      "Dep. Variable:            mg_perm_job\n",
      "Method:                          dydx\n",
      "At:                           overall\n",
      "=====================================================================================\n",
      "                       dy/dx    std err          z      P>|z|      [0.025      0.975]\n",
      "-------------------------------------------------------------------------------------\n",
      "hs[T.True]           -0.0116      0.010     -1.141      0.254      -0.032       0.008\n",
      "college[T.True]       0.0598      0.013      4.783      0.000       0.035       0.084\n",
      "technical[T.True]     0.0135      0.009      1.585      0.113      -0.003       0.030\n",
      "married[T.True]      -0.0326      0.007     -4.826      0.000      -0.046      -0.019\n",
      "indig[T.True]        -0.0467      0.009     -5.481      0.000      -0.063      -0.030\n",
      "male                  0.1342      0.005     25.001      0.000       0.124       0.145\n",
      "edad                  0.0010      0.000      5.828      0.000       0.001       0.001\n",
      "hh_size              -0.0032      0.001     -2.443      0.015      -0.006      -0.001\n",
      "=====================================================================================\n"
     ]
    }
   ],
   "source": [
    "reg = smf.probit('mg_perm_job ~ hs + college + technical' + dg_formula, data = regdf).fit()\n",
    "print(reg.summary())\n",
    "print(reg.get_margeff().summary())"
   ]
  },
  {
   "cell_type": "markdown",
   "metadata": {},
   "source": [
    "#### (C8)"
   ]
  },
  {
   "cell_type": "code",
   "execution_count": 53,
   "metadata": {
    "scrolled": true
   },
   "outputs": [
    {
     "name": "stdout",
     "output_type": "stream",
     "text": [
      "Optimization terminated successfully.\n",
      "         Current function value: 0.342662\n",
      "         Iterations 6\n",
      "                          Probit Regression Results                           \n",
      "==============================================================================\n",
      "Dep. Variable:            mg_perm_job   No. Observations:                14956\n",
      "Model:                         Probit   Df Residuals:                    14931\n",
      "Method:                           MLE   Df Model:                           24\n",
      "Date:                Sun, 12 Jan 2020   Pseudo R-squ.:                 0.08879\n",
      "Time:                        22:28:23   Log-Likelihood:                -5124.9\n",
      "converged:                       True   LL-Null:                       -5624.3\n",
      "Covariance Type:            nonrobust   LLR p-value:                1.598e-195\n",
      "=====================================================================================\n",
      "                        coef    std err          z      P>|z|      [0.025      0.975]\n",
      "-------------------------------------------------------------------------------------\n",
      "Intercept            -1.4627      0.221     -6.620      0.000      -1.896      -1.030\n",
      "hs[T.True]           -0.1012      0.054     -1.871      0.061      -0.207       0.005\n",
      "college[T.True]       0.3504      0.066      5.279      0.000       0.220       0.480\n",
      "technical[T.True]     0.0486      0.045      1.072      0.284      -0.040       0.137\n",
      "married[T.True]      -0.1526      0.036     -4.263      0.000      -0.223      -0.082\n",
      "indig[T.True]        -0.2185      0.049     -4.501      0.000      -0.314      -0.123\n",
      "male                  0.7121      0.029     24.764      0.000       0.656       0.768\n",
      "edad                  0.0055      0.001      5.784      0.000       0.004       0.007\n",
      "hh_size              -0.0144      0.007     -2.072      0.038      -0.028      -0.001\n",
      "ent_3                 0.2651      0.220      1.205      0.228      -0.166       0.696\n",
      "ent_5                -0.4890      0.223     -2.197      0.028      -0.925      -0.053\n",
      "ent_9                 0.0387      0.227      0.170      0.865      -0.406       0.484\n",
      "ent_10               -0.1775      0.219     -0.811      0.417      -0.606       0.251\n",
      "ent_11               -0.2952      0.222     -1.332      0.183      -0.730       0.139\n",
      "ent_14               -0.2296      0.221     -1.039      0.299      -0.663       0.204\n",
      "ent_15               -0.2128      0.218     -0.974      0.330      -0.641       0.215\n",
      "ent_16               -0.3847      0.219     -1.758      0.079      -0.814       0.044\n",
      "ent_17                0.0685      0.220      0.311      0.756      -0.363       0.500\n",
      "ent_19             4.763e-05      0.216      0.000      1.000      -0.424       0.424\n",
      "ent_20               -0.1001      0.220     -0.455      0.649      -0.531       0.331\n",
      "ent_21               -0.1490      0.221     -0.676      0.499      -0.581       0.283\n",
      "ent_25                0.0331      0.216      0.153      0.878      -0.391       0.457\n",
      "ent_26                0.0336      0.216      0.155      0.877      -0.390       0.457\n",
      "ent_30               -0.1867      0.216     -0.863      0.388      -0.611       0.237\n",
      "ent_31               -0.2694      0.224     -1.204      0.229      -0.708       0.169\n",
      "=====================================================================================\n",
      "       Probit Marginal Effects       \n",
      "=====================================\n",
      "Dep. Variable:            mg_perm_job\n",
      "Method:                          dydx\n",
      "At:                           overall\n",
      "=====================================================================================\n",
      "                       dy/dx    std err          z      P>|z|      [0.025      0.975]\n",
      "-------------------------------------------------------------------------------------\n",
      "hs[T.True]           -0.0190      0.010     -1.872      0.061      -0.039       0.001\n",
      "college[T.True]       0.0658      0.012      5.287      0.000       0.041       0.090\n",
      "technical[T.True]     0.0091      0.009      1.072      0.284      -0.008       0.026\n",
      "married[T.True]      -0.0286      0.007     -4.265      0.000      -0.042      -0.015\n",
      "indig[T.True]        -0.0410      0.009     -4.503      0.000      -0.059      -0.023\n",
      "male                  0.1337      0.005     25.069      0.000       0.123       0.144\n",
      "edad                  0.0010      0.000      5.785      0.000       0.001       0.001\n",
      "hh_size              -0.0027      0.001     -2.073      0.038      -0.005      -0.000\n",
      "ent_3                 0.0498      0.041      1.206      0.228      -0.031       0.131\n",
      "ent_5                -0.0918      0.042     -2.197      0.028      -0.174      -0.010\n",
      "ent_9                 0.0073      0.043      0.170      0.865      -0.076       0.091\n",
      "ent_10               -0.0333      0.041     -0.811      0.417      -0.114       0.047\n",
      "ent_11               -0.0554      0.042     -1.332      0.183      -0.137       0.026\n",
      "ent_14               -0.0431      0.042     -1.039      0.299      -0.124       0.038\n",
      "ent_15               -0.0400      0.041     -0.974      0.330      -0.120       0.040\n",
      "ent_16               -0.0722      0.041     -1.758      0.079      -0.153       0.008\n",
      "ent_17                0.0129      0.041      0.311      0.756      -0.068       0.094\n",
      "ent_19             8.943e-06      0.041      0.000      1.000      -0.080       0.080\n",
      "ent_20               -0.0188      0.041     -0.455      0.649      -0.100       0.062\n",
      "ent_21               -0.0280      0.041     -0.676      0.499      -0.109       0.053\n",
      "ent_25                0.0062      0.041      0.153      0.878      -0.073       0.086\n",
      "ent_26                0.0063      0.041      0.155      0.877      -0.073       0.086\n",
      "ent_30               -0.0351      0.041     -0.863      0.388      -0.115       0.045\n",
      "ent_31               -0.0506      0.042     -1.204      0.229      -0.133       0.032\n",
      "=====================================================================================\n"
     ]
    }
   ],
   "source": [
    "reg = smf.probit('mg_perm_job ~ hs + college + technical' + dg_formula + ent_dummies_formula, data = regdf).fit()\n",
    "print(reg.summary())\n",
    "print(reg.get_margeff().summary())"
   ]
  },
  {
   "cell_type": "markdown",
   "metadata": {},
   "source": [
    "#### (C9)"
   ]
  },
  {
   "cell_type": "code",
   "execution_count": 54,
   "metadata": {
    "scrolled": true
   },
   "outputs": [
    {
     "name": "stdout",
     "output_type": "stream",
     "text": [
      "Optimization terminated successfully.\n",
      "         Current function value: 0.352371\n",
      "         Iterations 6\n",
      "                          Probit Regression Results                           \n",
      "==============================================================================\n",
      "Dep. Variable:            mg_perm_job   No. Observations:                12088\n",
      "Model:                         Probit   Df Residuals:                    12081\n",
      "Method:                           MLE   Df Model:                            6\n",
      "Date:                Sun, 12 Jan 2020   Pseudo R-squ.:                 0.07030\n",
      "Time:                        22:28:24   Log-Likelihood:                -4259.5\n",
      "converged:                       True   LL-Null:                       -4581.6\n",
      "Covariance Type:            nonrobust   LLR p-value:                6.736e-136\n",
      "===================================================================================\n",
      "                      coef    std err          z      P>|z|      [0.025      0.975]\n",
      "-----------------------------------------------------------------------------------\n",
      "Intercept          -1.6700      0.080    -20.780      0.000      -1.828      -1.513\n",
      "married[T.True]    -0.1542      0.041     -3.806      0.000      -0.234      -0.075\n",
      "indig[T.True]      -0.1474      0.051     -2.864      0.004      -0.248      -0.047\n",
      "years_ed            0.0090      0.002      4.096      0.000       0.005       0.013\n",
      "male                0.6687      0.031     21.363      0.000       0.607       0.730\n",
      "edad                0.0079      0.001      7.226      0.000       0.006       0.010\n",
      "hh_size            -0.0224      0.008     -2.869      0.004      -0.038      -0.007\n",
      "===================================================================================\n",
      "       Probit Marginal Effects       \n",
      "=====================================\n",
      "Dep. Variable:            mg_perm_job\n",
      "Method:                          dydx\n",
      "At:                           overall\n",
      "===================================================================================\n",
      "                     dy/dx    std err          z      P>|z|      [0.025      0.975]\n",
      "-----------------------------------------------------------------------------------\n",
      "married[T.True]    -0.0298      0.008     -3.808      0.000      -0.045      -0.014\n",
      "indig[T.True]      -0.0285      0.010     -2.865      0.004      -0.048      -0.009\n",
      "years_ed            0.0017      0.000      4.099      0.000       0.001       0.003\n",
      "male                0.1291      0.006     21.556      0.000       0.117       0.141\n",
      "edad                0.0015      0.000      7.238      0.000       0.001       0.002\n",
      "hh_size            -0.0043      0.002     -2.870      0.004      -0.007      -0.001\n",
      "===================================================================================\n"
     ]
    }
   ],
   "source": [
    "reg = smf.probit('mg_perm_job ~ years_ed' + dg_formula, data = regdf).fit()\n",
    "print(reg.summary())\n",
    "print(reg.get_margeff().summary())"
   ]
  },
  {
   "cell_type": "markdown",
   "metadata": {},
   "source": [
    "#### (C10)"
   ]
  },
  {
   "cell_type": "code",
   "execution_count": 55,
   "metadata": {
    "scrolled": true
   },
   "outputs": [
    {
     "name": "stdout",
     "output_type": "stream",
     "text": [
      "Optimization terminated successfully.\n",
      "         Current function value: 0.348501\n",
      "         Iterations 6\n",
      "                          Probit Regression Results                           \n",
      "==============================================================================\n",
      "Dep. Variable:            mg_perm_job   No. Observations:                12088\n",
      "Model:                         Probit   Df Residuals:                    12065\n",
      "Method:                           MLE   Df Model:                           22\n",
      "Date:                Sun, 12 Jan 2020   Pseudo R-squ.:                 0.08052\n",
      "Time:                        22:28:24   Log-Likelihood:                -4212.7\n",
      "converged:                       True   LL-Null:                       -4581.6\n",
      "Covariance Type:            nonrobust   LLR p-value:                8.198e-142\n",
      "===================================================================================\n",
      "                      coef    std err          z      P>|z|      [0.025      0.975]\n",
      "-----------------------------------------------------------------------------------\n",
      "Intercept          -1.9756      0.292     -6.770      0.000      -2.547      -1.404\n",
      "married[T.True]    -0.1404      0.041     -3.438      0.001      -0.220      -0.060\n",
      "indig[T.True]      -0.1325      0.056     -2.379      0.017      -0.242      -0.023\n",
      "years_ed            0.0083      0.002      3.708      0.000       0.004       0.013\n",
      "male                0.6773      0.032     21.463      0.000       0.615       0.739\n",
      "edad                0.0078      0.001      7.088      0.000       0.006       0.010\n",
      "hh_size            -0.0215      0.008     -2.719      0.007      -0.037      -0.006\n",
      "ent_3               0.6189      0.290      2.137      0.033       0.051       1.187\n",
      "ent_5              -0.0321      0.291     -0.110      0.912      -0.602       0.538\n",
      "ent_9               0.3804      0.296      1.284      0.199      -0.200       0.961\n",
      "ent_10              0.2478      0.288      0.860      0.390      -0.317       0.812\n",
      "ent_11              0.1776      0.293      0.606      0.544      -0.397       0.752\n",
      "ent_14              0.1549      0.291      0.533      0.594      -0.415       0.725\n",
      "ent_15              0.2180      0.289      0.755      0.450      -0.348       0.784\n",
      "ent_16              0.0946      0.290      0.327      0.744      -0.473       0.662\n",
      "ent_17              0.4552      0.290      1.570      0.117      -0.113       1.024\n",
      "ent_19              0.3958      0.286      1.383      0.167      -0.165       0.957\n",
      "ent_20              0.4285      0.290      1.477      0.140      -0.140       0.997\n",
      "ent_21              0.2853      0.291      0.980      0.327      -0.286       0.856\n",
      "ent_25              0.3890      0.286      1.358      0.174      -0.172       0.950\n",
      "ent_26              0.3758      0.286      1.313      0.189      -0.185       0.937\n",
      "ent_30              0.2442      0.286      0.853      0.394      -0.317       0.806\n",
      "ent_31              0.1404      0.293      0.480      0.631      -0.433       0.714\n",
      "===================================================================================\n",
      "       Probit Marginal Effects       \n",
      "=====================================\n",
      "Dep. Variable:            mg_perm_job\n",
      "Method:                          dydx\n",
      "At:                           overall\n",
      "===================================================================================\n",
      "                     dy/dx    std err          z      P>|z|      [0.025      0.975]\n",
      "-----------------------------------------------------------------------------------\n",
      "married[T.True]    -0.0268      0.008     -3.439      0.001      -0.042      -0.012\n",
      "indig[T.True]      -0.0253      0.011     -2.379      0.017      -0.046      -0.004\n",
      "years_ed            0.0016      0.000      3.710      0.000       0.001       0.002\n",
      "male                0.1294      0.006     21.691      0.000       0.118       0.141\n",
      "edad                0.0015      0.000      7.098      0.000       0.001       0.002\n",
      "hh_size            -0.0041      0.002     -2.720      0.007      -0.007      -0.001\n",
      "ent_3               0.1182      0.055      2.137      0.033       0.010       0.227\n",
      "ent_5              -0.0061      0.056     -0.110      0.912      -0.115       0.103\n",
      "ent_9               0.0727      0.057      1.284      0.199      -0.038       0.184\n",
      "ent_10              0.0473      0.055      0.860      0.390      -0.061       0.155\n",
      "ent_11              0.0339      0.056      0.606      0.544      -0.076       0.144\n",
      "ent_14              0.0296      0.056      0.533      0.594      -0.079       0.138\n",
      "ent_15              0.0416      0.055      0.755      0.450      -0.066       0.150\n",
      "ent_16              0.0181      0.055      0.327      0.744      -0.090       0.126\n",
      "ent_17              0.0870      0.055      1.570      0.116      -0.022       0.196\n",
      "ent_19              0.0756      0.055      1.383      0.167      -0.032       0.183\n",
      "ent_20              0.0819      0.055      1.477      0.140      -0.027       0.191\n",
      "ent_21              0.0545      0.056      0.980      0.327      -0.055       0.164\n",
      "ent_25              0.0743      0.055      1.359      0.174      -0.033       0.182\n",
      "ent_26              0.0718      0.055      1.313      0.189      -0.035       0.179\n",
      "ent_30              0.0467      0.055      0.853      0.394      -0.061       0.154\n",
      "ent_31              0.0268      0.056      0.480      0.631      -0.083       0.136\n",
      "===================================================================================\n"
     ]
    }
   ],
   "source": [
    "reg = smf.probit('mg_perm_job ~ years_ed' + dg_formula + ent_dummies_formula, data = regdf).fit()\n",
    "print(reg.summary())\n",
    "print(reg.get_margeff().summary())"
   ]
  },
  {
   "cell_type": "markdown",
   "metadata": {},
   "source": [
    "#### (C11)"
   ]
  },
  {
   "cell_type": "code",
   "execution_count": 56,
   "metadata": {
    "scrolled": true
   },
   "outputs": [
    {
     "name": "stdout",
     "output_type": "stream",
     "text": [
      "Optimization terminated successfully.\n",
      "         Current function value: 0.348854\n",
      "         Iterations 6\n",
      "                          Probit Regression Results                           \n",
      "==============================================================================\n",
      "Dep. Variable:            mg_perm_job   No. Observations:                14956\n",
      "Model:                         Probit   Df Residuals:                    14949\n",
      "Method:                           MLE   Df Model:                            6\n",
      "Date:                Sun, 12 Jan 2020   Pseudo R-squ.:                 0.07233\n",
      "Time:                        22:28:25   Log-Likelihood:                -5217.5\n",
      "converged:                       True   LL-Null:                       -5624.3\n",
      "Covariance Type:            nonrobust   LLR p-value:                1.773e-172\n",
      "===================================================================================\n",
      "                      coef    std err          z      P>|z|      [0.025      0.975]\n",
      "-----------------------------------------------------------------------------------\n",
      "Intercept          -1.5826      0.071    -22.240      0.000      -1.722      -1.443\n",
      "married[T.True]    -0.1666      0.035     -4.708      0.000      -0.236      -0.097\n",
      "indig[T.True]      -0.2478      0.045     -5.560      0.000      -0.335      -0.160\n",
      "years_ed_impute     0.0070      0.002      3.254      0.001       0.003       0.011\n",
      "male                0.7024      0.028     24.829      0.000       0.647       0.758\n",
      "edad                0.0055      0.001      5.983      0.000       0.004       0.007\n",
      "hh_size            -0.0186      0.007     -2.746      0.006      -0.032      -0.005\n",
      "===================================================================================\n",
      "       Probit Marginal Effects       \n",
      "=====================================\n",
      "Dep. Variable:            mg_perm_job\n",
      "Method:                          dydx\n",
      "At:                           overall\n",
      "===================================================================================\n",
      "                     dy/dx    std err          z      P>|z|      [0.025      0.975]\n",
      "-----------------------------------------------------------------------------------\n",
      "married[T.True]    -0.0318      0.007     -4.710      0.000      -0.045      -0.019\n",
      "indig[T.True]      -0.0473      0.009     -5.563      0.000      -0.064      -0.031\n",
      "years_ed_impute     0.0013      0.000      3.254      0.001       0.001       0.002\n",
      "male                0.1342      0.005     25.068      0.000       0.124       0.145\n",
      "edad                0.0010      0.000      5.987      0.000       0.001       0.001\n",
      "hh_size            -0.0036      0.001     -2.747      0.006      -0.006      -0.001\n",
      "===================================================================================\n"
     ]
    }
   ],
   "source": [
    "reg = smf.probit('mg_perm_job ~ years_ed_impute' + dg_formula, data = regdf).fit()\n",
    "print(reg.summary())\n",
    "print(reg.get_margeff().summary())"
   ]
  },
  {
   "cell_type": "markdown",
   "metadata": {},
   "source": [
    "#### (C12)"
   ]
  },
  {
   "cell_type": "code",
   "execution_count": 57,
   "metadata": {
    "scrolled": true
   },
   "outputs": [
    {
     "name": "stdout",
     "output_type": "stream",
     "text": [
      "Optimization terminated successfully.\n",
      "         Current function value: 0.343595\n",
      "         Iterations 6\n",
      "                          Probit Regression Results                           \n",
      "==============================================================================\n",
      "Dep. Variable:            mg_perm_job   No. Observations:                14956\n",
      "Model:                         Probit   Df Residuals:                    14933\n",
      "Method:                           MLE   Df Model:                           22\n",
      "Date:                Sun, 12 Jan 2020   Pseudo R-squ.:                 0.08631\n",
      "Time:                        22:28:25   Log-Likelihood:                -5138.8\n",
      "converged:                       True   LL-Null:                       -5624.3\n",
      "Covariance Type:            nonrobust   LLR p-value:                3.028e-191\n",
      "===================================================================================\n",
      "                      coef    std err          z      P>|z|      [0.025      0.975]\n",
      "-----------------------------------------------------------------------------------\n",
      "Intercept          -1.5046      0.221     -6.803      0.000      -1.938      -1.071\n",
      "married[T.True]    -0.1477      0.036     -4.133      0.000      -0.218      -0.078\n",
      "indig[T.True]      -0.2216      0.048     -4.579      0.000      -0.316      -0.127\n",
      "years_ed_impute     0.0061      0.002      2.778      0.005       0.002       0.010\n",
      "male                0.7101      0.029     24.846      0.000       0.654       0.766\n",
      "edad                0.0057      0.001      6.140      0.000       0.004       0.007\n",
      "hh_size            -0.0158      0.007     -2.292      0.022      -0.029      -0.002\n",
      "ent_3               0.2597      0.220      1.182      0.237      -0.171       0.690\n",
      "ent_5              -0.4728      0.222     -2.127      0.033      -0.908      -0.037\n",
      "ent_9               0.0471      0.227      0.208      0.836      -0.397       0.492\n",
      "ent_10             -0.1729      0.218     -0.791      0.429      -0.601       0.255\n",
      "ent_11             -0.3018      0.221     -1.363      0.173      -0.736       0.132\n",
      "ent_14             -0.2143      0.221     -0.971      0.332      -0.647       0.218\n",
      "ent_15             -0.2154      0.218     -0.987      0.324      -0.643       0.212\n",
      "ent_16             -0.3862      0.219     -1.766      0.077      -0.815       0.042\n",
      "ent_17              0.0709      0.220      0.322      0.747      -0.360       0.502\n",
      "ent_19              0.0063      0.216      0.029      0.977      -0.417       0.430\n",
      "ent_20             -0.0948      0.220     -0.432      0.666      -0.525       0.335\n",
      "ent_21             -0.1385      0.220     -0.629      0.529      -0.570       0.293\n",
      "ent_25              0.0253      0.216      0.117      0.907      -0.398       0.448\n",
      "ent_26              0.0396      0.216      0.183      0.854      -0.383       0.463\n",
      "ent_30             -0.1738      0.216     -0.804      0.421      -0.597       0.250\n",
      "ent_31             -0.2624      0.224     -1.174      0.240      -0.701       0.176\n",
      "===================================================================================\n",
      "       Probit Marginal Effects       \n",
      "=====================================\n",
      "Dep. Variable:            mg_perm_job\n",
      "Method:                          dydx\n",
      "At:                           overall\n",
      "===================================================================================\n",
      "                     dy/dx    std err          z      P>|z|      [0.025      0.975]\n",
      "-----------------------------------------------------------------------------------\n",
      "married[T.True]    -0.0278      0.007     -4.135      0.000      -0.041      -0.015\n",
      "indig[T.True]      -0.0417      0.009     -4.581      0.000      -0.060      -0.024\n",
      "years_ed_impute     0.0011      0.000      2.779      0.005       0.000       0.002\n",
      "male                0.1337      0.005     25.139      0.000       0.123       0.144\n",
      "edad                0.0011      0.000      6.143      0.000       0.001       0.001\n",
      "hh_size            -0.0030      0.001     -2.293      0.022      -0.006      -0.000\n",
      "ent_3               0.0489      0.041      1.182      0.237      -0.032       0.130\n",
      "ent_5              -0.0890      0.042     -2.127      0.033      -0.171      -0.007\n",
      "ent_9               0.0089      0.043      0.208      0.836      -0.075       0.093\n",
      "ent_10             -0.0326      0.041     -0.791      0.429      -0.113       0.048\n",
      "ent_11             -0.0568      0.042     -1.363      0.173      -0.139       0.025\n",
      "ent_14             -0.0404      0.042     -0.971      0.332      -0.122       0.041\n",
      "ent_15             -0.0406      0.041     -0.987      0.324      -0.121       0.040\n",
      "ent_16             -0.0727      0.041     -1.766      0.077      -0.153       0.008\n",
      "ent_17              0.0133      0.041      0.322      0.747      -0.068       0.095\n",
      "ent_19              0.0012      0.041      0.029      0.977      -0.079       0.081\n",
      "ent_20             -0.0179      0.041     -0.432      0.666      -0.099       0.063\n",
      "ent_21             -0.0261      0.041     -0.629      0.529      -0.107       0.055\n",
      "ent_25              0.0048      0.041      0.117      0.907      -0.075       0.084\n",
      "ent_26              0.0075      0.041      0.183      0.854      -0.072       0.087\n",
      "ent_30             -0.0327      0.041     -0.804      0.421      -0.113       0.047\n",
      "ent_31             -0.0494      0.042     -1.174      0.240      -0.132       0.033\n",
      "===================================================================================\n"
     ]
    }
   ],
   "source": [
    "reg = smf.probit('mg_perm_job ~ years_ed_impute' + dg_formula + ent_dummies_formula, data = regdf).fit()\n",
    "print(reg.summary())\n",
    "print(reg.get_margeff().summary())"
   ]
  }
 ],
 "metadata": {
  "kernelspec": {
   "display_name": "Environment (conda_econ)",
   "language": "python",
   "name": "conda_econ"
  },
  "language_info": {
   "codemirror_mode": {
    "name": "ipython",
    "version": 3
   },
   "file_extension": ".py",
   "mimetype": "text/x-python",
   "name": "python",
   "nbconvert_exporter": "python",
   "pygments_lexer": "ipython3",
   "version": "3.7.6"
  }
 },
 "nbformat": 4,
 "nbformat_minor": 2
}
